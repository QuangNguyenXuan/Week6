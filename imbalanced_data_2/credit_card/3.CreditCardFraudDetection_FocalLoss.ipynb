{
 "cells": [
  {
   "cell_type": "markdown",
   "metadata": {
    "id": "uDLcLQO43-4Q"
   },
   "source": [
    "## First, vectorize the CSV data"
   ]
  },
  {
   "cell_type": "code",
   "execution_count": 22,
   "metadata": {},
   "outputs": [
    {
     "data": {
      "text/html": [
       "<div>\n",
       "<style scoped>\n",
       "    .dataframe tbody tr th:only-of-type {\n",
       "        vertical-align: middle;\n",
       "    }\n",
       "\n",
       "    .dataframe tbody tr th {\n",
       "        vertical-align: top;\n",
       "    }\n",
       "\n",
       "    .dataframe thead th {\n",
       "        text-align: right;\n",
       "    }\n",
       "</style>\n",
       "<table border=\"1\" class=\"dataframe\">\n",
       "  <thead>\n",
       "    <tr style=\"text-align: right;\">\n",
       "      <th></th>\n",
       "      <th>Time</th>\n",
       "      <th>V1</th>\n",
       "      <th>V2</th>\n",
       "      <th>V3</th>\n",
       "      <th>V4</th>\n",
       "      <th>V5</th>\n",
       "      <th>V6</th>\n",
       "      <th>V7</th>\n",
       "      <th>V8</th>\n",
       "      <th>V9</th>\n",
       "      <th>...</th>\n",
       "      <th>V21</th>\n",
       "      <th>V22</th>\n",
       "      <th>V23</th>\n",
       "      <th>V24</th>\n",
       "      <th>V25</th>\n",
       "      <th>V26</th>\n",
       "      <th>V27</th>\n",
       "      <th>V28</th>\n",
       "      <th>Amount</th>\n",
       "      <th>Class</th>\n",
       "    </tr>\n",
       "  </thead>\n",
       "  <tbody>\n",
       "    <tr>\n",
       "      <th>0</th>\n",
       "      <td>0.0</td>\n",
       "      <td>-1.359807</td>\n",
       "      <td>-0.072781</td>\n",
       "      <td>2.536347</td>\n",
       "      <td>1.378155</td>\n",
       "      <td>-0.338321</td>\n",
       "      <td>0.462388</td>\n",
       "      <td>0.239599</td>\n",
       "      <td>0.098698</td>\n",
       "      <td>0.363787</td>\n",
       "      <td>...</td>\n",
       "      <td>-0.018307</td>\n",
       "      <td>0.277838</td>\n",
       "      <td>-0.110474</td>\n",
       "      <td>0.066928</td>\n",
       "      <td>0.128539</td>\n",
       "      <td>-0.189115</td>\n",
       "      <td>0.133558</td>\n",
       "      <td>-0.021053</td>\n",
       "      <td>149.62</td>\n",
       "      <td>0</td>\n",
       "    </tr>\n",
       "    <tr>\n",
       "      <th>1</th>\n",
       "      <td>0.0</td>\n",
       "      <td>1.191857</td>\n",
       "      <td>0.266151</td>\n",
       "      <td>0.166480</td>\n",
       "      <td>0.448154</td>\n",
       "      <td>0.060018</td>\n",
       "      <td>-0.082361</td>\n",
       "      <td>-0.078803</td>\n",
       "      <td>0.085102</td>\n",
       "      <td>-0.255425</td>\n",
       "      <td>...</td>\n",
       "      <td>-0.225775</td>\n",
       "      <td>-0.638672</td>\n",
       "      <td>0.101288</td>\n",
       "      <td>-0.339846</td>\n",
       "      <td>0.167170</td>\n",
       "      <td>0.125895</td>\n",
       "      <td>-0.008983</td>\n",
       "      <td>0.014724</td>\n",
       "      <td>2.69</td>\n",
       "      <td>0</td>\n",
       "    </tr>\n",
       "    <tr>\n",
       "      <th>2</th>\n",
       "      <td>1.0</td>\n",
       "      <td>-1.358354</td>\n",
       "      <td>-1.340163</td>\n",
       "      <td>1.773209</td>\n",
       "      <td>0.379780</td>\n",
       "      <td>-0.503198</td>\n",
       "      <td>1.800499</td>\n",
       "      <td>0.791461</td>\n",
       "      <td>0.247676</td>\n",
       "      <td>-1.514654</td>\n",
       "      <td>...</td>\n",
       "      <td>0.247998</td>\n",
       "      <td>0.771679</td>\n",
       "      <td>0.909412</td>\n",
       "      <td>-0.689281</td>\n",
       "      <td>-0.327642</td>\n",
       "      <td>-0.139097</td>\n",
       "      <td>-0.055353</td>\n",
       "      <td>-0.059752</td>\n",
       "      <td>378.66</td>\n",
       "      <td>0</td>\n",
       "    </tr>\n",
       "    <tr>\n",
       "      <th>3</th>\n",
       "      <td>1.0</td>\n",
       "      <td>-0.966272</td>\n",
       "      <td>-0.185226</td>\n",
       "      <td>1.792993</td>\n",
       "      <td>-0.863291</td>\n",
       "      <td>-0.010309</td>\n",
       "      <td>1.247203</td>\n",
       "      <td>0.237609</td>\n",
       "      <td>0.377436</td>\n",
       "      <td>-1.387024</td>\n",
       "      <td>...</td>\n",
       "      <td>-0.108300</td>\n",
       "      <td>0.005274</td>\n",
       "      <td>-0.190321</td>\n",
       "      <td>-1.175575</td>\n",
       "      <td>0.647376</td>\n",
       "      <td>-0.221929</td>\n",
       "      <td>0.062723</td>\n",
       "      <td>0.061458</td>\n",
       "      <td>123.50</td>\n",
       "      <td>0</td>\n",
       "    </tr>\n",
       "    <tr>\n",
       "      <th>4</th>\n",
       "      <td>2.0</td>\n",
       "      <td>-1.158233</td>\n",
       "      <td>0.877737</td>\n",
       "      <td>1.548718</td>\n",
       "      <td>0.403034</td>\n",
       "      <td>-0.407193</td>\n",
       "      <td>0.095921</td>\n",
       "      <td>0.592941</td>\n",
       "      <td>-0.270533</td>\n",
       "      <td>0.817739</td>\n",
       "      <td>...</td>\n",
       "      <td>-0.009431</td>\n",
       "      <td>0.798278</td>\n",
       "      <td>-0.137458</td>\n",
       "      <td>0.141267</td>\n",
       "      <td>-0.206010</td>\n",
       "      <td>0.502292</td>\n",
       "      <td>0.219422</td>\n",
       "      <td>0.215153</td>\n",
       "      <td>69.99</td>\n",
       "      <td>0</td>\n",
       "    </tr>\n",
       "    <tr>\n",
       "      <th>5</th>\n",
       "      <td>2.0</td>\n",
       "      <td>-0.425966</td>\n",
       "      <td>0.960523</td>\n",
       "      <td>1.141109</td>\n",
       "      <td>-0.168252</td>\n",
       "      <td>0.420987</td>\n",
       "      <td>-0.029728</td>\n",
       "      <td>0.476201</td>\n",
       "      <td>0.260314</td>\n",
       "      <td>-0.568671</td>\n",
       "      <td>...</td>\n",
       "      <td>-0.208254</td>\n",
       "      <td>-0.559825</td>\n",
       "      <td>-0.026398</td>\n",
       "      <td>-0.371427</td>\n",
       "      <td>-0.232794</td>\n",
       "      <td>0.105915</td>\n",
       "      <td>0.253844</td>\n",
       "      <td>0.081080</td>\n",
       "      <td>3.67</td>\n",
       "      <td>0</td>\n",
       "    </tr>\n",
       "    <tr>\n",
       "      <th>6</th>\n",
       "      <td>4.0</td>\n",
       "      <td>1.229658</td>\n",
       "      <td>0.141004</td>\n",
       "      <td>0.045371</td>\n",
       "      <td>1.202613</td>\n",
       "      <td>0.191881</td>\n",
       "      <td>0.272708</td>\n",
       "      <td>-0.005159</td>\n",
       "      <td>0.081213</td>\n",
       "      <td>0.464960</td>\n",
       "      <td>...</td>\n",
       "      <td>-0.167716</td>\n",
       "      <td>-0.270710</td>\n",
       "      <td>-0.154104</td>\n",
       "      <td>-0.780055</td>\n",
       "      <td>0.750137</td>\n",
       "      <td>-0.257237</td>\n",
       "      <td>0.034507</td>\n",
       "      <td>0.005168</td>\n",
       "      <td>4.99</td>\n",
       "      <td>0</td>\n",
       "    </tr>\n",
       "    <tr>\n",
       "      <th>7</th>\n",
       "      <td>7.0</td>\n",
       "      <td>-0.644269</td>\n",
       "      <td>1.417964</td>\n",
       "      <td>1.074380</td>\n",
       "      <td>-0.492199</td>\n",
       "      <td>0.948934</td>\n",
       "      <td>0.428118</td>\n",
       "      <td>1.120631</td>\n",
       "      <td>-3.807864</td>\n",
       "      <td>0.615375</td>\n",
       "      <td>...</td>\n",
       "      <td>1.943465</td>\n",
       "      <td>-1.015455</td>\n",
       "      <td>0.057504</td>\n",
       "      <td>-0.649709</td>\n",
       "      <td>-0.415267</td>\n",
       "      <td>-0.051634</td>\n",
       "      <td>-1.206921</td>\n",
       "      <td>-1.085339</td>\n",
       "      <td>40.80</td>\n",
       "      <td>0</td>\n",
       "    </tr>\n",
       "    <tr>\n",
       "      <th>8</th>\n",
       "      <td>7.0</td>\n",
       "      <td>-0.894286</td>\n",
       "      <td>0.286157</td>\n",
       "      <td>-0.113192</td>\n",
       "      <td>-0.271526</td>\n",
       "      <td>2.669599</td>\n",
       "      <td>3.721818</td>\n",
       "      <td>0.370145</td>\n",
       "      <td>0.851084</td>\n",
       "      <td>-0.392048</td>\n",
       "      <td>...</td>\n",
       "      <td>-0.073425</td>\n",
       "      <td>-0.268092</td>\n",
       "      <td>-0.204233</td>\n",
       "      <td>1.011592</td>\n",
       "      <td>0.373205</td>\n",
       "      <td>-0.384157</td>\n",
       "      <td>0.011747</td>\n",
       "      <td>0.142404</td>\n",
       "      <td>93.20</td>\n",
       "      <td>0</td>\n",
       "    </tr>\n",
       "    <tr>\n",
       "      <th>9</th>\n",
       "      <td>9.0</td>\n",
       "      <td>-0.338262</td>\n",
       "      <td>1.119593</td>\n",
       "      <td>1.044367</td>\n",
       "      <td>-0.222187</td>\n",
       "      <td>0.499361</td>\n",
       "      <td>-0.246761</td>\n",
       "      <td>0.651583</td>\n",
       "      <td>0.069539</td>\n",
       "      <td>-0.736727</td>\n",
       "      <td>...</td>\n",
       "      <td>-0.246914</td>\n",
       "      <td>-0.633753</td>\n",
       "      <td>-0.120794</td>\n",
       "      <td>-0.385050</td>\n",
       "      <td>-0.069733</td>\n",
       "      <td>0.094199</td>\n",
       "      <td>0.246219</td>\n",
       "      <td>0.083076</td>\n",
       "      <td>3.68</td>\n",
       "      <td>0</td>\n",
       "    </tr>\n",
       "  </tbody>\n",
       "</table>\n",
       "<p>10 rows × 31 columns</p>\n",
       "</div>"
      ],
      "text/plain": [
       "   Time        V1        V2        V3        V4        V5        V6        V7  \\\n",
       "0   0.0 -1.359807 -0.072781  2.536347  1.378155 -0.338321  0.462388  0.239599   \n",
       "1   0.0  1.191857  0.266151  0.166480  0.448154  0.060018 -0.082361 -0.078803   \n",
       "2   1.0 -1.358354 -1.340163  1.773209  0.379780 -0.503198  1.800499  0.791461   \n",
       "3   1.0 -0.966272 -0.185226  1.792993 -0.863291 -0.010309  1.247203  0.237609   \n",
       "4   2.0 -1.158233  0.877737  1.548718  0.403034 -0.407193  0.095921  0.592941   \n",
       "5   2.0 -0.425966  0.960523  1.141109 -0.168252  0.420987 -0.029728  0.476201   \n",
       "6   4.0  1.229658  0.141004  0.045371  1.202613  0.191881  0.272708 -0.005159   \n",
       "7   7.0 -0.644269  1.417964  1.074380 -0.492199  0.948934  0.428118  1.120631   \n",
       "8   7.0 -0.894286  0.286157 -0.113192 -0.271526  2.669599  3.721818  0.370145   \n",
       "9   9.0 -0.338262  1.119593  1.044367 -0.222187  0.499361 -0.246761  0.651583   \n",
       "\n",
       "         V8        V9  ...       V21       V22       V23       V24       V25  \\\n",
       "0  0.098698  0.363787  ... -0.018307  0.277838 -0.110474  0.066928  0.128539   \n",
       "1  0.085102 -0.255425  ... -0.225775 -0.638672  0.101288 -0.339846  0.167170   \n",
       "2  0.247676 -1.514654  ...  0.247998  0.771679  0.909412 -0.689281 -0.327642   \n",
       "3  0.377436 -1.387024  ... -0.108300  0.005274 -0.190321 -1.175575  0.647376   \n",
       "4 -0.270533  0.817739  ... -0.009431  0.798278 -0.137458  0.141267 -0.206010   \n",
       "5  0.260314 -0.568671  ... -0.208254 -0.559825 -0.026398 -0.371427 -0.232794   \n",
       "6  0.081213  0.464960  ... -0.167716 -0.270710 -0.154104 -0.780055  0.750137   \n",
       "7 -3.807864  0.615375  ...  1.943465 -1.015455  0.057504 -0.649709 -0.415267   \n",
       "8  0.851084 -0.392048  ... -0.073425 -0.268092 -0.204233  1.011592  0.373205   \n",
       "9  0.069539 -0.736727  ... -0.246914 -0.633753 -0.120794 -0.385050 -0.069733   \n",
       "\n",
       "        V26       V27       V28  Amount  Class  \n",
       "0 -0.189115  0.133558 -0.021053  149.62      0  \n",
       "1  0.125895 -0.008983  0.014724    2.69      0  \n",
       "2 -0.139097 -0.055353 -0.059752  378.66      0  \n",
       "3 -0.221929  0.062723  0.061458  123.50      0  \n",
       "4  0.502292  0.219422  0.215153   69.99      0  \n",
       "5  0.105915  0.253844  0.081080    3.67      0  \n",
       "6 -0.257237  0.034507  0.005168    4.99      0  \n",
       "7 -0.051634 -1.206921 -1.085339   40.80      0  \n",
       "8 -0.384157  0.011747  0.142404   93.20      0  \n",
       "9  0.094199  0.246219  0.083076    3.68      0  \n",
       "\n",
       "[10 rows x 31 columns]"
      ]
     },
     "execution_count": 22,
     "metadata": {},
     "output_type": "execute_result"
    }
   ],
   "source": [
    "import numpy as np\n",
    "import pandas as pd\n",
    "import seaborn as sn\n",
    "import matplotlib.pyplot as plt\n",
    "\n",
    "np.random.seed(123)\n",
    "\n",
    "df = pd.read_csv('creditcard.csv')\n",
    "df.head(10)"
   ]
  },
  {
   "cell_type": "code",
   "execution_count": 23,
   "metadata": {},
   "outputs": [
    {
     "data": {
      "text/plain": [
       "Class\n",
       "0    284315\n",
       "1       492\n",
       "dtype: int64"
      ]
     },
     "execution_count": 23,
     "metadata": {},
     "output_type": "execute_result"
    }
   ],
   "source": [
    "df.groupby('Class').size()"
   ]
  },
  {
   "cell_type": "code",
   "execution_count": null,
   "metadata": {},
   "outputs": [],
   "source": []
  },
  {
   "cell_type": "code",
   "execution_count": 24,
   "metadata": {},
   "outputs": [
    {
     "name": "stdout",
     "output_type": "stream",
     "text": [
      "(284807, 30)\n",
      "(284807, 1)\n"
     ]
    }
   ],
   "source": [
    "features = df.loc[:, 'Time':'Amount'].to_numpy()\n",
    "targets  = df.loc[:, 'Class':].to_numpy()\n",
    "\n",
    "print(features.shape)\n",
    "print(targets.shape)"
   ]
  },
  {
   "cell_type": "markdown",
   "metadata": {
    "id": "vrb3azth3-4T"
   },
   "source": [
    "## Prepare a validation set"
   ]
  },
  {
   "cell_type": "code",
   "execution_count": 25,
   "metadata": {
    "id": "FXzXSUPJ3-4U"
   },
   "outputs": [
    {
     "name": "stdout",
     "output_type": "stream",
     "text": [
      "Number of training samples: 227846\n",
      "Number of validation samples: 56961\n"
     ]
    }
   ],
   "source": [
    "num_val_samples = int(len(features) * 0.2)\n",
    "train_features = features[:-num_val_samples]\n",
    "train_targets = targets[:-num_val_samples]\n",
    "val_features = features[-num_val_samples:]\n",
    "val_targets = targets[-num_val_samples:]\n",
    "\n",
    "print(\"Number of training samples:\", len(train_features))\n",
    "print(\"Number of validation samples:\", len(val_features))"
   ]
  },
  {
   "cell_type": "markdown",
   "metadata": {
    "id": "RObnPTG_3-4X"
   },
   "source": [
    "## Normalize the data using training set statistics"
   ]
  },
  {
   "cell_type": "code",
   "execution_count": 26,
   "metadata": {
    "id": "sgzkRUFv3-4X"
   },
   "outputs": [],
   "source": [
    "mean = np.mean(train_features, axis=0)\n",
    "train_features -= mean\n",
    "val_features -= mean\n",
    "\n",
    "std = np.std(train_features, axis=0)\n",
    "train_features /= std\n",
    "val_features /= std"
   ]
  },
  {
   "cell_type": "markdown",
   "metadata": {
    "id": "BeGEJ17u3-4Y"
   },
   "source": [
    "## Build a binary classification model"
   ]
  },
  {
   "cell_type": "code",
   "execution_count": 27,
   "metadata": {
    "id": "OUwL5rss3-4Y"
   },
   "outputs": [
    {
     "name": "stdout",
     "output_type": "stream",
     "text": [
      "Model: \"sequential_3\"\n",
      "_________________________________________________________________\n",
      " Layer (type)                Output Shape              Param #   \n",
      "=================================================================\n",
      " dense_9 (Dense)             (None, 256)               7936      \n",
      "                                                                 \n",
      " dense_10 (Dense)            (None, 256)               65792     \n",
      "                                                                 \n",
      " dropout_3 (Dropout)         (None, 256)               0         \n",
      "                                                                 \n",
      " dense_11 (Dense)            (None, 1)                 257       \n",
      "                                                                 \n",
      "=================================================================\n",
      "Total params: 73,985\n",
      "Trainable params: 73,985\n",
      "Non-trainable params: 0\n",
      "_________________________________________________________________\n"
     ]
    }
   ],
   "source": [
    "from tensorflow import keras\n",
    "\n",
    "model = keras.Sequential([keras.layers.Dense(256, activation=\"relu\", \n",
    "                                             input_shape=(train_features.shape[-1],)),\n",
    "                          keras.layers.Dense(256, activation=\"relu\"),\n",
    "                          keras.layers.Dropout(0.3),\n",
    "                          keras.layers.Dense(1, activation=\"sigmoid\")])\n",
    "model.summary()"
   ]
  },
  {
   "cell_type": "markdown",
   "metadata": {
    "id": "PYNGbgVO3-4Z"
   },
   "source": [
    "## Train the model"
   ]
  },
  {
   "cell_type": "code",
   "execution_count": 28,
   "metadata": {
    "id": "NYJmbI_z3-4Z"
   },
   "outputs": [
    {
     "name": "stdout",
     "output_type": "stream",
     "text": [
      "Epoch 1/20\n",
      "112/112 - 3s - loss: 6.7079e-04 - fn: 55.0000 - fp: 6166.0000 - tn: 221263.0000 - tp: 362.0000 - precision: 0.0555 - recall: 0.8681 - f1_score: 0.1042 - val_loss: 1.4297e-04 - val_fn: 10.0000 - val_fp: 294.0000 - val_tn: 56592.0000 - val_tp: 65.0000 - val_precision: 0.1811 - val_recall: 0.8667 - val_f1_score: 0.2995 - 3s/epoch - 24ms/step\n",
      "Epoch 2/20\n",
      "112/112 - 2s - loss: 2.8157e-04 - fn: 47.0000 - fp: 2397.0000 - tn: 225032.0000 - tp: 370.0000 - precision: 0.1337 - recall: 0.8873 - f1_score: 0.2324 - val_loss: 1.4567e-04 - val_fn: 12.0000 - val_fp: 185.0000 - val_tn: 56701.0000 - val_tp: 63.0000 - val_precision: 0.2540 - val_recall: 0.8400 - val_f1_score: 0.3901 - 2s/epoch - 15ms/step\n",
      "Epoch 3/20\n",
      "112/112 - 2s - loss: 3.1336e-04 - fn: 46.0000 - fp: 1973.0000 - tn: 225456.0000 - tp: 371.0000 - precision: 0.1583 - recall: 0.8897 - f1_score: 0.2687 - val_loss: 2.7934e-04 - val_fn: 13.0000 - val_fp: 89.0000 - val_tn: 56797.0000 - val_tp: 62.0000 - val_precision: 0.4106 - val_recall: 0.8267 - val_f1_score: 0.5487 - 2s/epoch - 15ms/step\n",
      "Epoch 4/20\n",
      "112/112 - 2s - loss: 2.6626e-04 - fn: 44.0000 - fp: 1832.0000 - tn: 225597.0000 - tp: 373.0000 - precision: 0.1692 - recall: 0.8945 - f1_score: 0.2845 - val_loss: 2.8627e-04 - val_fn: 13.0000 - val_fp: 104.0000 - val_tn: 56782.0000 - val_tp: 62.0000 - val_precision: 0.3735 - val_recall: 0.8267 - val_f1_score: 0.5145 - 2s/epoch - 15ms/step\n",
      "Epoch 5/20\n",
      "112/112 - 2s - loss: 2.3762e-04 - fn: 47.0000 - fp: 1590.0000 - tn: 225839.0000 - tp: 370.0000 - precision: 0.1888 - recall: 0.8873 - f1_score: 0.3113 - val_loss: 1.9670e-04 - val_fn: 12.0000 - val_fp: 85.0000 - val_tn: 56801.0000 - val_tp: 63.0000 - val_precision: 0.4257 - val_recall: 0.8400 - val_f1_score: 0.5650 - 2s/epoch - 15ms/step\n",
      "Epoch 6/20\n",
      "112/112 - 2s - loss: 2.1062e-04 - fn: 42.0000 - fp: 1892.0000 - tn: 225537.0000 - tp: 375.0000 - precision: 0.1654 - recall: 0.8993 - f1_score: 0.2794 - val_loss: 5.5339e-04 - val_fn: 18.0000 - val_fp: 17.0000 - val_tn: 56869.0000 - val_tp: 57.0000 - val_precision: 0.7703 - val_recall: 0.7600 - val_f1_score: 0.7651 - 2s/epoch - 15ms/step\n",
      "Epoch 7/20\n",
      "112/112 - 2s - loss: 2.1454e-04 - fn: 39.0000 - fp: 2398.0000 - tn: 225031.0000 - tp: 378.0000 - precision: 0.1362 - recall: 0.9065 - f1_score: 0.2368 - val_loss: 2.3586e-04 - val_fn: 13.0000 - val_fp: 212.0000 - val_tn: 56674.0000 - val_tp: 62.0000 - val_precision: 0.2263 - val_recall: 0.8267 - val_f1_score: 0.3553 - 2s/epoch - 15ms/step\n",
      "Epoch 8/20\n",
      "112/112 - 2s - loss: 2.6255e-04 - fn: 41.0000 - fp: 1954.0000 - tn: 225475.0000 - tp: 376.0000 - precision: 0.1614 - recall: 0.9017 - f1_score: 0.2738 - val_loss: 2.9102e-04 - val_fn: 13.0000 - val_fp: 345.0000 - val_tn: 56541.0000 - val_tp: 62.0000 - val_precision: 0.1523 - val_recall: 0.8267 - val_f1_score: 0.2573 - 2s/epoch - 15ms/step\n",
      "Epoch 9/20\n",
      "112/112 - 2s - loss: 3.1838e-04 - fn: 37.0000 - fp: 2373.0000 - tn: 225056.0000 - tp: 380.0000 - precision: 0.1380 - recall: 0.9113 - f1_score: 0.2397 - val_loss: 4.3592e-04 - val_fn: 3.0000 - val_fp: 5958.0000 - val_tn: 50928.0000 - val_tp: 72.0000 - val_precision: 0.0119 - val_recall: 0.9600 - val_f1_score: 0.0236 - 2s/epoch - 15ms/step\n",
      "Epoch 10/20\n",
      "112/112 - 2s - loss: 4.7454e-04 - fn: 54.0000 - fp: 2633.0000 - tn: 224796.0000 - tp: 363.0000 - precision: 0.1212 - recall: 0.8705 - f1_score: 0.2127 - val_loss: 2.3084e-04 - val_fn: 13.0000 - val_fp: 383.0000 - val_tn: 56503.0000 - val_tp: 62.0000 - val_precision: 0.1393 - val_recall: 0.8267 - val_f1_score: 0.2385 - 2s/epoch - 15ms/step\n",
      "Epoch 11/20\n",
      "112/112 - 2s - loss: 2.4207e-04 - fn: 46.0000 - fp: 1199.0000 - tn: 226230.0000 - tp: 371.0000 - precision: 0.2363 - recall: 0.8897 - f1_score: 0.3734 - val_loss: 1.6015e-04 - val_fn: 14.0000 - val_fp: 25.0000 - val_tn: 56861.0000 - val_tp: 61.0000 - val_precision: 0.7093 - val_recall: 0.8133 - val_f1_score: 0.7578 - 2s/epoch - 15ms/step\n",
      "Epoch 12/20\n",
      "112/112 - 2s - loss: 1.5824e-04 - fn: 43.0000 - fp: 976.0000 - tn: 226453.0000 - tp: 374.0000 - precision: 0.2770 - recall: 0.8969 - f1_score: 0.4233 - val_loss: 2.0017e-04 - val_fn: 9.0000 - val_fp: 375.0000 - val_tn: 56511.0000 - val_tp: 66.0000 - val_precision: 0.1497 - val_recall: 0.8800 - val_f1_score: 0.2558 - 2s/epoch - 15ms/step\n",
      "Epoch 13/20\n",
      "112/112 - 2s - loss: 1.9180e-04 - fn: 39.0000 - fp: 1201.0000 - tn: 226228.0000 - tp: 378.0000 - precision: 0.2394 - recall: 0.9065 - f1_score: 0.3788 - val_loss: 3.5590e-04 - val_fn: 11.0000 - val_fp: 97.0000 - val_tn: 56789.0000 - val_tp: 64.0000 - val_precision: 0.3975 - val_recall: 0.8533 - val_f1_score: 0.5424 - 2s/epoch - 15ms/step\n",
      "Epoch 14/20\n",
      "112/112 - 2s - loss: 1.9045e-04 - fn: 31.0000 - fp: 969.0000 - tn: 226460.0000 - tp: 386.0000 - precision: 0.2849 - recall: 0.9257 - f1_score: 0.4357 - val_loss: 3.3557e-04 - val_fn: 11.0000 - val_fp: 130.0000 - val_tn: 56756.0000 - val_tp: 64.0000 - val_precision: 0.3299 - val_recall: 0.8533 - val_f1_score: 0.4758 - 2s/epoch - 15ms/step\n",
      "Epoch 15/20\n",
      "112/112 - 2s - loss: 1.7418e-04 - fn: 23.0000 - fp: 901.0000 - tn: 226528.0000 - tp: 394.0000 - precision: 0.3042 - recall: 0.9448 - f1_score: 0.4603 - val_loss: 3.4306e-04 - val_fn: 16.0000 - val_fp: 25.0000 - val_tn: 56861.0000 - val_tp: 59.0000 - val_precision: 0.7024 - val_recall: 0.7867 - val_f1_score: 0.7421 - 2s/epoch - 15ms/step\n",
      "Epoch 16/20\n",
      "112/112 - 2s - loss: 1.7110e-04 - fn: 25.0000 - fp: 881.0000 - tn: 226548.0000 - tp: 392.0000 - precision: 0.3079 - recall: 0.9400 - f1_score: 0.4639 - val_loss: 1.8871e-04 - val_fn: 10.0000 - val_fp: 311.0000 - val_tn: 56575.0000 - val_tp: 65.0000 - val_precision: 0.1729 - val_recall: 0.8667 - val_f1_score: 0.2882 - 2s/epoch - 15ms/step\n",
      "Epoch 17/20\n",
      "112/112 - 2s - loss: 1.6644e-04 - fn: 21.0000 - fp: 865.0000 - tn: 226564.0000 - tp: 396.0000 - precision: 0.3140 - recall: 0.9496 - f1_score: 0.4720 - val_loss: 4.9782e-04 - val_fn: 13.0000 - val_fp: 79.0000 - val_tn: 56807.0000 - val_tp: 62.0000 - val_precision: 0.4397 - val_recall: 0.8267 - val_f1_score: 0.5741 - 2s/epoch - 15ms/step\n",
      "Epoch 18/20\n",
      "112/112 - 2s - loss: 7.2965e-04 - fn: 35.0000 - fp: 1256.0000 - tn: 226173.0000 - tp: 382.0000 - precision: 0.2332 - recall: 0.9161 - f1_score: 0.3718 - val_loss: 3.0189e-04 - val_fn: 10.0000 - val_fp: 192.0000 - val_tn: 56694.0000 - val_tp: 65.0000 - val_precision: 0.2529 - val_recall: 0.8667 - val_f1_score: 0.3916 - 2s/epoch - 15ms/step\n",
      "Epoch 19/20\n",
      "112/112 - 2s - loss: 2.1455e-04 - fn: 21.0000 - fp: 1144.0000 - tn: 226285.0000 - tp: 396.0000 - precision: 0.2571 - recall: 0.9496 - f1_score: 0.4047 - val_loss: 5.4966e-04 - val_fn: 14.0000 - val_fp: 61.0000 - val_tn: 56825.0000 - val_tp: 61.0000 - val_precision: 0.5000 - val_recall: 0.8133 - val_f1_score: 0.6193 - 2s/epoch - 15ms/step\n",
      "Epoch 20/20\n",
      "112/112 - 2s - loss: 1.9407e-04 - fn: 31.0000 - fp: 1055.0000 - tn: 226374.0000 - tp: 386.0000 - precision: 0.2679 - recall: 0.9257 - f1_score: 0.4155 - val_loss: 4.3070e-04 - val_fn: 16.0000 - val_fp: 78.0000 - val_tn: 56808.0000 - val_tp: 59.0000 - val_precision: 0.4307 - val_recall: 0.7867 - val_f1_score: 0.5566 - 2s/epoch - 15ms/step\n"
     ]
    },
    {
     "data": {
      "text/plain": [
       "<keras.callbacks.History at 0x219052f1fa0>"
      ]
     },
     "execution_count": 28,
     "metadata": {},
     "output_type": "execute_result"
    }
   ],
   "source": [
    "import tensorflow_addons as tfa\n",
    "\n",
    "metrics = [\n",
    "    keras.metrics.FalseNegatives(name=\"fn\"),\n",
    "    keras.metrics.FalsePositives(name=\"fp\"),\n",
    "    keras.metrics.TrueNegatives(name=\"tn\"),\n",
    "    keras.metrics.TruePositives(name=\"tp\"),\n",
    "    keras.metrics.Precision(name=\"precision\"),\n",
    "    keras.metrics.Recall(name=\"recall\"),\n",
    "    tfa.metrics.F1Score(num_classes=1, threshold=0.5)]\n",
    "\n",
    "loss_func = tfa.losses.SigmoidFocalCrossEntropy(alpha=0.99, gamma=3.0)\n",
    "model.compile(\n",
    "    optimizer=keras.optimizers.Adam(1e-2), loss=loss_func, metrics=metrics)\n",
    "\n",
    "model.fit(\n",
    "    train_features,\n",
    "    train_targets,\n",
    "    batch_size=2048,\n",
    "    epochs=20,\n",
    "    verbose=2,\n",
    "    validation_data=(val_features, val_targets))"
   ]
  },
  {
   "cell_type": "code",
   "execution_count": null,
   "metadata": {},
   "outputs": [],
   "source": []
  },
  {
   "cell_type": "code",
   "execution_count": null,
   "metadata": {},
   "outputs": [],
   "source": []
  }
 ],
 "metadata": {
  "accelerator": "GPU",
  "colab": {
   "provenance": []
  },
  "kernelspec": {
   "display_name": "Python 3 (ipykernel)",
   "language": "python",
   "name": "python3"
  },
  "language_info": {
   "codemirror_mode": {
    "name": "ipython",
    "version": 3
   },
   "file_extension": ".py",
   "mimetype": "text/x-python",
   "name": "python",
   "nbconvert_exporter": "python",
   "pygments_lexer": "ipython3",
   "version": "3.9.13"
  }
 },
 "nbformat": 4,
 "nbformat_minor": 1
}
