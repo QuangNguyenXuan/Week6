{
 "cells": [
  {
   "cell_type": "markdown",
   "metadata": {
    "id": "uDLcLQO43-4Q"
   },
   "source": [
    "## First, vectorize the CSV data"
   ]
  },
  {
   "cell_type": "code",
   "execution_count": 1,
   "metadata": {},
   "outputs": [
    {
     "data": {
      "text/html": [
       "<div>\n",
       "<style scoped>\n",
       "    .dataframe tbody tr th:only-of-type {\n",
       "        vertical-align: middle;\n",
       "    }\n",
       "\n",
       "    .dataframe tbody tr th {\n",
       "        vertical-align: top;\n",
       "    }\n",
       "\n",
       "    .dataframe thead th {\n",
       "        text-align: right;\n",
       "    }\n",
       "</style>\n",
       "<table border=\"1\" class=\"dataframe\">\n",
       "  <thead>\n",
       "    <tr style=\"text-align: right;\">\n",
       "      <th></th>\n",
       "      <th>Time</th>\n",
       "      <th>V1</th>\n",
       "      <th>V2</th>\n",
       "      <th>V3</th>\n",
       "      <th>V4</th>\n",
       "      <th>V5</th>\n",
       "      <th>V6</th>\n",
       "      <th>V7</th>\n",
       "      <th>V8</th>\n",
       "      <th>V9</th>\n",
       "      <th>...</th>\n",
       "      <th>V21</th>\n",
       "      <th>V22</th>\n",
       "      <th>V23</th>\n",
       "      <th>V24</th>\n",
       "      <th>V25</th>\n",
       "      <th>V26</th>\n",
       "      <th>V27</th>\n",
       "      <th>V28</th>\n",
       "      <th>Amount</th>\n",
       "      <th>Class</th>\n",
       "    </tr>\n",
       "  </thead>\n",
       "  <tbody>\n",
       "    <tr>\n",
       "      <th>0</th>\n",
       "      <td>0.0</td>\n",
       "      <td>-1.359807</td>\n",
       "      <td>-0.072781</td>\n",
       "      <td>2.536347</td>\n",
       "      <td>1.378155</td>\n",
       "      <td>-0.338321</td>\n",
       "      <td>0.462388</td>\n",
       "      <td>0.239599</td>\n",
       "      <td>0.098698</td>\n",
       "      <td>0.363787</td>\n",
       "      <td>...</td>\n",
       "      <td>-0.018307</td>\n",
       "      <td>0.277838</td>\n",
       "      <td>-0.110474</td>\n",
       "      <td>0.066928</td>\n",
       "      <td>0.128539</td>\n",
       "      <td>-0.189115</td>\n",
       "      <td>0.133558</td>\n",
       "      <td>-0.021053</td>\n",
       "      <td>149.62</td>\n",
       "      <td>0</td>\n",
       "    </tr>\n",
       "    <tr>\n",
       "      <th>1</th>\n",
       "      <td>0.0</td>\n",
       "      <td>1.191857</td>\n",
       "      <td>0.266151</td>\n",
       "      <td>0.166480</td>\n",
       "      <td>0.448154</td>\n",
       "      <td>0.060018</td>\n",
       "      <td>-0.082361</td>\n",
       "      <td>-0.078803</td>\n",
       "      <td>0.085102</td>\n",
       "      <td>-0.255425</td>\n",
       "      <td>...</td>\n",
       "      <td>-0.225775</td>\n",
       "      <td>-0.638672</td>\n",
       "      <td>0.101288</td>\n",
       "      <td>-0.339846</td>\n",
       "      <td>0.167170</td>\n",
       "      <td>0.125895</td>\n",
       "      <td>-0.008983</td>\n",
       "      <td>0.014724</td>\n",
       "      <td>2.69</td>\n",
       "      <td>0</td>\n",
       "    </tr>\n",
       "    <tr>\n",
       "      <th>2</th>\n",
       "      <td>1.0</td>\n",
       "      <td>-1.358354</td>\n",
       "      <td>-1.340163</td>\n",
       "      <td>1.773209</td>\n",
       "      <td>0.379780</td>\n",
       "      <td>-0.503198</td>\n",
       "      <td>1.800499</td>\n",
       "      <td>0.791461</td>\n",
       "      <td>0.247676</td>\n",
       "      <td>-1.514654</td>\n",
       "      <td>...</td>\n",
       "      <td>0.247998</td>\n",
       "      <td>0.771679</td>\n",
       "      <td>0.909412</td>\n",
       "      <td>-0.689281</td>\n",
       "      <td>-0.327642</td>\n",
       "      <td>-0.139097</td>\n",
       "      <td>-0.055353</td>\n",
       "      <td>-0.059752</td>\n",
       "      <td>378.66</td>\n",
       "      <td>0</td>\n",
       "    </tr>\n",
       "    <tr>\n",
       "      <th>3</th>\n",
       "      <td>1.0</td>\n",
       "      <td>-0.966272</td>\n",
       "      <td>-0.185226</td>\n",
       "      <td>1.792993</td>\n",
       "      <td>-0.863291</td>\n",
       "      <td>-0.010309</td>\n",
       "      <td>1.247203</td>\n",
       "      <td>0.237609</td>\n",
       "      <td>0.377436</td>\n",
       "      <td>-1.387024</td>\n",
       "      <td>...</td>\n",
       "      <td>-0.108300</td>\n",
       "      <td>0.005274</td>\n",
       "      <td>-0.190321</td>\n",
       "      <td>-1.175575</td>\n",
       "      <td>0.647376</td>\n",
       "      <td>-0.221929</td>\n",
       "      <td>0.062723</td>\n",
       "      <td>0.061458</td>\n",
       "      <td>123.50</td>\n",
       "      <td>0</td>\n",
       "    </tr>\n",
       "    <tr>\n",
       "      <th>4</th>\n",
       "      <td>2.0</td>\n",
       "      <td>-1.158233</td>\n",
       "      <td>0.877737</td>\n",
       "      <td>1.548718</td>\n",
       "      <td>0.403034</td>\n",
       "      <td>-0.407193</td>\n",
       "      <td>0.095921</td>\n",
       "      <td>0.592941</td>\n",
       "      <td>-0.270533</td>\n",
       "      <td>0.817739</td>\n",
       "      <td>...</td>\n",
       "      <td>-0.009431</td>\n",
       "      <td>0.798278</td>\n",
       "      <td>-0.137458</td>\n",
       "      <td>0.141267</td>\n",
       "      <td>-0.206010</td>\n",
       "      <td>0.502292</td>\n",
       "      <td>0.219422</td>\n",
       "      <td>0.215153</td>\n",
       "      <td>69.99</td>\n",
       "      <td>0</td>\n",
       "    </tr>\n",
       "    <tr>\n",
       "      <th>5</th>\n",
       "      <td>2.0</td>\n",
       "      <td>-0.425966</td>\n",
       "      <td>0.960523</td>\n",
       "      <td>1.141109</td>\n",
       "      <td>-0.168252</td>\n",
       "      <td>0.420987</td>\n",
       "      <td>-0.029728</td>\n",
       "      <td>0.476201</td>\n",
       "      <td>0.260314</td>\n",
       "      <td>-0.568671</td>\n",
       "      <td>...</td>\n",
       "      <td>-0.208254</td>\n",
       "      <td>-0.559825</td>\n",
       "      <td>-0.026398</td>\n",
       "      <td>-0.371427</td>\n",
       "      <td>-0.232794</td>\n",
       "      <td>0.105915</td>\n",
       "      <td>0.253844</td>\n",
       "      <td>0.081080</td>\n",
       "      <td>3.67</td>\n",
       "      <td>0</td>\n",
       "    </tr>\n",
       "    <tr>\n",
       "      <th>6</th>\n",
       "      <td>4.0</td>\n",
       "      <td>1.229658</td>\n",
       "      <td>0.141004</td>\n",
       "      <td>0.045371</td>\n",
       "      <td>1.202613</td>\n",
       "      <td>0.191881</td>\n",
       "      <td>0.272708</td>\n",
       "      <td>-0.005159</td>\n",
       "      <td>0.081213</td>\n",
       "      <td>0.464960</td>\n",
       "      <td>...</td>\n",
       "      <td>-0.167716</td>\n",
       "      <td>-0.270710</td>\n",
       "      <td>-0.154104</td>\n",
       "      <td>-0.780055</td>\n",
       "      <td>0.750137</td>\n",
       "      <td>-0.257237</td>\n",
       "      <td>0.034507</td>\n",
       "      <td>0.005168</td>\n",
       "      <td>4.99</td>\n",
       "      <td>0</td>\n",
       "    </tr>\n",
       "    <tr>\n",
       "      <th>7</th>\n",
       "      <td>7.0</td>\n",
       "      <td>-0.644269</td>\n",
       "      <td>1.417964</td>\n",
       "      <td>1.074380</td>\n",
       "      <td>-0.492199</td>\n",
       "      <td>0.948934</td>\n",
       "      <td>0.428118</td>\n",
       "      <td>1.120631</td>\n",
       "      <td>-3.807864</td>\n",
       "      <td>0.615375</td>\n",
       "      <td>...</td>\n",
       "      <td>1.943465</td>\n",
       "      <td>-1.015455</td>\n",
       "      <td>0.057504</td>\n",
       "      <td>-0.649709</td>\n",
       "      <td>-0.415267</td>\n",
       "      <td>-0.051634</td>\n",
       "      <td>-1.206921</td>\n",
       "      <td>-1.085339</td>\n",
       "      <td>40.80</td>\n",
       "      <td>0</td>\n",
       "    </tr>\n",
       "    <tr>\n",
       "      <th>8</th>\n",
       "      <td>7.0</td>\n",
       "      <td>-0.894286</td>\n",
       "      <td>0.286157</td>\n",
       "      <td>-0.113192</td>\n",
       "      <td>-0.271526</td>\n",
       "      <td>2.669599</td>\n",
       "      <td>3.721818</td>\n",
       "      <td>0.370145</td>\n",
       "      <td>0.851084</td>\n",
       "      <td>-0.392048</td>\n",
       "      <td>...</td>\n",
       "      <td>-0.073425</td>\n",
       "      <td>-0.268092</td>\n",
       "      <td>-0.204233</td>\n",
       "      <td>1.011592</td>\n",
       "      <td>0.373205</td>\n",
       "      <td>-0.384157</td>\n",
       "      <td>0.011747</td>\n",
       "      <td>0.142404</td>\n",
       "      <td>93.20</td>\n",
       "      <td>0</td>\n",
       "    </tr>\n",
       "    <tr>\n",
       "      <th>9</th>\n",
       "      <td>9.0</td>\n",
       "      <td>-0.338262</td>\n",
       "      <td>1.119593</td>\n",
       "      <td>1.044367</td>\n",
       "      <td>-0.222187</td>\n",
       "      <td>0.499361</td>\n",
       "      <td>-0.246761</td>\n",
       "      <td>0.651583</td>\n",
       "      <td>0.069539</td>\n",
       "      <td>-0.736727</td>\n",
       "      <td>...</td>\n",
       "      <td>-0.246914</td>\n",
       "      <td>-0.633753</td>\n",
       "      <td>-0.120794</td>\n",
       "      <td>-0.385050</td>\n",
       "      <td>-0.069733</td>\n",
       "      <td>0.094199</td>\n",
       "      <td>0.246219</td>\n",
       "      <td>0.083076</td>\n",
       "      <td>3.68</td>\n",
       "      <td>0</td>\n",
       "    </tr>\n",
       "  </tbody>\n",
       "</table>\n",
       "<p>10 rows × 31 columns</p>\n",
       "</div>"
      ],
      "text/plain": [
       "   Time        V1        V2        V3        V4        V5        V6        V7  \\\n",
       "0   0.0 -1.359807 -0.072781  2.536347  1.378155 -0.338321  0.462388  0.239599   \n",
       "1   0.0  1.191857  0.266151  0.166480  0.448154  0.060018 -0.082361 -0.078803   \n",
       "2   1.0 -1.358354 -1.340163  1.773209  0.379780 -0.503198  1.800499  0.791461   \n",
       "3   1.0 -0.966272 -0.185226  1.792993 -0.863291 -0.010309  1.247203  0.237609   \n",
       "4   2.0 -1.158233  0.877737  1.548718  0.403034 -0.407193  0.095921  0.592941   \n",
       "5   2.0 -0.425966  0.960523  1.141109 -0.168252  0.420987 -0.029728  0.476201   \n",
       "6   4.0  1.229658  0.141004  0.045371  1.202613  0.191881  0.272708 -0.005159   \n",
       "7   7.0 -0.644269  1.417964  1.074380 -0.492199  0.948934  0.428118  1.120631   \n",
       "8   7.0 -0.894286  0.286157 -0.113192 -0.271526  2.669599  3.721818  0.370145   \n",
       "9   9.0 -0.338262  1.119593  1.044367 -0.222187  0.499361 -0.246761  0.651583   \n",
       "\n",
       "         V8        V9  ...       V21       V22       V23       V24       V25  \\\n",
       "0  0.098698  0.363787  ... -0.018307  0.277838 -0.110474  0.066928  0.128539   \n",
       "1  0.085102 -0.255425  ... -0.225775 -0.638672  0.101288 -0.339846  0.167170   \n",
       "2  0.247676 -1.514654  ...  0.247998  0.771679  0.909412 -0.689281 -0.327642   \n",
       "3  0.377436 -1.387024  ... -0.108300  0.005274 -0.190321 -1.175575  0.647376   \n",
       "4 -0.270533  0.817739  ... -0.009431  0.798278 -0.137458  0.141267 -0.206010   \n",
       "5  0.260314 -0.568671  ... -0.208254 -0.559825 -0.026398 -0.371427 -0.232794   \n",
       "6  0.081213  0.464960  ... -0.167716 -0.270710 -0.154104 -0.780055  0.750137   \n",
       "7 -3.807864  0.615375  ...  1.943465 -1.015455  0.057504 -0.649709 -0.415267   \n",
       "8  0.851084 -0.392048  ... -0.073425 -0.268092 -0.204233  1.011592  0.373205   \n",
       "9  0.069539 -0.736727  ... -0.246914 -0.633753 -0.120794 -0.385050 -0.069733   \n",
       "\n",
       "        V26       V27       V28  Amount  Class  \n",
       "0 -0.189115  0.133558 -0.021053  149.62      0  \n",
       "1  0.125895 -0.008983  0.014724    2.69      0  \n",
       "2 -0.139097 -0.055353 -0.059752  378.66      0  \n",
       "3 -0.221929  0.062723  0.061458  123.50      0  \n",
       "4  0.502292  0.219422  0.215153   69.99      0  \n",
       "5  0.105915  0.253844  0.081080    3.67      0  \n",
       "6 -0.257237  0.034507  0.005168    4.99      0  \n",
       "7 -0.051634 -1.206921 -1.085339   40.80      0  \n",
       "8 -0.384157  0.011747  0.142404   93.20      0  \n",
       "9  0.094199  0.246219  0.083076    3.68      0  \n",
       "\n",
       "[10 rows x 31 columns]"
      ]
     },
     "execution_count": 1,
     "metadata": {},
     "output_type": "execute_result"
    }
   ],
   "source": [
    "import numpy as np\n",
    "import pandas as pd\n",
    "import seaborn as sn\n",
    "import matplotlib.pyplot as plt\n",
    "\n",
    "np.random.seed(123)\n",
    "\n",
    "df = pd.read_csv('creditcard.csv')\n",
    "df.head(10)"
   ]
  },
  {
   "cell_type": "code",
   "execution_count": 2,
   "metadata": {},
   "outputs": [
    {
     "data": {
      "text/plain": [
       "Class\n",
       "0    284315\n",
       "1       492\n",
       "dtype: int64"
      ]
     },
     "execution_count": 2,
     "metadata": {},
     "output_type": "execute_result"
    }
   ],
   "source": [
    "df.groupby('Class').size()"
   ]
  },
  {
   "cell_type": "code",
   "execution_count": null,
   "metadata": {},
   "outputs": [],
   "source": []
  },
  {
   "cell_type": "code",
   "execution_count": 3,
   "metadata": {},
   "outputs": [
    {
     "name": "stdout",
     "output_type": "stream",
     "text": [
      "(284807, 30)\n",
      "(284807, 1)\n"
     ]
    }
   ],
   "source": [
    "features = df.loc[:, 'Time':'Amount'].to_numpy()\n",
    "targets  = df.loc[:, 'Class':].to_numpy()\n",
    "\n",
    "print(features.shape)\n",
    "print(targets.shape)"
   ]
  },
  {
   "cell_type": "markdown",
   "metadata": {
    "id": "vrb3azth3-4T"
   },
   "source": [
    "## Prepare a validation set"
   ]
  },
  {
   "cell_type": "code",
   "execution_count": 4,
   "metadata": {
    "id": "FXzXSUPJ3-4U"
   },
   "outputs": [
    {
     "name": "stdout",
     "output_type": "stream",
     "text": [
      "Number of training samples: 227846\n",
      "Number of validation samples: 56961\n"
     ]
    }
   ],
   "source": [
    "num_val_samples = int(len(features) * 0.2)\n",
    "train_features = features[:-num_val_samples]\n",
    "train_targets = targets[:-num_val_samples]\n",
    "val_features = features[-num_val_samples:]\n",
    "val_targets = targets[-num_val_samples:]\n",
    "\n",
    "print(\"Number of training samples:\", len(train_features))\n",
    "print(\"Number of validation samples:\", len(val_features))"
   ]
  },
  {
   "cell_type": "markdown",
   "metadata": {
    "id": "6ub9k7Cq3-4V"
   },
   "source": [
    "## Analyze class imbalance in the targets"
   ]
  },
  {
   "cell_type": "code",
   "execution_count": 5,
   "metadata": {
    "id": "YWioxgLr3-4W"
   },
   "outputs": [
    {
     "name": "stdout",
     "output_type": "stream",
     "text": [
      "weight_for_0:  0.5008652375006595\n",
      "weight_for_1:  289.4380081300813\n"
     ]
    }
   ],
   "source": [
    "total = 284807\n",
    "num_class_0 = 284315\n",
    "num_class_1 = 492\n",
    "\n",
    "weight_for_0 = total / (2.0*num_class_0)\n",
    "weight_for_1 = total / (2.0*num_class_1)\n",
    "\n",
    "print('weight_for_0: ', weight_for_0)\n",
    "print('weight_for_1: ', weight_for_1)"
   ]
  },
  {
   "cell_type": "markdown",
   "metadata": {
    "id": "RObnPTG_3-4X"
   },
   "source": [
    "## Normalize the data using training set statistics"
   ]
  },
  {
   "cell_type": "code",
   "execution_count": 6,
   "metadata": {
    "id": "sgzkRUFv3-4X"
   },
   "outputs": [],
   "source": [
    "mean = np.mean(train_features, axis=0)\n",
    "train_features -= mean\n",
    "val_features -= mean\n",
    "\n",
    "std = np.std(train_features, axis=0)\n",
    "train_features /= std\n",
    "val_features /= std"
   ]
  },
  {
   "cell_type": "markdown",
   "metadata": {
    "id": "BeGEJ17u3-4Y"
   },
   "source": [
    "## Build a binary classification model"
   ]
  },
  {
   "cell_type": "code",
   "execution_count": 7,
   "metadata": {
    "id": "OUwL5rss3-4Y"
   },
   "outputs": [
    {
     "name": "stdout",
     "output_type": "stream",
     "text": [
      "Model: \"sequential\"\n",
      "_________________________________________________________________\n",
      " Layer (type)                Output Shape              Param #   \n",
      "=================================================================\n",
      " dense (Dense)               (None, 256)               7936      \n",
      "                                                                 \n",
      " dense_1 (Dense)             (None, 256)               65792     \n",
      "                                                                 \n",
      " dropout (Dropout)           (None, 256)               0         \n",
      "                                                                 \n",
      " dense_2 (Dense)             (None, 1)                 257       \n",
      "                                                                 \n",
      "=================================================================\n",
      "Total params: 73,985\n",
      "Trainable params: 73,985\n",
      "Non-trainable params: 0\n",
      "_________________________________________________________________\n"
     ]
    }
   ],
   "source": [
    "from tensorflow import keras\n",
    "\n",
    "model = keras.Sequential([keras.layers.Dense(256, activation=\"relu\", \n",
    "                                             input_shape=(train_features.shape[-1],)),\n",
    "                          keras.layers.Dense(256, activation=\"relu\"),\n",
    "                          keras.layers.Dropout(0.3),\n",
    "                          keras.layers.Dense(1, activation=\"sigmoid\")])\n",
    "model.summary()"
   ]
  },
  {
   "cell_type": "markdown",
   "metadata": {
    "id": "PYNGbgVO3-4Z"
   },
   "source": [
    "## Train the model with `class_weight` argument"
   ]
  },
  {
   "cell_type": "code",
   "execution_count": 8,
   "metadata": {
    "id": "NYJmbI_z3-4Z"
   },
   "outputs": [
    {
     "name": "stdout",
     "output_type": "stream",
     "text": [
      "Epoch 1/20\n",
      "112/112 - 8s - loss: 0.4010 - fn: 42.0000 - fp: 13012.0000 - tn: 214417.0000 - tp: 375.0000 - precision: 0.0280 - recall: 0.8993 - f1_score: 0.0543 - val_loss: 0.0737 - val_fn: 9.0000 - val_fp: 1162.0000 - val_tn: 55724.0000 - val_tp: 66.0000 - val_precision: 0.0537 - val_recall: 0.8800 - val_f1_score: 0.1013 - 8s/epoch - 69ms/step\n",
      "Epoch 2/20\n",
      "112/112 - 3s - loss: 0.4078 - fn: 35.0000 - fp: 10041.0000 - tn: 217388.0000 - tp: 382.0000 - precision: 0.0366 - recall: 0.9161 - f1_score: 0.0705 - val_loss: 0.1147 - val_fn: 8.0000 - val_fp: 1519.0000 - val_tn: 55367.0000 - val_tp: 67.0000 - val_precision: 0.0422 - val_recall: 0.8933 - val_f1_score: 0.0807 - 3s/epoch - 28ms/step\n",
      "Epoch 3/20\n",
      "112/112 - 3s - loss: 0.3756 - fn: 27.0000 - fp: 7468.0000 - tn: 219961.0000 - tp: 390.0000 - precision: 0.0496 - recall: 0.9353 - f1_score: 0.0943 - val_loss: 0.0925 - val_fn: 9.0000 - val_fp: 586.0000 - val_tn: 56300.0000 - val_tp: 66.0000 - val_precision: 0.1012 - val_recall: 0.8800 - val_f1_score: 0.1816 - 3s/epoch - 29ms/step\n",
      "Epoch 4/20\n",
      "112/112 - 3s - loss: 0.2590 - fn: 19.0000 - fp: 5813.0000 - tn: 221616.0000 - tp: 398.0000 - precision: 0.0641 - recall: 0.9544 - f1_score: 0.1201 - val_loss: 0.0647 - val_fn: 10.0000 - val_fp: 365.0000 - val_tn: 56521.0000 - val_tp: 65.0000 - val_precision: 0.1512 - val_recall: 0.8667 - val_f1_score: 0.2574 - 3s/epoch - 28ms/step\n",
      "Epoch 5/20\n",
      "112/112 - 3s - loss: 0.5322 - fn: 27.0000 - fp: 10063.0000 - tn: 217366.0000 - tp: 390.0000 - precision: 0.0373 - recall: 0.9353 - f1_score: 0.0718 - val_loss: 0.1724 - val_fn: 7.0000 - val_fp: 959.0000 - val_tn: 55927.0000 - val_tp: 68.0000 - val_precision: 0.0662 - val_recall: 0.9067 - val_f1_score: 0.1234 - 3s/epoch - 29ms/step\n",
      "Epoch 6/20\n",
      "112/112 - 3s - loss: 0.7845 - fn: 30.0000 - fp: 9792.0000 - tn: 217637.0000 - tp: 387.0000 - precision: 0.0380 - recall: 0.9281 - f1_score: 0.0730 - val_loss: 0.2281 - val_fn: 11.0000 - val_fp: 1031.0000 - val_tn: 55855.0000 - val_tp: 64.0000 - val_precision: 0.0584 - val_recall: 0.8533 - val_f1_score: 0.1094 - 3s/epoch - 24ms/step\n",
      "Epoch 7/20\n",
      "112/112 - 3s - loss: 0.6691 - fn: 27.0000 - fp: 9321.0000 - tn: 218108.0000 - tp: 390.0000 - precision: 0.0402 - recall: 0.9353 - f1_score: 0.0770 - val_loss: 0.0994 - val_fn: 11.0000 - val_fp: 449.0000 - val_tn: 56437.0000 - val_tp: 64.0000 - val_precision: 0.1248 - val_recall: 0.8533 - val_f1_score: 0.2177 - 3s/epoch - 25ms/step\n",
      "Epoch 8/20\n",
      "112/112 - 3s - loss: 1.9585 - fn: 28.0000 - fp: 15401.0000 - tn: 212028.0000 - tp: 389.0000 - precision: 0.0246 - recall: 0.9329 - f1_score: 0.0480 - val_loss: 0.3199 - val_fn: 9.0000 - val_fp: 838.0000 - val_tn: 56048.0000 - val_tp: 66.0000 - val_precision: 0.0730 - val_recall: 0.8800 - val_f1_score: 0.1348 - 3s/epoch - 24ms/step\n",
      "Epoch 9/20\n",
      "112/112 - 3s - loss: 1.1495 - fn: 24.0000 - fp: 10532.0000 - tn: 216897.0000 - tp: 393.0000 - precision: 0.0360 - recall: 0.9424 - f1_score: 0.0693 - val_loss: 0.2774 - val_fn: 12.0000 - val_fp: 615.0000 - val_tn: 56271.0000 - val_tp: 63.0000 - val_precision: 0.0929 - val_recall: 0.8400 - val_f1_score: 0.1673 - 3s/epoch - 26ms/step\n",
      "Epoch 10/20\n",
      "112/112 - 3s - loss: 1.6043 - fn: 23.0000 - fp: 10136.0000 - tn: 217293.0000 - tp: 394.0000 - precision: 0.0374 - recall: 0.9448 - f1_score: 0.0720 - val_loss: 0.5102 - val_fn: 7.0000 - val_fp: 2002.0000 - val_tn: 54884.0000 - val_tp: 68.0000 - val_precision: 0.0329 - val_recall: 0.9067 - val_f1_score: 0.0634 - 3s/epoch - 29ms/step\n",
      "Epoch 11/20\n",
      "112/112 - 3s - loss: 2.5442 - fn: 19.0000 - fp: 11891.0000 - tn: 215538.0000 - tp: 398.0000 - precision: 0.0324 - recall: 0.9544 - f1_score: 0.0626 - val_loss: 0.4318 - val_fn: 11.0000 - val_fp: 237.0000 - val_tn: 56649.0000 - val_tp: 64.0000 - val_precision: 0.2126 - val_recall: 0.8533 - val_f1_score: 0.3404 - 3s/epoch - 28ms/step\n",
      "Epoch 12/20\n",
      "112/112 - 3s - loss: 3.5257 - fn: 24.0000 - fp: 11023.0000 - tn: 216406.0000 - tp: 393.0000 - precision: 0.0344 - recall: 0.9424 - f1_score: 0.0664 - val_loss: 0.9528 - val_fn: 4.0000 - val_fp: 2711.0000 - val_tn: 54175.0000 - val_tp: 71.0000 - val_precision: 0.0255 - val_recall: 0.9467 - val_f1_score: 0.0497 - 3s/epoch - 29ms/step\n",
      "Epoch 13/20\n",
      "112/112 - 3s - loss: 2.5315 - fn: 28.0000 - fp: 11156.0000 - tn: 216273.0000 - tp: 389.0000 - precision: 0.0337 - recall: 0.9329 - f1_score: 0.0650 - val_loss: 0.7505 - val_fn: 11.0000 - val_fp: 896.0000 - val_tn: 55990.0000 - val_tp: 64.0000 - val_precision: 0.0667 - val_recall: 0.8533 - val_f1_score: 0.1237 - 3s/epoch - 29ms/step\n",
      "Epoch 14/20\n",
      "112/112 - 3s - loss: 6.9497 - fn: 24.0000 - fp: 14929.0000 - tn: 212500.0000 - tp: 393.0000 - precision: 0.0256 - recall: 0.9424 - f1_score: 0.0499 - val_loss: 1.1335 - val_fn: 12.0000 - val_fp: 1062.0000 - val_tn: 55824.0000 - val_tp: 63.0000 - val_precision: 0.0560 - val_recall: 0.8400 - val_f1_score: 0.1050 - 3s/epoch - 28ms/step\n",
      "Epoch 15/20\n",
      "112/112 - 3s - loss: 3.9140 - fn: 17.0000 - fp: 12407.0000 - tn: 215022.0000 - tp: 400.0000 - precision: 0.0312 - recall: 0.9592 - f1_score: 0.0605 - val_loss: 1.1219 - val_fn: 8.0000 - val_fp: 938.0000 - val_tn: 55948.0000 - val_tp: 67.0000 - val_precision: 0.0667 - val_recall: 0.8933 - val_f1_score: 0.1241 - 3s/epoch - 28ms/step\n",
      "Epoch 16/20\n",
      "112/112 - 3s - loss: 2.2664 - fn: 17.0000 - fp: 10515.0000 - tn: 216914.0000 - tp: 400.0000 - precision: 0.0366 - recall: 0.9592 - f1_score: 0.0706 - val_loss: 0.2901 - val_fn: 11.0000 - val_fp: 312.0000 - val_tn: 56574.0000 - val_tp: 64.0000 - val_precision: 0.1702 - val_recall: 0.8533 - val_f1_score: 0.2838 - 3s/epoch - 29ms/step\n",
      "Epoch 17/20\n",
      "112/112 - 3s - loss: 4.1715 - fn: 21.0000 - fp: 10816.0000 - tn: 216613.0000 - tp: 396.0000 - precision: 0.0353 - recall: 0.9496 - f1_score: 0.0681 - val_loss: 2.6417 - val_fn: 10.0000 - val_fp: 832.0000 - val_tn: 56054.0000 - val_tp: 65.0000 - val_precision: 0.0725 - val_recall: 0.8667 - val_f1_score: 0.1337 - 3s/epoch - 29ms/step\n",
      "Epoch 18/20\n",
      "112/112 - 3s - loss: 3.6231 - fn: 16.0000 - fp: 11322.0000 - tn: 216107.0000 - tp: 401.0000 - precision: 0.0342 - recall: 0.9616 - f1_score: 0.0661 - val_loss: 1.2788 - val_fn: 7.0000 - val_fp: 921.0000 - val_tn: 55965.0000 - val_tp: 68.0000 - val_precision: 0.0688 - val_recall: 0.9067 - val_f1_score: 0.1278 - 3s/epoch - 28ms/step\n",
      "Epoch 19/20\n",
      "112/112 - 3s - loss: 11.8638 - fn: 14.0000 - fp: 11360.0000 - tn: 216069.0000 - tp: 403.0000 - precision: 0.0343 - recall: 0.9664 - f1_score: 0.0662 - val_loss: 1.4370 - val_fn: 13.0000 - val_fp: 531.0000 - val_tn: 56355.0000 - val_tp: 62.0000 - val_precision: 0.1046 - val_recall: 0.8267 - val_f1_score: 0.1856 - 3s/epoch - 29ms/step\n",
      "Epoch 20/20\n",
      "112/112 - 3s - loss: 3.7909 - fn: 13.0000 - fp: 9285.0000 - tn: 218144.0000 - tp: 404.0000 - precision: 0.0417 - recall: 0.9688 - f1_score: 0.0800 - val_loss: 0.6916 - val_fn: 12.0000 - val_fp: 557.0000 - val_tn: 56329.0000 - val_tp: 63.0000 - val_precision: 0.1016 - val_recall: 0.8400 - val_f1_score: 0.1813 - 3s/epoch - 28ms/step\n"
     ]
    },
    {
     "data": {
      "text/plain": [
       "<keras.callbacks.History at 0x221da52ba60>"
      ]
     },
     "execution_count": 8,
     "metadata": {},
     "output_type": "execute_result"
    }
   ],
   "source": [
    "import tensorflow_addons as tfa\n",
    "\n",
    "metrics = [\n",
    "    keras.metrics.FalseNegatives(name=\"fn\"),\n",
    "    keras.metrics.FalsePositives(name=\"fp\"),\n",
    "    keras.metrics.TrueNegatives(name=\"tn\"),\n",
    "    keras.metrics.TruePositives(name=\"tp\"),\n",
    "    keras.metrics.Precision(name=\"precision\"),\n",
    "    keras.metrics.Recall(name=\"recall\"),\n",
    "    tfa.metrics.F1Score(num_classes=1, threshold=0.5)]\n",
    "\n",
    "model.compile(\n",
    "    optimizer=keras.optimizers.Adam(1e-2), loss=\"binary_crossentropy\", metrics=metrics)\n",
    "class_weight = {0: weight_for_0, 1: weight_for_1}\n",
    "\n",
    "model.fit(\n",
    "    train_features,\n",
    "    train_targets,\n",
    "    batch_size=2048,\n",
    "    epochs=20,\n",
    "    verbose=2,\n",
    "    validation_data=(val_features, val_targets),\n",
    "    class_weight=class_weight)"
   ]
  },
  {
   "cell_type": "code",
   "execution_count": null,
   "metadata": {},
   "outputs": [],
   "source": []
  }
 ],
 "metadata": {
  "accelerator": "GPU",
  "colab": {
   "provenance": []
  },
  "kernelspec": {
   "display_name": "Python 3 (ipykernel)",
   "language": "python",
   "name": "python3"
  },
  "language_info": {
   "codemirror_mode": {
    "name": "ipython",
    "version": 3
   },
   "file_extension": ".py",
   "mimetype": "text/x-python",
   "name": "python",
   "nbconvert_exporter": "python",
   "pygments_lexer": "ipython3",
   "version": "3.9.13"
  }
 },
 "nbformat": 4,
 "nbformat_minor": 1
}
