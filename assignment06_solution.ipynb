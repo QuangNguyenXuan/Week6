{
  "nbformat": 4,
  "nbformat_minor": 0,
  "metadata": {
    "colab": {
      "name": "assignment06_solution.ipynb",
      "provenance": [],
      "collapsed_sections": [
        "LsfezwVdY7iZ",
        "HbKmlDm4Y_L9",
        "vjg-bQnPaXZW"
      ]
    },
    "kernelspec": {
      "name": "python3",
      "display_name": "Python 3"
    },
    "language_info": {
      "name": "python"
    }
  },
  "cells": [
    {
      "cell_type": "markdown",
      "source": [
        "# Problem 1: Text Preprocessing"
      ],
      "metadata": {
        "id": "LsfezwVdY7iZ"
      }
    },
    {
      "cell_type": "code",
      "source": [
        "input_str = \"Hello, I'm a member of AI VIETNAM AIO 2022 courses.\""
      ],
      "metadata": {
        "id": "NaJrxegwJpze"
      },
      "execution_count": null,
      "outputs": []
    },
    {
      "cell_type": "markdown",
      "source": [
        "### Task 1: chuyển chữ viết thường"
      ],
      "metadata": {
        "id": "VO_0VnxiIk5_"
      }
    },
    {
      "cell_type": "code",
      "execution_count": null,
      "metadata": {
        "colab": {
          "base_uri": "https://localhost:8080/"
        },
        "id": "kf9EYM4iIdT_",
        "outputId": "dccd30b1-006d-4187-946b-b01c5a7c5acd"
      },
      "outputs": [
        {
          "output_type": "stream",
          "name": "stdout",
          "text": [
            "hello, i'm a member of ai vietnam aio 2022 courses.\n"
          ]
        }
      ],
      "source": [
        "def lowercase(text):\n",
        "  return text.lower()\n",
        "\n",
        "print(lowercase(input_str))"
      ]
    },
    {
      "cell_type": "markdown",
      "source": [
        "### Task 2: chuyển chữ viết hoa"
      ],
      "metadata": {
        "id": "6nHIbl_SwvMZ"
      }
    },
    {
      "cell_type": "code",
      "source": [
        "def uppercase(text):\n",
        "  return text.upper()\n",
        "\n",
        "print(uppercase(input_str))"
      ],
      "metadata": {
        "colab": {
          "base_uri": "https://localhost:8080/"
        },
        "id": "t7nmwEiIw0Wp",
        "outputId": "da484e08-edbd-4a3e-aa14-01de22afbb5f"
      },
      "execution_count": null,
      "outputs": [
        {
          "output_type": "stream",
          "name": "stdout",
          "text": [
            "HELLO, I'M A MEMBER OF AI VIETNAM AIO 2022 COURSES.\n"
          ]
        }
      ]
    },
    {
      "cell_type": "markdown",
      "source": [
        "### Task 3: xóa đường dẫn url"
      ],
      "metadata": {
        "id": "UHrbpfAvQ87E"
      }
    },
    {
      "cell_type": "code",
      "source": [
        "def remove_url(text):\n",
        "  return \" \".join([w for w in text.split() if not (w.startswith(\"http://\") or w.startswith(\"https://\"))])\n",
        "\n",
        "print(remove_url(\"Hello this is the facebook url: https://www.facebook.com\"))"
      ],
      "metadata": {
        "colab": {
          "base_uri": "https://localhost:8080/"
        },
        "id": "yxCLolo-Q_7f",
        "outputId": "b804c7fe-4362-4382-f6b2-86b66382316d"
      },
      "execution_count": null,
      "outputs": [
        {
          "output_type": "stream",
          "name": "stdout",
          "text": [
            "Hello this is the facebook url:\n"
          ]
        }
      ]
    },
    {
      "cell_type": "markdown",
      "source": [
        "### Task 4: xóa các thẻ html"
      ],
      "metadata": {
        "id": "Sm3XlyyySRg8"
      }
    },
    {
      "cell_type": "code",
      "source": [
        "!pip install bs4 -q"
      ],
      "metadata": {
        "id": "8_OWPAniyVw3"
      },
      "execution_count": null,
      "outputs": []
    },
    {
      "cell_type": "code",
      "source": [
        "import re\n",
        "from bs4 import BeautifulSoup\n",
        "\n",
        "# method 1\n",
        "def remove_html_tags(text):\n",
        "  soup = BeautifulSoup(text)\n",
        "  return soup.get_text()\n",
        "\n",
        "# method 2\n",
        "def remove_html_tags(text):\n",
        "  return re.sub('<.*?>', '', text)\n",
        "\n",
        "print(remove_html_tags(\"<h>this is an html tags:</h> <p>ai vietnam</p>\"))"
      ],
      "metadata": {
        "colab": {
          "base_uri": "https://localhost:8080/"
        },
        "id": "TW2AXjbiSU2G",
        "outputId": "0e38b192-1306-4a74-a074-fa5347342885"
      },
      "execution_count": null,
      "outputs": [
        {
          "output_type": "stream",
          "name": "stdout",
          "text": [
            "this is an html tags: ai vietnam\n"
          ]
        }
      ]
    },
    {
      "cell_type": "markdown",
      "source": [
        "### Task 5: xóa dấu câu"
      ],
      "metadata": {
        "id": "M3xumrOtJ1-L"
      }
    },
    {
      "cell_type": "code",
      "source": [
        "import string\n",
        "\n",
        "def remove_puncts(text):\n",
        "  return text.translate(text.maketrans(\"\", \"\", string.punctuation))\n",
        "\n",
        "print(remove_puncts(input_str))"
      ],
      "metadata": {
        "colab": {
          "base_uri": "https://localhost:8080/"
        },
        "id": "PGZsuJJZI3lT",
        "outputId": "a7a95110-207f-4530-8c9d-8fbd34b3afe8"
      },
      "execution_count": null,
      "outputs": [
        {
          "output_type": "stream",
          "name": "stdout",
          "text": [
            "Hello Im a member of AI VIETNAM AIO 2022 courses\n"
          ]
        }
      ]
    },
    {
      "cell_type": "code",
      "source": [
        "i = 0\n",
        "for c in string.punctuation:\n",
        "  i += 1\n",
        "  print(c, end='\\t')\n",
        "  if i == 4:\n",
        "    i = 0\n",
        "    print('\\n')"
      ],
      "metadata": {
        "colab": {
          "base_uri": "https://localhost:8080/"
        },
        "id": "iE-ekmKsu6Hw",
        "outputId": "43e8e936-9fb6-42da-d177-49643ef215fd"
      },
      "execution_count": null,
      "outputs": [
        {
          "output_type": "stream",
          "name": "stdout",
          "text": [
            "!\t\"\t#\t$\t\n",
            "\n",
            "%\t&\t'\t(\t\n",
            "\n",
            ")\t*\t+\t,\t\n",
            "\n",
            "-\t.\t/\t:\t\n",
            "\n",
            ";\t<\t=\t>\t\n",
            "\n",
            "?\t@\t[\t\\\t\n",
            "\n",
            "]\t^\t_\t`\t\n",
            "\n",
            "{\t|\t}\t~\t\n",
            "\n"
          ]
        }
      ]
    },
    {
      "cell_type": "code",
      "source": [
        "print(remove_puncts(\"Hello, we're AIVN.\"))"
      ],
      "metadata": {
        "colab": {
          "base_uri": "https://localhost:8080/"
        },
        "id": "J5awgLdCtyVr",
        "outputId": "67aed153-55fc-40aa-9944-3b9a23966946"
      },
      "execution_count": null,
      "outputs": [
        {
          "output_type": "stream",
          "name": "stdout",
          "text": [
            "Hello were AIVN\n"
          ]
        }
      ]
    },
    {
      "cell_type": "markdown",
      "source": [
        "### Task 6: xóa stopwords"
      ],
      "metadata": {
        "id": "_p1nkBSdJ-PZ"
      }
    },
    {
      "cell_type": "code",
      "source": [
        "import nltk\n",
        "nltk.download(\"stopwords\")\n",
        "from nltk.corpus import stopwords\n",
        "\n",
        "def remove_stopwords(text):\n",
        "  return \" \".join([w for w in text.split() if w not in list(stopwords.words(\"english\"))])\n",
        "\n",
        "print(remove_stopwords(input_str))"
      ],
      "metadata": {
        "colab": {
          "base_uri": "https://localhost:8080/"
        },
        "id": "QmXt9zf_KBuD",
        "outputId": "a995479e-9ac4-4d3c-fd55-0eacb01f67bb"
      },
      "execution_count": null,
      "outputs": [
        {
          "output_type": "stream",
          "name": "stdout",
          "text": [
            "Hello, I'm member AI VIETNAM AIO 2022 courses.\n"
          ]
        },
        {
          "output_type": "stream",
          "name": "stderr",
          "text": [
            "[nltk_data] Downloading package stopwords to /root/nltk_data...\n",
            "[nltk_data]   Package stopwords is already up-to-date!\n"
          ]
        }
      ]
    },
    {
      "cell_type": "markdown",
      "source": [
        "### Task 7: xóa các từ có tần suất xuất hiện nhiều nhất (phạm vi trong 1 đoạn văn bản)"
      ],
      "metadata": {
        "id": "djNGIOa5LPJr"
      }
    },
    {
      "cell_type": "code",
      "source": [
        "def remove_freq_words(text, num_to_remove=2): \n",
        "  counter = {}\n",
        "  for word in text.split():\n",
        "    if word not in counter.keys():\n",
        "      counter[word] = 1\n",
        "    else:\n",
        "      counter[word] += 1\n",
        "  descending_counter = {key:value for key, value in sorted(counter.items(), reverse=True, key=lambda x: x[1])}\n",
        "  return \" \".join([w for w in text.split() if w not in list(descending_counter.keys())[:num_to_remove]])\n",
        "\n",
        "print(remove_freq_words(\"hello hello a a a ai vietnam\"))"
      ],
      "metadata": {
        "colab": {
          "base_uri": "https://localhost:8080/"
        },
        "id": "KFJqRp5fLTmN",
        "outputId": "f33bea61-5e74-4819-a413-dd10e7bbf88e"
      },
      "execution_count": null,
      "outputs": [
        {
          "output_type": "stream",
          "name": "stdout",
          "text": [
            "ai vietnam\n"
          ]
        }
      ]
    },
    {
      "cell_type": "markdown",
      "source": [
        "### Task 8: sửa lỗi chính tả"
      ],
      "metadata": {
        "id": "7AQqmvXi-x01"
      }
    },
    {
      "cell_type": "code",
      "source": [
        "!pip install autocorrect -q"
      ],
      "metadata": {
        "id": "9U0lkk5O-1kS"
      },
      "execution_count": null,
      "outputs": []
    },
    {
      "cell_type": "code",
      "source": [
        "from autocorrect import Speller\n",
        "autocorrect_spell = Speller(lang='en')\n",
        "def word_correction(text):\n",
        "  #segmented_str = str(sym_spell.word_segmentation(text).corrected_string)\n",
        "  return \" \".join([autocorrect_spell(w) for w in text.split()])\n",
        "print(word_correction(\"hellox weclome to aivn\"))"
      ],
      "metadata": {
        "colab": {
          "base_uri": "https://localhost:8080/"
        },
        "id": "hyNcMfn_-zql",
        "outputId": "aa040f28-96b3-4dbb-a050-a41c62ecd946"
      },
      "execution_count": null,
      "outputs": [
        {
          "output_type": "stream",
          "name": "stdout",
          "text": [
            "hello welcome to ain\n"
          ]
        }
      ]
    },
    {
      "cell_type": "markdown",
      "source": [
        "### Task 9: stemming"
      ],
      "metadata": {
        "id": "ZAcuyt6ZPEb9"
      }
    },
    {
      "cell_type": "code",
      "source": [
        "from nltk.stem.porter import PorterStemmer\n",
        "\n",
        "stemmer = PorterStemmer()\n",
        "def stemming(text):\n",
        "  return \" \".join([stemmer.stem(w) for w in text.split()])\n",
        "\n",
        "print(stemming(\"We are learning text preprocessing\"))"
      ],
      "metadata": {
        "colab": {
          "base_uri": "https://localhost:8080/"
        },
        "id": "MRcqK7bTPGSv",
        "outputId": "8c141e87-aa4e-4834-ef35-c51dc442ea27"
      },
      "execution_count": null,
      "outputs": [
        {
          "output_type": "stream",
          "name": "stdout",
          "text": [
            "we are learn text preprocess\n"
          ]
        }
      ]
    },
    {
      "cell_type": "markdown",
      "source": [
        "### Task 10: lemmatization"
      ],
      "metadata": {
        "id": "NTCsCJU7P9ch"
      }
    },
    {
      "cell_type": "code",
      "source": [
        "import spacy\n",
        "\n",
        "nlp = spacy.load('en_core_web_sm', disable=['parser', 'ner'])\n",
        "\n",
        "def lemmatize(text):\n",
        "  doc = nlp(text)\n",
        "  return \" \".join([w.lemma_ for w in doc])\n",
        "\n",
        "print(lemmatize(\"I hope you all the best\"))"
      ],
      "metadata": {
        "colab": {
          "base_uri": "https://localhost:8080/"
        },
        "id": "Ip1EyiM-P8O5",
        "outputId": "bad5654f-dd5d-47fb-e093-684ea004dfa0"
      },
      "execution_count": null,
      "outputs": [
        {
          "output_type": "stream",
          "name": "stdout",
          "text": [
            "I hope you all the good\n"
          ]
        }
      ]
    },
    {
      "cell_type": "markdown",
      "source": [
        "## TextPreprocessor"
      ],
      "metadata": {
        "id": "O4R82VOVxUDX"
      }
    },
    {
      "cell_type": "code",
      "source": [
        "!pip install autocorrect bs4 -q"
      ],
      "metadata": {
        "id": "61VoPbgAyDoH"
      },
      "execution_count": null,
      "outputs": []
    },
    {
      "cell_type": "code",
      "source": [
        "import string\n",
        "import nltk\n",
        "import spacy\n",
        "\n",
        "\n",
        "nltk.download(\"stopwords\")\n",
        "from nltk.corpus import stopwords\n",
        "from nltk.stem.porter import PorterStemmer\n",
        "from autocorrect import Speller\n",
        "from bs4 import BeautifulSoup\n",
        "\n",
        "class TextPreprocessor:\n",
        "  def __init__(self, stopwords=stopwords, stemmer=PorterStemmer()):\n",
        "    self.stopwords = stopwords\n",
        "    self.stemmer = stemmer\n",
        "    self.spacy_nlp = spacy.load('en_core_web_sm', disable=['parser', 'ner'])\n",
        "    self.autocorrect_spell = Speller(lang='en')\n",
        "\n",
        "  def lowercasing(self, text):\n",
        "    return text.lower() \n",
        "\n",
        "  def uppercasing(self, text):\n",
        "    return text.upper() \n",
        "\n",
        "  def remove_puncts(self, text):\n",
        "    return text.translate(text.maketrans(\"\", \"\", string.punctuation))\n",
        "\n",
        "  def remove_stopwords(self, text):\n",
        "    return \" \".join([w for w in text.split() if w not in list(self.stopwords.words(\"english\"))])\n",
        "\n",
        "  def remove_freq_words(self, text, num_to_remove=1): \n",
        "    counter = {}\n",
        "    for word in text.split():\n",
        "      if word not in counter.keys():\n",
        "        counter[word] = 1\n",
        "      else:\n",
        "        counter[word] += 1\n",
        "    descending_counter = {key:value for key, value in sorted(counter.items(), reverse=True, key=lambda x: x[1])}\n",
        "    return \" \".join([w for w in text.split() if w not in list(descending_counter.keys())[:num_to_remove]])\n",
        "\n",
        "  def stemming(self, text):\n",
        "    return \" \".join([self.stemmer.stem(w) for w in text.split()])\n",
        "\n",
        "  def lemmatizing(self, text):\n",
        "    doc = self.spacy_nlp(text)\n",
        "    return \" \".join([token.lemma_ for token in doc])\n",
        "\n",
        "  def remove_url(self, text):\n",
        "    return \" \".join([w for w in text.split() if not (w.startswith(\"http://\") or w.startswith(\"https://\"))])\n",
        "\n",
        "  def remove_html_tags(self, text):\n",
        "    soup = BeautifulSoup(text)\n",
        "    return soup.get_text()\n",
        "  \n",
        "  def spelling_correction(self, text):\n",
        "    return \" \".join([self.autocorrect_spell(w) for w in text.split()])\n",
        "\n",
        "  def preprocess_text(self, text, \n",
        "                         lowercase=True, \n",
        "                         uppercase=False, \n",
        "                         remove_punct=True, \n",
        "                         remove_stopwords=True, \n",
        "                         remove_freqs=True, \n",
        "                         stemming=True, \n",
        "                         lemmatize=False, \n",
        "                         remove_url=True, \n",
        "                         remove_html_tags=True,\n",
        "                         spelling_correct=True):\n",
        "    \n",
        "    if lowercase == True and uppercase == True:\n",
        "      print(\"Cannot do both lowercasing and uppercasing. Please specify one.\")\n",
        "      return\n",
        "    if stemming == True and lemmatize == True:\n",
        "      print(\"Cannot do both stemming and lemmatization. Please specify one.\")\n",
        "      return\n",
        "    \n",
        "    preprocessed_text = text\n",
        "    if lowercase == True:\n",
        "      preprocessed_text = self.lowercasing(preprocessed_text)\n",
        "    if uppercase == True:\n",
        "      preprocessed_text = self.uppercasing(preprocessed_text)\n",
        "    if remove_url == True:\n",
        "      preprocessed_text = self.remove_url(preprocessed_text)\n",
        "    if remove_html_tags == True:\n",
        "      preprocessed_text = self.remove_html_tags(preprocessed_text)\n",
        "    if remove_punct == True:\n",
        "      preprocessed_text = self.remove_puncts(preprocessed_text)\n",
        "    if remove_stopwords == True:\n",
        "      preprocessed_text = self.remove_stopwords(preprocessed_text)\n",
        "    if remove_freqs == True:\n",
        "      preprocessed_text = self.remove_freq_words(preprocessed_text)\n",
        "    if spelling_correct == True:\n",
        "      preprocessed_text = self.spelling_correction(preprocessed_text)\n",
        "    if stemming == True:\n",
        "      preprocessed_text = self.stemming(preprocessed_text)\n",
        "    if lemmatize == True:\n",
        "      preprocessed_text = self.lemmatizing(preprocessed_text)\n",
        "\n",
        "    return preprocessed_text\n",
        "\n",
        "preprocessor = TextPreprocessor()\n",
        "text = \"\"\"Hello AIO-2022, <p>we're AIVN. \n",
        "Follow us at: https://www.facebook.com/aivietnam.edu.vn\n",
        "#aivn #aio2022\"\"\"\n",
        "print(preprocessor.preprocess_text(text))\n",
        "print(preprocessor.preprocess_text(text, remove_punct=False, remove_url=False, spelling_correct=False))\n",
        "print(preprocessor.preprocess_text(text, lowercase=True, uppercase=True))"
      ],
      "metadata": {
        "colab": {
          "base_uri": "https://localhost:8080/"
        },
        "id": "pJv_65RgLDTY",
        "outputId": "7f33a66c-8af9-4715-99d0-1a18d59ec365"
      },
      "execution_count": null,
      "outputs": [
        {
          "output_type": "stream",
          "name": "stderr",
          "text": [
            "[nltk_data] Downloading package stopwords to /root/nltk_data...\n",
            "[nltk_data]   Package stopwords is already up-to-date!\n"
          ]
        },
        {
          "output_type": "stream",
          "name": "stdout",
          "text": [
            "hello ain follow us ain\n",
            "aio-2022, we'r aivn. follow us at: https://www.facebook.com/aivietnam.edu.vn #aivn #aio2022\n",
            "Cannot do both lowercasing and uppercasing. Please specify one.\n",
            "None\n"
          ]
        }
      ]
    },
    {
      "cell_type": "markdown",
      "source": [
        "# Problem 02: Text Vectorization"
      ],
      "metadata": {
        "id": "HbKmlDm4Y_L9"
      }
    },
    {
      "cell_type": "code",
      "source": [
        "!gdown --id 12kMc6YatHC3eLOca53VCgbLwlQPhWqyt"
      ],
      "metadata": {
        "id": "uAshy_TJZBec",
        "colab": {
          "base_uri": "https://localhost:8080/"
        },
        "outputId": "c1211669-207c-4b13-954a-3cd3acab809d"
      },
      "execution_count": null,
      "outputs": [
        {
          "output_type": "stream",
          "name": "stdout",
          "text": [
            "/usr/local/lib/python3.7/dist-packages/gdown/cli.py:131: FutureWarning: Option `--id` was deprecated in version 4.3.1 and will be removed in 5.0. You don't need to pass it anymore to use a file ID.\n",
            "  category=FutureWarning,\n",
            "Downloading...\n",
            "From: https://drive.google.com/uc?id=12kMc6YatHC3eLOca53VCgbLwlQPhWqyt\n",
            "To: /content/abstract_sample.txt\n",
            "100% 1.13k/1.13k [00:00<00:00, 1.81MB/s]\n"
          ]
        }
      ]
    },
    {
      "cell_type": "markdown",
      "source": [
        "### Task 1: Tokenization"
      ],
      "metadata": {
        "id": "JI2_iQ5DZMqB"
      }
    },
    {
      "cell_type": "code",
      "source": [
        "with open(\"abstract_sample.txt\") as f:\n",
        "    data = f.read()\n",
        "    data = data.strip()\n",
        "    tokenized_data = data.split()\n",
        "\n",
        "print(tokenized_data)"
      ],
      "metadata": {
        "id": "lpWtlluIZJX5",
        "colab": {
          "base_uri": "https://localhost:8080/"
        },
        "outputId": "cfee8eb4-0983-47f6-863d-a94b57b40090"
      },
      "execution_count": null,
      "outputs": [
        {
          "output_type": "stream",
          "name": "stdout",
          "text": [
            "['We', 'present', 'YOLO,', 'a', 'new', 'approach', 'to', 'object', 'detection.', 'Prior', 'work', 'on', 'object', 'detection', 'repurposes', 'classifiers', 'to', 'per-', 'form', 'detection.', 'Instead,', 'we', 'frame', 'object', 'detection', 'as', 'a', 're-', 'gression', 'problem', 'to', 'spatially', 'separated', 'bounding', 'boxes', 'and', 'associated', 'class', 'probabilities.', 'A', 'single', 'neural', 'network', 'pre-', 'dicts', 'bounding', 'boxes', 'and', 'class', 'probabilities', 'directly', 'from', 'full', 'images', 'in', 'one', 'evaluation.', 'Since', 'the', 'whole', 'detection', 'pipeline', 'is', 'a', 'single', 'network,', 'it', 'can', 'be', 'optimized', 'end-to-end', 'directly', 'on', 'detection', 'performance.', 'Our', 'unified', 'architecture', 'is', 'extremely', 'fast.', 'Our', 'base', 'YOLO', 'model', 'processes', 'images', 'in', 'real-time', 'at', '45', 'frames', 'per', 'second.', 'A', 'smaller', 'version', 'of', 'the', 'network,', 'Fast', 'YOLO,', 'processes', 'an', 'astounding', '155', 'frames', 'per', 'second', 'while', 'still', 'achieving', 'double', 'the', 'mAP', 'of', 'other', 'real-time', 'detec-', 'tors.', 'Compared', 'to', 'state-of-the-art', 'detection', 'systems,', 'YOLO', 'makes', 'more', 'localization', 'errors', 'but', 'is', 'less', 'likely', 'to', 'predict', 'false', 'positives', 'on', 'background.', 'Finally,', 'YOLO', 'learns', 'very', 'general', 'representations', 'of', 'objects.', 'It', 'outperforms', 'other', 'de-', 'tection', 'methods,', 'including', 'DPM', 'and', 'R-CNN,', 'when', 'gener-', 'alizing', 'from', 'natural', 'images', 'to', 'other', 'domains', 'like', 'artwork.']\n"
          ]
        }
      ]
    },
    {
      "cell_type": "markdown",
      "source": [
        "### Task 2: Create dictionary"
      ],
      "metadata": {
        "id": "hSUPHtklZUUn"
      }
    },
    {
      "cell_type": "code",
      "source": [
        "dictionary = []\n",
        "for word in tokenized_data:\n",
        "    if word not in dictionary:\n",
        "        dictionary.append(word)\n",
        "\n",
        "print(dictionary)"
      ],
      "metadata": {
        "id": "wTJgLvZsZVvR",
        "colab": {
          "base_uri": "https://localhost:8080/"
        },
        "outputId": "09422483-35af-4dd0-9d04-83f6ebeb1ad9"
      },
      "execution_count": null,
      "outputs": [
        {
          "output_type": "stream",
          "name": "stdout",
          "text": [
            "['We', 'present', 'YOLO,', 'a', 'new', 'approach', 'to', 'object', 'detection.', 'Prior', 'work', 'on', 'detection', 'repurposes', 'classifiers', 'per-', 'form', 'Instead,', 'we', 'frame', 'as', 're-', 'gression', 'problem', 'spatially', 'separated', 'bounding', 'boxes', 'and', 'associated', 'class', 'probabilities.', 'A', 'single', 'neural', 'network', 'pre-', 'dicts', 'probabilities', 'directly', 'from', 'full', 'images', 'in', 'one', 'evaluation.', 'Since', 'the', 'whole', 'pipeline', 'is', 'network,', 'it', 'can', 'be', 'optimized', 'end-to-end', 'performance.', 'Our', 'unified', 'architecture', 'extremely', 'fast.', 'base', 'YOLO', 'model', 'processes', 'real-time', 'at', '45', 'frames', 'per', 'second.', 'smaller', 'version', 'of', 'Fast', 'an', 'astounding', '155', 'second', 'while', 'still', 'achieving', 'double', 'mAP', 'other', 'detec-', 'tors.', 'Compared', 'state-of-the-art', 'systems,', 'makes', 'more', 'localization', 'errors', 'but', 'less', 'likely', 'predict', 'false', 'positives', 'background.', 'Finally,', 'learns', 'very', 'general', 'representations', 'objects.', 'It', 'outperforms', 'de-', 'tection', 'methods,', 'including', 'DPM', 'R-CNN,', 'when', 'gener-', 'alizing', 'natural', 'domains', 'like', 'artwork.']\n"
          ]
        }
      ]
    },
    {
      "cell_type": "markdown",
      "source": [
        "### Task 3.1: Count vectorizer"
      ],
      "metadata": {
        "id": "kZFPjTK7zvyC"
      }
    },
    {
      "cell_type": "code",
      "source": [
        "def count_vectorizer(text, dictionary):\n",
        "  vector = [0 for _ in range(len(dictionary))]\n",
        "  tokens = text.split()\n",
        "  for token in tokens:\n",
        "    if token in dictionary:\n",
        "      vector[dictionary.index(token)] += 1\n",
        "  \n",
        "  return vector\n",
        "\n",
        "print(count_vectorizer(\"This is YOLO\", dictionary))"
      ],
      "metadata": {
        "colab": {
          "base_uri": "https://localhost:8080/"
        },
        "id": "6rgMUbHHzzA5",
        "outputId": "7def946c-4496-4ecf-ff20-fc566798bb62"
      },
      "execution_count": null,
      "outputs": [
        {
          "output_type": "stream",
          "name": "stdout",
          "text": [
            "[0, 0, 0, 0, 0, 0, 0, 0, 0, 0, 0, 0, 0, 0, 0, 0, 0, 0, 0, 0, 0, 0, 0, 0, 0, 0, 0, 0, 0, 0, 0, 0, 0, 0, 0, 0, 0, 0, 0, 0, 0, 0, 0, 0, 0, 0, 0, 0, 0, 0, 1, 0, 0, 0, 0, 0, 0, 0, 0, 0, 0, 0, 0, 0, 1, 0, 0, 0, 0, 0, 0, 0, 0, 0, 0, 0, 0, 0, 0, 0, 0, 0, 0, 0, 0, 0, 0, 0, 0, 0, 0, 0, 0, 0, 0, 0, 0, 0, 0, 0, 0, 0, 0, 0, 0, 0, 0, 0, 0, 0, 0, 0, 0, 0, 0, 0, 0, 0, 0, 0, 0, 0, 0, 0]\n"
          ]
        }
      ]
    },
    {
      "cell_type": "markdown",
      "source": [
        "### Task 3.2: One-hot encoding"
      ],
      "metadata": {
        "id": "8uFkQ6G6Zlap"
      }
    },
    {
      "cell_type": "code",
      "source": [
        "def one_hot_encoding(text, dictionary):\n",
        "  vector = []\n",
        "  tokens = text.split()\n",
        "  for token in tokens:\n",
        "    vector_one_hot = [0 for _ in range(len(dictionary))]\n",
        "    if word in dictionary:\n",
        "      vector_one_hot[dictionary.index(word)] = 1\n",
        "    vector.append(vector_one_hot)\n",
        "  \n",
        "  return vector\n",
        "\n",
        "print(one_hot_encoding(\"This is YOLO\", dictionary))"
      ],
      "metadata": {
        "id": "fgPt3HXuZnoB",
        "colab": {
          "base_uri": "https://localhost:8080/"
        },
        "outputId": "aad2db39-7e6c-42fb-d769-204468e1f38c"
      },
      "execution_count": null,
      "outputs": [
        {
          "output_type": "stream",
          "name": "stdout",
          "text": [
            "[[0, 0, 0, 0, 0, 0, 0, 0, 0, 0, 0, 0, 0, 0, 0, 0, 0, 0, 0, 0, 0, 0, 0, 0, 0, 0, 0, 0, 0, 0, 0, 0, 0, 0, 0, 0, 0, 0, 0, 0, 0, 0, 0, 0, 0, 0, 0, 0, 0, 0, 0, 0, 0, 0, 0, 0, 0, 0, 0, 0, 0, 0, 0, 0, 0, 0, 0, 0, 0, 0, 0, 0, 0, 0, 0, 0, 0, 0, 0, 0, 0, 0, 0, 0, 0, 0, 0, 0, 0, 0, 0, 0, 0, 0, 0, 0, 0, 0, 0, 0, 0, 0, 0, 0, 0, 0, 0, 0, 0, 0, 0, 0, 0, 0, 0, 0, 0, 0, 0, 0, 0, 0, 0, 1], [0, 0, 0, 0, 0, 0, 0, 0, 0, 0, 0, 0, 0, 0, 0, 0, 0, 0, 0, 0, 0, 0, 0, 0, 0, 0, 0, 0, 0, 0, 0, 0, 0, 0, 0, 0, 0, 0, 0, 0, 0, 0, 0, 0, 0, 0, 0, 0, 0, 0, 0, 0, 0, 0, 0, 0, 0, 0, 0, 0, 0, 0, 0, 0, 0, 0, 0, 0, 0, 0, 0, 0, 0, 0, 0, 0, 0, 0, 0, 0, 0, 0, 0, 0, 0, 0, 0, 0, 0, 0, 0, 0, 0, 0, 0, 0, 0, 0, 0, 0, 0, 0, 0, 0, 0, 0, 0, 0, 0, 0, 0, 0, 0, 0, 0, 0, 0, 0, 0, 0, 0, 0, 0, 1], [0, 0, 0, 0, 0, 0, 0, 0, 0, 0, 0, 0, 0, 0, 0, 0, 0, 0, 0, 0, 0, 0, 0, 0, 0, 0, 0, 0, 0, 0, 0, 0, 0, 0, 0, 0, 0, 0, 0, 0, 0, 0, 0, 0, 0, 0, 0, 0, 0, 0, 0, 0, 0, 0, 0, 0, 0, 0, 0, 0, 0, 0, 0, 0, 0, 0, 0, 0, 0, 0, 0, 0, 0, 0, 0, 0, 0, 0, 0, 0, 0, 0, 0, 0, 0, 0, 0, 0, 0, 0, 0, 0, 0, 0, 0, 0, 0, 0, 0, 0, 0, 0, 0, 0, 0, 0, 0, 0, 0, 0, 0, 0, 0, 0, 0, 0, 0, 0, 0, 0, 0, 0, 0, 1]]\n"
          ]
        }
      ]
    },
    {
      "cell_type": "markdown",
      "source": [
        "## TextVectorizer"
      ],
      "metadata": {
        "id": "WFQmJK1jzrhu"
      }
    },
    {
      "cell_type": "code",
      "source": [
        "class TextVectorizer:\n",
        "  def __init__(self, dictionary=None):\n",
        "    self.dictionary = dictionary\n",
        "  \n",
        "  def tokenize(self, text):\n",
        "    return text.split(\" \")\n",
        "  \n",
        "  def create_dictionary(self, corpus):\n",
        "    dictionary = []\n",
        "    for doc in corpus:\n",
        "      tokens = self.tokenize(doc)\n",
        "      for token in tokens:\n",
        "        if token not in dictionary:\n",
        "          dictionary.append(token)\n",
        "\n",
        "    self.dictionary = dictionary\n",
        "    return dictionary\n",
        "\n",
        "  def one_hot_encoding(self, text):\n",
        "    vocabs = self.dictionary\n",
        "    tokens = self.tokenize(text)\n",
        "    vector = []\n",
        "    for token in tokens:\n",
        "      sub_vector = [0 for _ in range(len(vocabs))]\n",
        "      if token in vocabs:\n",
        "        sub_vector[vocabs.index(token)] = 1\n",
        "      vector.append(sub_vector)\n",
        "\n",
        "    return vector\n",
        "  \n",
        "  def count_vectorizer(self, text):\n",
        "    vocabs = self.dictionary\n",
        "    vector = [0 for _ in range(len(vocabs))]\n",
        "    tokens = self.tokenize(text)\n",
        "    for token in tokens:\n",
        "      if token in vocabs:\n",
        "        vector[vocabs.index(token)] += 1\n",
        "    \n",
        "    return vector\n",
        "\n",
        "vectorizer = TextVectorizer()\n",
        "corpus = [\n",
        "  \"hello my name is robo\",\n",
        "  \"this is the world of happiness\",\n",
        "  \"welcome to machine learning\",\n",
        "  \"please be aware of errors\",\n",
        "  \"deep learning is fun\",\n",
        "  \"welcome to aivn\",\n",
        "  \"hope you all the best, aio2022\"\n",
        "]\n",
        "vectorizer.create_dictionary(corpus)\n",
        "text = \"welcome aio2022\"\n",
        "print(vectorizer.count_vectorizer(text))\n",
        "\n",
        "dictionary = ['hello', 'my', 'name', 'robo', 'world', 'welcome', 'happiness']\n",
        "vectorizer = TextVectorizer(dictionary)\n",
        "print(vectorizer.count_vectorizer(text))\n",
        "print(vectorizer.one_hot_encoding(text))"
      ],
      "metadata": {
        "colab": {
          "base_uri": "https://localhost:8080/"
        },
        "id": "b0NTQlcyzF4-",
        "outputId": "1407dbfa-a9f2-42c0-ee11-f03365138def"
      },
      "execution_count": null,
      "outputs": [
        {
          "output_type": "stream",
          "name": "stdout",
          "text": [
            "[0, 0, 0, 0, 0, 0, 0, 0, 0, 0, 1, 0, 0, 0, 0, 0, 0, 0, 0, 0, 0, 0, 0, 0, 0, 1]\n",
            "[0, 0, 0, 0, 0, 1, 0]\n",
            "[[0, 0, 0, 0, 0, 1, 0], [0, 0, 0, 0, 0, 0, 0]]\n"
          ]
        }
      ]
    },
    {
      "cell_type": "markdown",
      "source": [
        "# Problem 03: Autocomplete"
      ],
      "metadata": {
        "id": "vjg-bQnPaXZW"
      }
    },
    {
      "cell_type": "code",
      "source": [
        "!gdown --id 16IiXNoRJxsRBfFIr1wacrULbQHGi_lEa\n",
        "!unzip txt.zip"
      ],
      "metadata": {
        "id": "3q3UgyO6aaJ5",
        "colab": {
          "base_uri": "https://localhost:8080/"
        },
        "outputId": "61a034e9-20d1-4235-d749-f7f1316023b4"
      },
      "execution_count": null,
      "outputs": [
        {
          "output_type": "stream",
          "name": "stdout",
          "text": [
            "/usr/local/lib/python3.7/dist-packages/gdown/cli.py:131: FutureWarning: Option `--id` was deprecated in version 4.3.1 and will be removed in 5.0. You don't need to pass it anymore to use a file ID.\n",
            "  category=FutureWarning,\n",
            "Downloading...\n",
            "From: https://drive.google.com/uc?id=16IiXNoRJxsRBfFIr1wacrULbQHGi_lEa\n",
            "To: /content/txt.zip\n",
            "100% 276k/276k [00:00<00:00, 80.2MB/s]\n",
            "Archive:  txt.zip\n",
            "   creating: txt/\n",
            " extracting: txt/B01___24_Matthew_____ENGESVN1DA_verse_34.txt  \n",
            " extracting: txt/B01___25_Matthew_____ENGESVN1DA_verse_41.txt  \n",
            " extracting: txt/B01___25_Matthew_____ENGESVN1DA_verse_6.txt  \n",
            " extracting: txt/B01___25_Matthew_____ENGESVN1DA_verse_1.txt  \n",
            " extracting: txt/B01___13_Matthew_____ENGESVN1DA_verse_48.txt  \n",
            " extracting: txt/B01___07_Matthew_____ENGESVN1DA_verse_1.txt  \n",
            " extracting: txt/B01___05_Matthew_____ENGESVN1DA_verse_44.txt  \n",
            " extracting: txt/B01___25_Matthew_____ENGESVN1DA_verse_10.txt  \n",
            " extracting: txt/B01___07_Matthew_____ENGESVN1DA_verse_18.txt  \n",
            " extracting: txt/B01___25_Matthew_____ENGESVN1DA_verse_22.txt  \n",
            " extracting: txt/B01___24_Matthew_____ENGESVN1DA_verse_46.txt  \n",
            " extracting: txt/B01___25_Matthew_____ENGESVN1DA_verse_24.txt  \n",
            " extracting: txt/B01___25_Matthew_____ENGESVN1DA_verse_5.txt  \n",
            " extracting: txt/B01___24_Matthew_____ENGESVN1DA_verse_50.txt  \n",
            " extracting: txt/B01___25_Matthew_____ENGESVN1DA_verse_30.txt  \n",
            " extracting: txt/B01___26_Matthew_____ENGESVN1DA_verse_66.txt  \n",
            " extracting: txt/B01___25_Matthew_____ENGESVN1DA_verse_3.txt  \n",
            " extracting: txt/B01___26_Matthew_____ENGESVN1DA_verse_31.txt  \n",
            " extracting: txt/B01___05_Matthew_____ENGESVN1DA_verse_47.txt  \n",
            " extracting: txt/B01___02_Matthew_____ENGESVN1DA_verse_23.txt  \n",
            " extracting: txt/B01___26_Matthew_____ENGESVN1DA_verse_62.txt  \n",
            " extracting: txt/B01___25_Matthew_____ENGESVN1DA_verse_29.txt  \n",
            " extracting: txt/B01___02_Matthew_____ENGESVN1DA_verse_14.txt  \n",
            " extracting: txt/B01___04_Matthew_____ENGESVN1DA_verse_21.txt  \n",
            " extracting: txt/B01___25_Matthew_____ENGESVN1DA_verse_8.txt  \n",
            " extracting: txt/B01___25_Matthew_____ENGESVN1DA_verse_18.txt  \n",
            " extracting: txt/B01___24_Matthew_____ENGESVN1DA_verse_9.txt  \n",
            " extracting: txt/B01___25_Matthew_____ENGESVN1DA_verse_0.txt  \n",
            " extracting: txt/B01___26_Matthew_____ENGESVN1DA_verse_60.txt  \n",
            " extracting: txt/B01___18_Matthew_____ENGESVN1DA_verse_28.txt  \n",
            " extracting: txt/B01___26_Matthew_____ENGESVN1DA_verse_7.txt  \n",
            " extracting: txt/B01___25_Matthew_____ENGESVN1DA_verse_15.txt  \n",
            " extracting: txt/B01___13_Matthew_____ENGESVN1DA_verse_45.txt  \n",
            " extracting: txt/B01___25_Matthew_____ENGESVN1DA_verse_16.txt  \n",
            " extracting: txt/B01___02_Matthew_____ENGESVN1DA_verse_4.txt  \n",
            " extracting: txt/B01___26_Matthew_____ENGESVN1DA_verse_53.txt  \n",
            " extracting: txt/B01___06_Matthew_____ENGESVN1DA_verse_14.txt  \n",
            " extracting: txt/B01___25_Matthew_____ENGESVN1DA_verse_33.txt  \n",
            " extracting: txt/B01___26_Matthew_____ENGESVN1DA_verse_52.txt  \n",
            " extracting: txt/B01___13_Matthew_____ENGESVN1DA_verse_5.txt  \n",
            " extracting: txt/B01___05_Matthew_____ENGESVN1DA_verse_45.txt  \n",
            " extracting: txt/B01___25_Matthew_____ENGESVN1DA_verse_27.txt  \n",
            " extracting: txt/B01___25_Matthew_____ENGESVN1DA_verse_20.txt  \n",
            " extracting: txt/B01___14_Matthew_____ENGESVN1DA_verse_2.txt  \n",
            " extracting: txt/B01___05_Matthew_____ENGESVN1DA_verse_10.txt  \n",
            " extracting: txt/B01___26_Matthew_____ENGESVN1DA_verse_10.txt  \n",
            " extracting: txt/B01___05_Matthew_____ENGESVN1DA_verse_46.txt  \n",
            " extracting: txt/B01___24_Matthew_____ENGESVN1DA_verse_6.txt  \n",
            " extracting: txt/B01___25_Matthew_____ENGESVN1DA_verse_14.txt  \n",
            " extracting: txt/B01___26_Matthew_____ENGESVN1DA_verse_55.txt  \n",
            " extracting: txt/B01___26_Matthew_____ENGESVN1DA_verse_65.txt  \n",
            " extracting: txt/B01___25_Matthew_____ENGESVN1DA_verse_23.txt  \n",
            " extracting: txt/B01___20_Matthew_____ENGESVN1DA_verse_24.txt  \n",
            " extracting: txt/B01___26_Matthew_____ENGESVN1DA_verse_6.txt  \n",
            " extracting: txt/B01___25_Matthew_____ENGESVN1DA_verse_45.txt  \n",
            " extracting: txt/B01___06_Matthew_____ENGESVN1DA_verse_20.txt  \n",
            " extracting: txt/B01___26_Matthew_____ENGESVN1DA_verse_36.txt  \n",
            " extracting: txt/B01___24_Matthew_____ENGESVN1DA_verse_38.txt  \n",
            " extracting: txt/B01___26_Matthew_____ENGESVN1DA_verse_44.txt  \n",
            " extracting: txt/B01___06_Matthew_____ENGESVN1DA_verse_27.txt  \n",
            " extracting: txt/B01___24_Matthew_____ENGESVN1DA_verse_8.txt  \n",
            " extracting: txt/B01___13_Matthew_____ENGESVN1DA_verse_58.txt  \n",
            " extracting: txt/B01___24_Matthew_____ENGESVN1DA_verse_35.txt  \n",
            " extracting: txt/B01___24_Matthew_____ENGESVN1DA_verse_36.txt  \n",
            " extracting: txt/B01___26_Matthew_____ENGESVN1DA_verse_48.txt  \n",
            " extracting: txt/B01___03_Matthew_____ENGESVN1DA_verse_12.txt  \n",
            " extracting: txt/B01___24_Matthew_____ENGESVN1DA_verse_37.txt  \n",
            " extracting: txt/B01___03_Matthew_____ENGESVN1DA_verse_10.txt  \n",
            " extracting: txt/B01___02_Matthew_____ENGESVN1DA_verse_9.txt  \n",
            " extracting: txt/B01___02_Matthew_____ENGESVN1DA_verse_6.txt  \n",
            " extracting: txt/B01___02_Matthew_____ENGESVN1DA_verse_8.txt  \n",
            " extracting: txt/B01___26_Matthew_____ENGESVN1DA_verse_26.txt  \n",
            " extracting: txt/B01___16_Matthew_____ENGESVN1DA_verse_1.txt  \n",
            " extracting: txt/B01___22_Matthew_____ENGESVN1DA_verse_40.txt  \n",
            " extracting: txt/B01___05_Matthew_____ENGESVN1DA_verse_15.txt  \n",
            " extracting: txt/B01___08_Matthew_____ENGESVN1DA_verse_21.txt  \n",
            " extracting: txt/B01___03_Matthew_____ENGESVN1DA_verse_15.txt  \n",
            " extracting: txt/B01___06_Matthew_____ENGESVN1DA_verse_33.txt  \n",
            " extracting: txt/B01___08_Matthew_____ENGESVN1DA_verse_18.txt  \n",
            " extracting: txt/B01___01_Matthew_____ENGESVN1DA_verse_9.txt  \n",
            " extracting: txt/B01___06_Matthew_____ENGESVN1DA_verse_25.txt  \n",
            " extracting: txt/B01___01_Matthew_____ENGESVN1DA_verse_8.txt  \n",
            " extracting: txt/B01___05_Matthew_____ENGESVN1DA_verse_11.txt  \n",
            " extracting: txt/B01___06_Matthew_____ENGESVN1DA_verse_18.txt  \n",
            " extracting: txt/B01___07_Matthew_____ENGESVN1DA_verse_9.txt  \n",
            " extracting: txt/B01___01_Matthew_____ENGESVN1DA_verse_12.txt  \n",
            " extracting: txt/B01___06_Matthew_____ENGESVN1DA_verse_24.txt  \n",
            " extracting: txt/B01___05_Matthew_____ENGESVN1DA_verse_5.txt  \n",
            " extracting: txt/B01___05_Matthew_____ENGESVN1DA_verse_31.txt  \n",
            " extracting: txt/B01___06_Matthew_____ENGESVN1DA_verse_12.txt  \n",
            " extracting: txt/B01___01_Matthew_____ENGESVN1DA_verse_7.txt  \n",
            " extracting: txt/B01___04_Matthew_____ENGESVN1DA_verse_11.txt  \n",
            " extracting: txt/B01___02_Matthew_____ENGESVN1DA_verse_17.txt  \n",
            " extracting: txt/B01___03_Matthew_____ENGESVN1DA_verse_3.txt  \n",
            " extracting: txt/B01___07_Matthew_____ENGESVN1DA_verse_29.txt  \n",
            " extracting: txt/B01___02_Matthew_____ENGESVN1DA_verse_18.txt  \n",
            " extracting: txt/B01___01_Matthew_____ENGESVN1DA_verse_16.txt  \n",
            " extracting: txt/B01___06_Matthew_____ENGESVN1DA_verse_32.txt  \n",
            " extracting: txt/B01___06_Matthew_____ENGESVN1DA_verse_23.txt  \n",
            " extracting: txt/B01___02_Matthew_____ENGESVN1DA_verse_3.txt  \n",
            " extracting: txt/B01___01_Matthew_____ENGESVN1DA_verse_6.txt  \n",
            " extracting: txt/B01___03_Matthew_____ENGESVN1DA_verse_13.txt  \n",
            " extracting: txt/B01___05_Matthew_____ENGESVN1DA_verse_23.txt  \n",
            " extracting: txt/B01___05_Matthew_____ENGESVN1DA_verse_1.txt  \n",
            " extracting: txt/B01___01_Matthew_____ENGESVN1DA_verse_0.txt  \n",
            " extracting: txt/B01___04_Matthew_____ENGESVN1DA_verse_16.txt  \n",
            " extracting: txt/B01___06_Matthew_____ENGESVN1DA_verse_15.txt  \n",
            " extracting: txt/B01___24_Matthew_____ENGESVN1DA_verse_44.txt  \n",
            " extracting: txt/B01___01_Matthew_____ENGESVN1DA_verse_11.txt  \n",
            " extracting: txt/B01___03_Matthew_____ENGESVN1DA_verse_6.txt  \n",
            " extracting: txt/B01___02_Matthew_____ENGESVN1DA_verse_0.txt  \n",
            " extracting: txt/B01___06_Matthew_____ENGESVN1DA_verse_22.txt  \n",
            " extracting: txt/B01___04_Matthew_____ENGESVN1DA_verse_2.txt  \n",
            " extracting: txt/B01___06_Matthew_____ENGESVN1DA_verse_4.txt  \n",
            " extracting: txt/B01___14_Matthew_____ENGESVN1DA_verse_33.txt  \n",
            " extracting: txt/B01___25_Matthew_____ENGESVN1DA_verse_17.txt  \n",
            " extracting: txt/B01___18_Matthew_____ENGESVN1DA_verse_23.txt  \n",
            " extracting: txt/B01___15_Matthew_____ENGESVN1DA_verse_17.txt  \n",
            " extracting: txt/B01___06_Matthew_____ENGESVN1DA_verse_11.txt  \n",
            " extracting: txt/B01___18_Matthew_____ENGESVN1DA_verse_2.txt  \n",
            " extracting: txt/B01___16_Matthew_____ENGESVN1DA_verse_24.txt  \n",
            " extracting: txt/B01___24_Matthew_____ENGESVN1DA_verse_51.txt  \n",
            " extracting: txt/B01___26_Matthew_____ENGESVN1DA_verse_16.txt  \n",
            " extracting: txt/B01___16_Matthew_____ENGESVN1DA_verse_17.txt  \n",
            " extracting: txt/B01___24_Matthew_____ENGESVN1DA_verse_43.txt  \n",
            " extracting: txt/B01___24_Matthew_____ENGESVN1DA_verse_31.txt  \n",
            " extracting: txt/B01___24_Matthew_____ENGESVN1DA_verse_39.txt  \n",
            " extracting: txt/B01___15_Matthew_____ENGESVN1DA_verse_5.txt  \n",
            " extracting: txt/B01___03_Matthew_____ENGESVN1DA_verse_2.txt  \n",
            " extracting: txt/B01___25_Matthew_____ENGESVN1DA_verse_13.txt  \n",
            " extracting: txt/B01___24_Matthew_____ENGESVN1DA_verse_48.txt  \n",
            " extracting: txt/B01___14_Matthew_____ENGESVN1DA_verse_6.txt  \n",
            " extracting: txt/B01___22_Matthew_____ENGESVN1DA_verse_43.txt  \n",
            " extracting: txt/B01___22_Matthew_____ENGESVN1DA_verse_4.txt  \n",
            " extracting: txt/B01___24_Matthew_____ENGESVN1DA_verse_47.txt  \n",
            " extracting: txt/B01___26_Matthew_____ENGESVN1DA_verse_46.txt  \n",
            " extracting: txt/B01___25_Matthew_____ENGESVN1DA_verse_11.txt  \n",
            " extracting: txt/B01___15_Matthew_____ENGESVN1DA_verse_12.txt  \n",
            " extracting: txt/B01___25_Matthew_____ENGESVN1DA_verse_19.txt  \n",
            " extracting: txt/B01___18_Matthew_____ENGESVN1DA_verse_27.txt  \n",
            " extracting: txt/B01___05_Matthew_____ENGESVN1DA_verse_40.txt  \n",
            " extracting: txt/B01___08_Matthew_____ENGESVN1DA_verse_16.txt  \n",
            " extracting: txt/B01___04_Matthew_____ENGESVN1DA_verse_17.txt  \n",
            " extracting: txt/B01___18_Matthew_____ENGESVN1DA_verse_32.txt  \n",
            " extracting: txt/B01___18_Matthew_____ENGESVN1DA_verse_31.txt  \n",
            " extracting: txt/B01___26_Matthew_____ENGESVN1DA_verse_13.txt  \n",
            " extracting: txt/B01___20_Matthew_____ENGESVN1DA_verse_27.txt  \n",
            " extracting: txt/B01___26_Matthew_____ENGESVN1DA_verse_25.txt  \n",
            " extracting: txt/B01___20_Matthew_____ENGESVN1DA_verse_29.txt  \n",
            " extracting: txt/B01___26_Matthew_____ENGESVN1DA_verse_47.txt  \n",
            " extracting: txt/B01___09_Matthew_____ENGESVN1DA_verse_11.txt  \n",
            " extracting: txt/B01___06_Matthew_____ENGESVN1DA_verse_31.txt  \n",
            " extracting: txt/B01___09_Matthew_____ENGESVN1DA_verse_25.txt  \n",
            " extracting: txt/B01___26_Matthew_____ENGESVN1DA_verse_20.txt  \n",
            " extracting: txt/B01___26_Matthew_____ENGESVN1DA_verse_14.txt  \n",
            " extracting: txt/B01___26_Matthew_____ENGESVN1DA_verse_1.txt  \n",
            " extracting: txt/B01___13_Matthew_____ENGESVN1DA_verse_12.txt  \n",
            " extracting: txt/B01___25_Matthew_____ENGESVN1DA_verse_7.txt  \n",
            " extracting: txt/B01___26_Matthew_____ENGESVN1DA_verse_39.txt  \n",
            " extracting: txt/B01___09_Matthew_____ENGESVN1DA_verse_37.txt  \n",
            " extracting: txt/B01___25_Matthew_____ENGESVN1DA_verse_31.txt  \n",
            " extracting: txt/B01___26_Matthew_____ENGESVN1DA_verse_17.txt  \n",
            " extracting: txt/B01___26_Matthew_____ENGESVN1DA_verse_49.txt  \n",
            " extracting: txt/B01___13_Matthew_____ENGESVN1DA_verse_19.txt  \n",
            " extracting: txt/B01___26_Matthew_____ENGESVN1DA_verse_37.txt  \n",
            " extracting: txt/B01___26_Matthew_____ENGESVN1DA_verse_64.txt  \n",
            " extracting: txt/B01___23_Matthew_____ENGESVN1DA_verse_3.txt  \n",
            " extracting: txt/B01___23_Matthew_____ENGESVN1DA_verse_37.txt  \n",
            " extracting: txt/B01___25_Matthew_____ENGESVN1DA_verse_44.txt  \n",
            " extracting: txt/B01___26_Matthew_____ENGESVN1DA_verse_68.txt  \n",
            " extracting: txt/B01___13_Matthew_____ENGESVN1DA_verse_39.txt  \n",
            " extracting: txt/B01___26_Matthew_____ENGESVN1DA_verse_63.txt  \n",
            " extracting: txt/B01___22_Matthew_____ENGESVN1DA_verse_38.txt  \n",
            " extracting: txt/B01___23_Matthew_____ENGESVN1DA_verse_4.txt  \n",
            " extracting: txt/B01___26_Matthew_____ENGESVN1DA_verse_42.txt  \n",
            " extracting: txt/B01___26_Matthew_____ENGESVN1DA_verse_40.txt  \n",
            " extracting: txt/B01___23_Matthew_____ENGESVN1DA_verse_5.txt  \n",
            " extracting: txt/B01___13_Matthew_____ENGESVN1DA_verse_34.txt  \n",
            " extracting: txt/B01___23_Matthew_____ENGESVN1DA_verse_36.txt  \n",
            " extracting: txt/B01___24_Matthew_____ENGESVN1DA_verse_10.txt  \n",
            " extracting: txt/B01___26_Matthew_____ENGESVN1DA_verse_51.txt  \n",
            " extracting: txt/B01___26_Matthew_____ENGESVN1DA_verse_69.txt  \n",
            " extracting: txt/B01___24_Matthew_____ENGESVN1DA_verse_15.txt  \n",
            " extracting: txt/B01___23_Matthew_____ENGESVN1DA_verse_29.txt  \n",
            " extracting: txt/B01___26_Matthew_____ENGESVN1DA_verse_38.txt  \n",
            " extracting: txt/B01___23_Matthew_____ENGESVN1DA_verse_30.txt  \n",
            " extracting: txt/B01___24_Matthew_____ENGESVN1DA_verse_11.txt  \n",
            " extracting: txt/B01___24_Matthew_____ENGESVN1DA_verse_0.txt  \n",
            " extracting: txt/B01___26_Matthew_____ENGESVN1DA_verse_15.txt  \n",
            " extracting: txt/B01___18_Matthew_____ENGESVN1DA_verse_19.txt  \n",
            " extracting: txt/B01___24_Matthew_____ENGESVN1DA_verse_45.txt  \n",
            " extracting: txt/B01___25_Matthew_____ENGESVN1DA_verse_34.txt  \n",
            " extracting: txt/B01___23_Matthew_____ENGESVN1DA_verse_33.txt  \n",
            " extracting: txt/B01___16_Matthew_____ENGESVN1DA_verse_27.txt  \n",
            " extracting: txt/B01___18_Matthew_____ENGESVN1DA_verse_15.txt  \n",
            " extracting: txt/B01___18_Matthew_____ENGESVN1DA_verse_16.txt  \n",
            " extracting: txt/B01___23_Matthew_____ENGESVN1DA_verse_39.txt  \n",
            " extracting: txt/B01___13_Matthew_____ENGESVN1DA_verse_30.txt  \n",
            " extracting: txt/B01___25_Matthew_____ENGESVN1DA_verse_36.txt  \n",
            " extracting: txt/B01___20_Matthew_____ENGESVN1DA_verse_17.txt  \n",
            " extracting: txt/B01___18_Matthew_____ENGESVN1DA_verse_8.txt  \n",
            " extracting: txt/B01___20_Matthew_____ENGESVN1DA_verse_9.txt  \n",
            " extracting: txt/B01___20_Matthew_____ENGESVN1DA_verse_26.txt  \n",
            " extracting: txt/B01___26_Matthew_____ENGESVN1DA_verse_35.txt  \n",
            " extracting: txt/B01___26_Matthew_____ENGESVN1DA_verse_30.txt  \n",
            " extracting: txt/B01___25_Matthew_____ENGESVN1DA_verse_35.txt  \n",
            " extracting: txt/B01___15_Matthew_____ENGESVN1DA_verse_18.txt  \n",
            " extracting: txt/B01___26_Matthew_____ENGESVN1DA_verse_45.txt  \n",
            " extracting: txt/B01___25_Matthew_____ENGESVN1DA_verse_4.txt  \n",
            " extracting: txt/B01___25_Matthew_____ENGESVN1DA_verse_25.txt  \n",
            " extracting: txt/B01___25_Matthew_____ENGESVN1DA_verse_39.txt  \n",
            " extracting: txt/B01___13_Matthew_____ENGESVN1DA_verse_4.txt  \n",
            " extracting: txt/B01___12_Matthew_____ENGESVN1DA_verse_45.txt  \n",
            " extracting: txt/B01___06_Matthew_____ENGESVN1DA_verse_17.txt  \n",
            " extracting: txt/B01___05_Matthew_____ENGESVN1DA_verse_8.txt  \n",
            " extracting: txt/B01___25_Matthew_____ENGESVN1DA_verse_37.txt  \n",
            " extracting: txt/B01___07_Matthew_____ENGESVN1DA_verse_27.txt  \n",
            " extracting: txt/B01___05_Matthew_____ENGESVN1DA_verse_24.txt  \n",
            " extracting: txt/B01___06_Matthew_____ENGESVN1DA_verse_21.txt  \n",
            " extracting: txt/B01___25_Matthew_____ENGESVN1DA_verse_40.txt  \n",
            " extracting: txt/B01___13_Matthew_____ENGESVN1DA_verse_24.txt  \n",
            " extracting: txt/B01___25_Matthew_____ENGESVN1DA_verse_38.txt  \n",
            " extracting: txt/B01___09_Matthew_____ENGESVN1DA_verse_36.txt  \n",
            " extracting: txt/B01___09_Matthew_____ENGESVN1DA_verse_26.txt  \n",
            " extracting: txt/B01___06_Matthew_____ENGESVN1DA_verse_30.txt  \n",
            " extracting: txt/B01___09_Matthew_____ENGESVN1DA_verse_10.txt  \n",
            " extracting: txt/B01___05_Matthew_____ENGESVN1DA_verse_19.txt  \n",
            " extracting: txt/B01___14_Matthew_____ENGESVN1DA_verse_12.txt  \n",
            " extracting: txt/B01___13_Matthew_____ENGESVN1DA_verse_54.txt  \n",
            " extracting: txt/B01___13_Matthew_____ENGESVN1DA_verse_55.txt  \n",
            " extracting: txt/B01___14_Matthew_____ENGESVN1DA_verse_20.txt  \n",
            " extracting: txt/B01___14_Matthew_____ENGESVN1DA_verse_3.txt  \n",
            " extracting: txt/B01___14_Matthew_____ENGESVN1DA_verse_23.txt  \n",
            " extracting: txt/B01___14_Matthew_____ENGESVN1DA_verse_32.txt  \n",
            " extracting: txt/B01___26_Matthew_____ENGESVN1DA_verse_24.txt  \n",
            " extracting: txt/B01___26_Matthew_____ENGESVN1DA_verse_29.txt  \n",
            " extracting: txt/B01___16_Matthew_____ENGESVN1DA_verse_13.txt  \n",
            " extracting: txt/B01___23_Matthew_____ENGESVN1DA_verse_27.txt  \n",
            " extracting: txt/B01___26_Matthew_____ENGESVN1DA_verse_2.txt  \n",
            " extracting: txt/B01___25_Matthew_____ENGESVN1DA_verse_12.txt  \n",
            " extracting: txt/B01___25_Matthew_____ENGESVN1DA_verse_2.txt  \n",
            " extracting: txt/B01___26_Matthew_____ENGESVN1DA_verse_12.txt  \n",
            " extracting: txt/B01___24_Matthew_____ENGESVN1DA_verse_49.txt  \n",
            " extracting: txt/B01___11_Matthew_____ENGESVN1DA_verse_29.txt  \n",
            " extracting: txt/B01___07_Matthew_____ENGESVN1DA_verse_12.txt  \n",
            " extracting: txt/B01___26_Matthew_____ENGESVN1DA_verse_21.txt  \n",
            " extracting: txt/B01___06_Matthew_____ENGESVN1DA_verse_2.txt  \n",
            " extracting: txt/B01___05_Matthew_____ENGESVN1DA_verse_13.txt  \n",
            " extracting: txt/B01___06_Matthew_____ENGESVN1DA_verse_0.txt  \n",
            " extracting: txt/B01___05_Matthew_____ENGESVN1DA_verse_14.txt  \n",
            " extracting: txt/B01___06_Matthew_____ENGESVN1DA_verse_19.txt  \n",
            " extracting: txt/B01___05_Matthew_____ENGESVN1DA_verse_9.txt  \n",
            " extracting: txt/B01___05_Matthew_____ENGESVN1DA_verse_34.txt  \n",
            " extracting: txt/B01___06_Matthew_____ENGESVN1DA_verse_1.txt  \n",
            " extracting: txt/B01___24_Matthew_____ENGESVN1DA_verse_33.txt  \n",
            " extracting: txt/B01___01_Matthew_____ENGESVN1DA_verse_21.txt  \n",
            " extracting: txt/B01___05_Matthew_____ENGESVN1DA_verse_28.txt  \n",
            " extracting: txt/B01___05_Matthew_____ENGESVN1DA_verse_36.txt  \n",
            " extracting: txt/B01___05_Matthew_____ENGESVN1DA_verse_21.txt  \n",
            " extracting: txt/B01___05_Matthew_____ENGESVN1DA_verse_7.txt  \n",
            " extracting: txt/B01___24_Matthew_____ENGESVN1DA_verse_5.txt  \n",
            " extracting: txt/B01___06_Matthew_____ENGESVN1DA_verse_10.txt  \n",
            " extracting: txt/B01___05_Matthew_____ENGESVN1DA_verse_41.txt  \n",
            " extracting: txt/B01___05_Matthew_____ENGESVN1DA_verse_33.txt  \n",
            " extracting: txt/B01___08_Matthew_____ENGESVN1DA_verse_32.txt  \n",
            " extracting: txt/B01___10_Matthew_____ENGESVN1DA_verse_3.txt  \n",
            " extracting: txt/B01___08_Matthew_____ENGESVN1DA_verse_19.txt  \n",
            " extracting: txt/B01___08_Matthew_____ENGESVN1DA_verse_15.txt  \n",
            " extracting: txt/B01___26_Matthew_____ENGESVN1DA_verse_56.txt  \n",
            " extracting: txt/B01___06_Matthew_____ENGESVN1DA_verse_6.txt  \n",
            " extracting: txt/B01___06_Matthew_____ENGESVN1DA_verse_7.txt  \n",
            " extracting: txt/B01___07_Matthew_____ENGESVN1DA_verse_13.txt  \n",
            " extracting: txt/B01___07_Matthew_____ENGESVN1DA_verse_6.txt  \n",
            " extracting: txt/B01___06_Matthew_____ENGESVN1DA_verse_8.txt  \n",
            " extracting: txt/B01___06_Matthew_____ENGESVN1DA_verse_26.txt  \n",
            " extracting: txt/B01___01_Matthew_____ENGESVN1DA_verse_22.txt  \n",
            " extracting: txt/B01___07_Matthew_____ENGESVN1DA_verse_4.txt  \n",
            " extracting: txt/B01___08_Matthew_____ENGESVN1DA_verse_2.txt  \n",
            " extracting: txt/B01___08_Matthew_____ENGESVN1DA_verse_31.txt  \n",
            " extracting: txt/B01___07_Matthew_____ENGESVN1DA_verse_16.txt  \n",
            " extracting: txt/B01___06_Matthew_____ENGESVN1DA_verse_5.txt  \n",
            " extracting: txt/B01___07_Matthew_____ENGESVN1DA_verse_3.txt  \n",
            " extracting: txt/B01___07_Matthew_____ENGESVN1DA_verse_8.txt  \n",
            " extracting: txt/B01___08_Matthew_____ENGESVN1DA_verse_17.txt  \n",
            " extracting: txt/B01___08_Matthew_____ENGESVN1DA_verse_22.txt  \n",
            " extracting: txt/B01___07_Matthew_____ENGESVN1DA_verse_0.txt  \n",
            " extracting: txt/B01___06_Matthew_____ENGESVN1DA_verse_9.txt  \n",
            " extracting: txt/B01___08_Matthew_____ENGESVN1DA_verse_10.txt  \n",
            " extracting: txt/B01___01_Matthew_____ENGESVN1DA_verse_3.txt  \n",
            " extracting: txt/B01___03_Matthew_____ENGESVN1DA_verse_11.txt  \n",
            " extracting: txt/B01___10_Matthew_____ENGESVN1DA_verse_2.txt  \n",
            " extracting: txt/B01___04_Matthew_____ENGESVN1DA_verse_25.txt  \n",
            " extracting: txt/B01___04_Matthew_____ENGESVN1DA_verse_4.txt  \n",
            " extracting: txt/B01___03_Matthew_____ENGESVN1DA_verse_8.txt  \n",
            " extracting: txt/B01___12_Matthew_____ENGESVN1DA_verse_24.txt  \n",
            " extracting: txt/B01___04_Matthew_____ENGESVN1DA_verse_5.txt  \n",
            " extracting: txt/B01___04_Matthew_____ENGESVN1DA_verse_19.txt  \n",
            " extracting: txt/B01___10_Matthew_____ENGESVN1DA_verse_1.txt  \n",
            " extracting: txt/B01___03_Matthew_____ENGESVN1DA_verse_16.txt  \n",
            " extracting: txt/B01___12_Matthew_____ENGESVN1DA_verse_25.txt  \n",
            " extracting: txt/B01___05_Matthew_____ENGESVN1DA_verse_17.txt  \n",
            " extracting: txt/B01___05_Matthew_____ENGESVN1DA_verse_25.txt  \n",
            " extracting: txt/B01___05_Matthew_____ENGESVN1DA_verse_26.txt  \n",
            " extracting: txt/B01___05_Matthew_____ENGESVN1DA_verse_42.txt  \n",
            " extracting: txt/B01___14_Matthew_____ENGESVN1DA_verse_1.txt  \n",
            " extracting: txt/B01___10_Matthew_____ENGESVN1DA_verse_36.txt  \n",
            " extracting: txt/B01___05_Matthew_____ENGESVN1DA_verse_43.txt  \n",
            " extracting: txt/B01___07_Matthew_____ENGESVN1DA_verse_5.txt  \n",
            " extracting: txt/B01___05_Matthew_____ENGESVN1DA_verse_4.txt  \n",
            " extracting: txt/B01___07_Matthew_____ENGESVN1DA_verse_28.txt  \n",
            " extracting: txt/B01___07_Matthew_____ENGESVN1DA_verse_19.txt  \n",
            " extracting: txt/B01___09_Matthew_____ENGESVN1DA_verse_16.txt  \n",
            " extracting: txt/B01___09_Matthew_____ENGESVN1DA_verse_19.txt  \n",
            " extracting: txt/B01___09_Matthew_____ENGESVN1DA_verse_3.txt  \n",
            " extracting: txt/B01___12_Matthew_____ENGESVN1DA_verse_40.txt  \n",
            " extracting: txt/B01___09_Matthew_____ENGESVN1DA_verse_28.txt  \n",
            " extracting: txt/B01___12_Matthew_____ENGESVN1DA_verse_49.txt  \n",
            " extracting: txt/B01___12_Matthew_____ENGESVN1DA_verse_9.txt  \n",
            " extracting: txt/B01___09_Matthew_____ENGESVN1DA_verse_27.txt  \n",
            " extracting: txt/B01___09_Matthew_____ENGESVN1DA_verse_5.txt  \n",
            " extracting: txt/B01___12_Matthew_____ENGESVN1DA_verse_46.txt  \n",
            " extracting: txt/B01___13_Matthew_____ENGESVN1DA_verse_28.txt  \n",
            " extracting: txt/B01___15_Matthew_____ENGESVN1DA_verse_29.txt  \n",
            " extracting: txt/B01___13_Matthew_____ENGESVN1DA_verse_21.txt  \n",
            " extracting: txt/B01___13_Matthew_____ENGESVN1DA_verse_23.txt  \n",
            " extracting: txt/B01___19_Matthew_____ENGESVN1DA_verse_28.txt  \n",
            " extracting: txt/B01___18_Matthew_____ENGESVN1DA_verse_13.txt  \n",
            " extracting: txt/B01___10_Matthew_____ENGESVN1DA_verse_13.txt  \n",
            " extracting: txt/B01___21_Matthew_____ENGESVN1DA_verse_15.txt  \n",
            " extracting: txt/B01___21_Matthew_____ENGESVN1DA_verse_33.txt  \n",
            " extracting: txt/B01___09_Matthew_____ENGESVN1DA_verse_35.txt  \n",
            " extracting: txt/B01___26_Matthew_____ENGESVN1DA_verse_58.txt  \n",
            " extracting: txt/B01___26_Matthew_____ENGESVN1DA_verse_41.txt  \n",
            " extracting: txt/B01___26_Matthew_____ENGESVN1DA_verse_18.txt  \n",
            " extracting: txt/B01___21_Matthew_____ENGESVN1DA_verse_24.txt  \n",
            " extracting: txt/B01___21_Matthew_____ENGESVN1DA_verse_19.txt  \n",
            " extracting: txt/B01___26_Matthew_____ENGESVN1DA_verse_67.txt  \n",
            " extracting: txt/B01___21_Matthew_____ENGESVN1DA_verse_31.txt  \n",
            " extracting: txt/B01___16_Matthew_____ENGESVN1DA_verse_16.txt  \n",
            " extracting: txt/B01___21_Matthew_____ENGESVN1DA_verse_21.txt  \n",
            " extracting: txt/B01___13_Matthew_____ENGESVN1DA_verse_38.txt  \n",
            " extracting: txt/B01___18_Matthew_____ENGESVN1DA_verse_35.txt  \n",
            " extracting: txt/B01___18_Matthew_____ENGESVN1DA_verse_21.txt  \n",
            " extracting: txt/B01___23_Matthew_____ENGESVN1DA_verse_28.txt  \n",
            " extracting: txt/B01___21_Matthew_____ENGESVN1DA_verse_0.txt  \n",
            " extracting: txt/B01___18_Matthew_____ENGESVN1DA_verse_20.txt  \n",
            " extracting: txt/B01___25_Matthew_____ENGESVN1DA_verse_46.txt  \n",
            " extracting: txt/B01___21_Matthew_____ENGESVN1DA_verse_1.txt  \n",
            " extracting: txt/B01___26_Matthew_____ENGESVN1DA_verse_4.txt  \n",
            " extracting: txt/B01___09_Matthew_____ENGESVN1DA_verse_33.txt  \n",
            " extracting: txt/B01___26_Matthew_____ENGESVN1DA_verse_19.txt  \n",
            " extracting: txt/B01___15_Matthew_____ENGESVN1DA_verse_7.txt  \n",
            " extracting: txt/B01___14_Matthew_____ENGESVN1DA_verse_35.txt  \n",
            " extracting: txt/B01___08_Matthew_____ENGESVN1DA_verse_4.txt  \n",
            " extracting: txt/B01___21_Matthew_____ENGESVN1DA_verse_2.txt  \n",
            " extracting: txt/B01___21_Matthew_____ENGESVN1DA_verse_26.txt  \n",
            " extracting: txt/B01___15_Matthew_____ENGESVN1DA_verse_15.txt  \n",
            " extracting: txt/B01___09_Matthew_____ENGESVN1DA_verse_9.txt  \n",
            " extracting: txt/B01___10_Matthew_____ENGESVN1DA_verse_35.txt  \n",
            " extracting: txt/B01___08_Matthew_____ENGESVN1DA_verse_27.txt  \n",
            " extracting: txt/B01___17_Matthew_____ENGESVN1DA_verse_27.txt  \n",
            " extracting: txt/B01___15_Matthew_____ENGESVN1DA_verse_16.txt  \n",
            " extracting: txt/B01___26_Matthew_____ENGESVN1DA_verse_23.txt  \n",
            " extracting: txt/B01___08_Matthew_____ENGESVN1DA_verse_9.txt  \n",
            " extracting: txt/B01___14_Matthew_____ENGESVN1DA_verse_34.txt  \n",
            " extracting: txt/B01___09_Matthew_____ENGESVN1DA_verse_29.txt  \n",
            " extracting: txt/B01___09_Matthew_____ENGESVN1DA_verse_7.txt  \n",
            " extracting: txt/B01___17_Matthew_____ENGESVN1DA_verse_13.txt  \n",
            " extracting: txt/B01___09_Matthew_____ENGESVN1DA_verse_12.txt  \n",
            " extracting: txt/B01___10_Matthew_____ENGESVN1DA_verse_26.txt  \n",
            " extracting: txt/B01___26_Matthew_____ENGESVN1DA_verse_0.txt  \n",
            " extracting: txt/B01___08_Matthew_____ENGESVN1DA_verse_24.txt  \n",
            " extracting: txt/B01___17_Matthew_____ENGESVN1DA_verse_0.txt  \n",
            " extracting: txt/B01___08_Matthew_____ENGESVN1DA_verse_29.txt  \n",
            " extracting: txt/B01___09_Matthew_____ENGESVN1DA_verse_6.txt  \n",
            " extracting: txt/B01___09_Matthew_____ENGESVN1DA_verse_38.txt  \n",
            " extracting: txt/B01___10_Matthew_____ENGESVN1DA_verse_11.txt  \n",
            " extracting: txt/B01___09_Matthew_____ENGESVN1DA_verse_14.txt  \n",
            " extracting: txt/B01___15_Matthew_____ENGESVN1DA_verse_19.txt  \n",
            " extracting: txt/B01___08_Matthew_____ENGESVN1DA_verse_23.txt  \n",
            " extracting: txt/B01___08_Matthew_____ENGESVN1DA_verse_30.txt  \n",
            " extracting: txt/B01___18_Matthew_____ENGESVN1DA_verse_30.txt  \n",
            " extracting: txt/B01___14_Matthew_____ENGESVN1DA_verse_9.txt  \n",
            " extracting: txt/B01___18_Matthew_____ENGESVN1DA_verse_14.txt  \n",
            " extracting: txt/B01___18_Matthew_____ENGESVN1DA_verse_34.txt  \n",
            " extracting: txt/B01___19_Matthew_____ENGESVN1DA_verse_1.txt  \n",
            " extracting: txt/B01___18_Matthew_____ENGESVN1DA_verse_6.txt  \n",
            " extracting: txt/B01___18_Matthew_____ENGESVN1DA_verse_4.txt  \n",
            " extracting: txt/B01___09_Matthew_____ENGESVN1DA_verse_4.txt  \n",
            " extracting: txt/B01___10_Matthew_____ENGESVN1DA_verse_31.txt  \n",
            " extracting: txt/B01___19_Matthew_____ENGESVN1DA_verse_10.txt  \n",
            " extracting: txt/B01___10_Matthew_____ENGESVN1DA_verse_39.txt  \n",
            " extracting: txt/B01___19_Matthew_____ENGESVN1DA_verse_11.txt  \n",
            " extracting: txt/B01___19_Matthew_____ENGESVN1DA_verse_14.txt  \n",
            " extracting: txt/B01___10_Matthew_____ENGESVN1DA_verse_27.txt  \n",
            " extracting: txt/B01___19_Matthew_____ENGESVN1DA_verse_21.txt  \n",
            " extracting: txt/B01___25_Matthew_____ENGESVN1DA_verse_42.txt  \n",
            " extracting: txt/B01___19_Matthew_____ENGESVN1DA_verse_23.txt  \n",
            " extracting: txt/B01___10_Matthew_____ENGESVN1DA_verse_17.txt  \n",
            " extracting: txt/B01___19_Matthew_____ENGESVN1DA_verse_5.txt  \n",
            " extracting: txt/B01___19_Matthew_____ENGESVN1DA_verse_27.txt  \n",
            " extracting: txt/B01___19_Matthew_____ENGESVN1DA_verse_17.txt  \n",
            " extracting: txt/B01___19_Matthew_____ENGESVN1DA_verse_3.txt  \n",
            " extracting: txt/B01___23_Matthew_____ENGESVN1DA_verse_38.txt  \n",
            " extracting: txt/B01___23_Matthew_____ENGESVN1DA_verse_8.txt  \n",
            " extracting: txt/B01___10_Matthew_____ENGESVN1DA_verse_34.txt  \n",
            " extracting: txt/B01___24_Matthew_____ENGESVN1DA_verse_7.txt  \n",
            " extracting: txt/B01___26_Matthew_____ENGESVN1DA_verse_27.txt  \n",
            " extracting: txt/B01___24_Matthew_____ENGESVN1DA_verse_17.txt  \n",
            " extracting: txt/B01___26_Matthew_____ENGESVN1DA_verse_33.txt  \n",
            " extracting: txt/B01___14_Matthew_____ENGESVN1DA_verse_5.txt  \n",
            " extracting: txt/B01___14_Matthew_____ENGESVN1DA_verse_29.txt  \n",
            " extracting: txt/B01___15_Matthew_____ENGESVN1DA_verse_21.txt  \n",
            " extracting: txt/B01___14_Matthew_____ENGESVN1DA_verse_7.txt  \n",
            " extracting: txt/B01___15_Matthew_____ENGESVN1DA_verse_32.txt  \n",
            " extracting: txt/B01___15_Matthew_____ENGESVN1DA_verse_37.txt  \n",
            " extracting: txt/B01___12_Matthew_____ENGESVN1DA_verse_15.txt  \n",
            " extracting: txt/B01___15_Matthew_____ENGESVN1DA_verse_35.txt  \n",
            " extracting: txt/B01___16_Matthew_____ENGESVN1DA_verse_26.txt  \n",
            " extracting: txt/B01___10_Matthew_____ENGESVN1DA_verse_19.txt  \n",
            " extracting: txt/B01___12_Matthew_____ENGESVN1DA_verse_32.txt  \n",
            " extracting: txt/B01___10_Matthew_____ENGESVN1DA_verse_10.txt  \n",
            " extracting: txt/B01___12_Matthew_____ENGESVN1DA_verse_33.txt  \n",
            " extracting: txt/B01___17_Matthew_____ENGESVN1DA_verse_9.txt  \n",
            " extracting: txt/B01___08_Matthew_____ENGESVN1DA_verse_26.txt  \n",
            " extracting: txt/B01___10_Matthew_____ENGESVN1DA_verse_4.txt  \n",
            " extracting: txt/B01___10_Matthew_____ENGESVN1DA_verse_40.txt  \n",
            " extracting: txt/B01___10_Matthew_____ENGESVN1DA_verse_28.txt  \n",
            " extracting: txt/B01___10_Matthew_____ENGESVN1DA_verse_32.txt  \n",
            " extracting: txt/B01___24_Matthew_____ENGESVN1DA_verse_4.txt  \n",
            " extracting: txt/B01___10_Matthew_____ENGESVN1DA_verse_21.txt  \n",
            " extracting: txt/B01___10_Matthew_____ENGESVN1DA_verse_24.txt  \n",
            " extracting: txt/B01___12_Matthew_____ENGESVN1DA_verse_14.txt  \n",
            " extracting: txt/B01___12_Matthew_____ENGESVN1DA_verse_16.txt  \n",
            " extracting: txt/B01___10_Matthew_____ENGESVN1DA_verse_8.txt  \n",
            " extracting: txt/B01___10_Matthew_____ENGESVN1DA_verse_16.txt  \n",
            " extracting: txt/B01___10_Matthew_____ENGESVN1DA_verse_0.txt  \n",
            " extracting: txt/B01___10_Matthew_____ENGESVN1DA_verse_29.txt  \n",
            " extracting: txt/B01___12_Matthew_____ENGESVN1DA_verse_34.txt  \n",
            " extracting: txt/B01___12_Matthew_____ENGESVN1DA_verse_10.txt  \n",
            " extracting: txt/B01___09_Matthew_____ENGESVN1DA_verse_20.txt  \n",
            " extracting: txt/B01___09_Matthew_____ENGESVN1DA_verse_0.txt  \n",
            " extracting: txt/B01___26_Matthew_____ENGESVN1DA_verse_61.txt  \n",
            " extracting: txt/B01___08_Matthew_____ENGESVN1DA_verse_12.txt  \n",
            " extracting: txt/B01___13_Matthew_____ENGESVN1DA_verse_10.txt  \n",
            " extracting: txt/B01___13_Matthew_____ENGESVN1DA_verse_6.txt  \n",
            " extracting: txt/B01___12_Matthew_____ENGESVN1DA_verse_22.txt  \n",
            " extracting: txt/B01___08_Matthew_____ENGESVN1DA_verse_8.txt  \n",
            " extracting: txt/B01___13_Matthew_____ENGESVN1DA_verse_57.txt  \n",
            " extracting: txt/B01___13_Matthew_____ENGESVN1DA_verse_9.txt  \n",
            " extracting: txt/B01___08_Matthew_____ENGESVN1DA_verse_34.txt  \n",
            " extracting: txt/B01___08_Matthew_____ENGESVN1DA_verse_3.txt  \n",
            " extracting: txt/B01___09_Matthew_____ENGESVN1DA_verse_18.txt  \n",
            " extracting: txt/B01___12_Matthew_____ENGESVN1DA_verse_0.txt  \n",
            " extracting: txt/B01___08_Matthew_____ENGESVN1DA_verse_6.txt  \n",
            " extracting: txt/B01___12_Matthew_____ENGESVN1DA_verse_48.txt  \n",
            " extracting: txt/B01___09_Matthew_____ENGESVN1DA_verse_2.txt  \n",
            " extracting: txt/B01___08_Matthew_____ENGESVN1DA_verse_25.txt  \n",
            " extracting: txt/B01___10_Matthew_____ENGESVN1DA_verse_15.txt  \n",
            " extracting: txt/B01___13_Matthew_____ENGESVN1DA_verse_53.txt  \n",
            " extracting: txt/B01___12_Matthew_____ENGESVN1DA_verse_3.txt  \n",
            " extracting: txt/B01___13_Matthew_____ENGESVN1DA_verse_3.txt  \n",
            " extracting: txt/B01___09_Matthew_____ENGESVN1DA_verse_17.txt  \n",
            " extracting: txt/B01___14_Matthew_____ENGESVN1DA_verse_25.txt  \n",
            " extracting: txt/B01___12_Matthew_____ENGESVN1DA_verse_38.txt  \n",
            " extracting: txt/B01___13_Matthew_____ENGESVN1DA_verse_56.txt  \n",
            " extracting: txt/B01___11_Matthew_____ENGESVN1DA_verse_0.txt  \n",
            " extracting: txt/B01___09_Matthew_____ENGESVN1DA_verse_1.txt  \n",
            " extracting: txt/B01___12_Matthew_____ENGESVN1DA_verse_20.txt  \n",
            " extracting: txt/B01___14_Matthew_____ENGESVN1DA_verse_24.txt  \n",
            " extracting: txt/B01___08_Matthew_____ENGESVN1DA_verse_7.txt  \n",
            " extracting: txt/B01___12_Matthew_____ENGESVN1DA_verse_4.txt  \n",
            " extracting: txt/B01___08_Matthew_____ENGESVN1DA_verse_28.txt  \n",
            " extracting: txt/B01___11_Matthew_____ENGESVN1DA_verse_23.txt  \n",
            " extracting: txt/B01___14_Matthew_____ENGESVN1DA_verse_10.txt  \n",
            " extracting: txt/B01___16_Matthew_____ENGESVN1DA_verse_3.txt  \n",
            " extracting: txt/B01___17_Matthew_____ENGESVN1DA_verse_14.txt  \n",
            " extracting: txt/B01___15_Matthew_____ENGESVN1DA_verse_36.txt  \n",
            " extracting: txt/B01___12_Matthew_____ENGESVN1DA_verse_43.txt  \n",
            " extracting: txt/B01___15_Matthew_____ENGESVN1DA_verse_38.txt  \n",
            " extracting: txt/B01___15_Matthew_____ENGESVN1DA_verse_6.txt  \n",
            " extracting: txt/B01___15_Matthew_____ENGESVN1DA_verse_24.txt  \n",
            " extracting: txt/B01___15_Matthew_____ENGESVN1DA_verse_2.txt  \n",
            " extracting: txt/B01___12_Matthew_____ENGESVN1DA_verse_41.txt  \n",
            " extracting: txt/B01___15_Matthew_____ENGESVN1DA_verse_30.txt  \n",
            " extracting: txt/B01___15_Matthew_____ENGESVN1DA_verse_28.txt  \n",
            " extracting: txt/B01___15_Matthew_____ENGESVN1DA_verse_3.txt  \n",
            " extracting: txt/B01___15_Matthew_____ENGESVN1DA_verse_22.txt  \n",
            " extracting: txt/B01___19_Matthew_____ENGESVN1DA_verse_19.txt  \n",
            " extracting: txt/B01___16_Matthew_____ENGESVN1DA_verse_0.txt  \n",
            " extracting: txt/B01___16_Matthew_____ENGESVN1DA_verse_6.txt  \n",
            " extracting: txt/B01___16_Matthew_____ENGESVN1DA_verse_10.txt  \n",
            " extracting: txt/B01___20_Matthew_____ENGESVN1DA_verse_14.txt  \n",
            " extracting: txt/B01___20_Matthew_____ENGESVN1DA_verse_0.txt  \n",
            " extracting: txt/B01___19_Matthew_____ENGESVN1DA_verse_9.txt  \n",
            " extracting: txt/B01___20_Matthew_____ENGESVN1DA_verse_1.txt  \n",
            " extracting: txt/B01___16_Matthew_____ENGESVN1DA_verse_7.txt  \n",
            " extracting: txt/B01___26_Matthew_____ENGESVN1DA_verse_34.txt  \n",
            " extracting: txt/B01___19_Matthew_____ENGESVN1DA_verse_6.txt  \n",
            " extracting: txt/B01___19_Matthew_____ENGESVN1DA_verse_7.txt  \n",
            " extracting: txt/B01___26_Matthew_____ENGESVN1DA_verse_11.txt  \n",
            " extracting: txt/B01___04_Matthew_____ENGESVN1DA_verse_22.txt  \n",
            " extracting: txt/B01___23_Matthew_____ENGESVN1DA_verse_35.txt  \n",
            " extracting: txt/B01___23_Matthew_____ENGESVN1DA_verse_32.txt  \n",
            " extracting: txt/B01___24_Matthew_____ENGESVN1DA_verse_26.txt  \n",
            " extracting: txt/B01___24_Matthew_____ENGESVN1DA_verse_16.txt  \n",
            " extracting: txt/B01___03_Matthew_____ENGESVN1DA_verse_7.txt  \n",
            " extracting: txt/B01___25_Matthew_____ENGESVN1DA_verse_9.txt  \n",
            " extracting: txt/B01___25_Matthew_____ENGESVN1DA_verse_43.txt  \n",
            " extracting: txt/B01___24_Matthew_____ENGESVN1DA_verse_22.txt  \n",
            " extracting: txt/B01___26_Matthew_____ENGESVN1DA_verse_43.txt  \n",
            " extracting: txt/B01___23_Matthew_____ENGESVN1DA_verse_34.txt  \n",
            " extracting: txt/B01___04_Matthew_____ENGESVN1DA_verse_6.txt  \n",
            " extracting: txt/B01___25_Matthew_____ENGESVN1DA_verse_21.txt  \n",
            " extracting: txt/B01___24_Matthew_____ENGESVN1DA_verse_21.txt  \n",
            " extracting: txt/B01___26_Matthew_____ENGESVN1DA_verse_32.txt  \n",
            " extracting: txt/B01___25_Matthew_____ENGESVN1DA_verse_26.txt  \n",
            " extracting: txt/B01___24_Matthew_____ENGESVN1DA_verse_32.txt  \n",
            " extracting: txt/B01___24_Matthew_____ENGESVN1DA_verse_30.txt  \n",
            " extracting: txt/B01___23_Matthew_____ENGESVN1DA_verse_31.txt  \n",
            " extracting: txt/B01___26_Matthew_____ENGESVN1DA_verse_3.txt  \n",
            " extracting: txt/B01___04_Matthew_____ENGESVN1DA_verse_18.txt  \n",
            " extracting: txt/B01___26_Matthew_____ENGESVN1DA_verse_22.txt  \n",
            " extracting: txt/B01___14_Matthew_____ENGESVN1DA_verse_19.txt  \n",
            " extracting: txt/B01___15_Matthew_____ENGESVN1DA_verse_14.txt  \n",
            " extracting: txt/B01___14_Matthew_____ENGESVN1DA_verse_8.txt  \n",
            " extracting: txt/B01___25_Matthew_____ENGESVN1DA_verse_28.txt  \n",
            " extracting: txt/B01___09_Matthew_____ENGESVN1DA_verse_34.txt  \n",
            " extracting: txt/B01___15_Matthew_____ENGESVN1DA_verse_1.txt  \n",
            " extracting: txt/B01___09_Matthew_____ENGESVN1DA_verse_30.txt  \n",
            " extracting: txt/B01___14_Matthew_____ENGESVN1DA_verse_22.txt  \n",
            " extracting: txt/B01___14_Matthew_____ENGESVN1DA_verse_13.txt  \n",
            " extracting: txt/B01___12_Matthew_____ENGESVN1DA_verse_6.txt  \n",
            " extracting: txt/B01___14_Matthew_____ENGESVN1DA_verse_21.txt  \n",
            " extracting: txt/B01___25_Matthew_____ENGESVN1DA_verse_32.txt  \n",
            " extracting: txt/B01___24_Matthew_____ENGESVN1DA_verse_2.txt  \n",
            " extracting: txt/B01___14_Matthew_____ENGESVN1DA_verse_27.txt  \n",
            " extracting: txt/B01___14_Matthew_____ENGESVN1DA_verse_28.txt  \n",
            " extracting: txt/B01___10_Matthew_____ENGESVN1DA_verse_33.txt  \n",
            " extracting: txt/B01___14_Matthew_____ENGESVN1DA_verse_26.txt  \n",
            " extracting: txt/B01___14_Matthew_____ENGESVN1DA_verse_18.txt  \n",
            " extracting: txt/B01___13_Matthew_____ENGESVN1DA_verse_25.txt  \n",
            " extracting: txt/B01___09_Matthew_____ENGESVN1DA_verse_32.txt  \n",
            " extracting: txt/B01___15_Matthew_____ENGESVN1DA_verse_13.txt  \n",
            " extracting: txt/B01___12_Matthew_____ENGESVN1DA_verse_37.txt  \n",
            " extracting: txt/B01___09_Matthew_____ENGESVN1DA_verse_22.txt  \n",
            " extracting: txt/B01___10_Matthew_____ENGESVN1DA_verse_5.txt  \n",
            " extracting: txt/B01___10_Matthew_____ENGESVN1DA_verse_20.txt  \n",
            " extracting: txt/B01___09_Matthew_____ENGESVN1DA_verse_31.txt  \n",
            " extracting: txt/B01___13_Matthew_____ENGESVN1DA_verse_31.txt  \n",
            " extracting: txt/B01___15_Matthew_____ENGESVN1DA_verse_20.txt  \n",
            " extracting: txt/B01___13_Matthew_____ENGESVN1DA_verse_40.txt  \n",
            " extracting: txt/B01___13_Matthew_____ENGESVN1DA_verse_46.txt  \n",
            " extracting: txt/B01___10_Matthew_____ENGESVN1DA_verse_18.txt  \n",
            " extracting: txt/B01___09_Matthew_____ENGESVN1DA_verse_8.txt  \n",
            " extracting: txt/B01___10_Matthew_____ENGESVN1DA_verse_12.txt  \n",
            " extracting: txt/B01___10_Matthew_____ENGESVN1DA_verse_14.txt  \n",
            " extracting: txt/B01___13_Matthew_____ENGESVN1DA_verse_36.txt  \n",
            " extracting: txt/B01___13_Matthew_____ENGESVN1DA_verse_26.txt  \n",
            " extracting: txt/B01___10_Matthew_____ENGESVN1DA_verse_38.txt  \n",
            " extracting: txt/B01___05_Matthew_____ENGESVN1DA_verse_3.txt  \n",
            " extracting: txt/B01___10_Matthew_____ENGESVN1DA_verse_30.txt  \n",
            " extracting: txt/B01___09_Matthew_____ENGESVN1DA_verse_21.txt  \n",
            " extracting: txt/B01___17_Matthew_____ENGESVN1DA_verse_4.txt  \n",
            " extracting: txt/B01___04_Matthew_____ENGESVN1DA_verse_1.txt  \n",
            " extracting: txt/B01___19_Matthew_____ENGESVN1DA_verse_18.txt  \n",
            " extracting: txt/B01___10_Matthew_____ENGESVN1DA_verse_25.txt  \n",
            " extracting: txt/B01___16_Matthew_____ENGESVN1DA_verse_15.txt  \n",
            " extracting: txt/B01___11_Matthew_____ENGESVN1DA_verse_1.txt  \n",
            " extracting: txt/B01___10_Matthew_____ENGESVN1DA_verse_37.txt  \n",
            " extracting: txt/B01___11_Matthew_____ENGESVN1DA_verse_10.txt  \n",
            " extracting: txt/B01___11_Matthew_____ENGESVN1DA_verse_11.txt  \n",
            " extracting: txt/B01___18_Matthew_____ENGESVN1DA_verse_25.txt  \n",
            " extracting: txt/B01___18_Matthew_____ENGESVN1DA_verse_7.txt  \n",
            " extracting: txt/B01___16_Matthew_____ENGESVN1DA_verse_19.txt  \n",
            " extracting: txt/B01___11_Matthew_____ENGESVN1DA_verse_4.txt  \n",
            " extracting: txt/B01___11_Matthew_____ENGESVN1DA_verse_19.txt  \n",
            " extracting: txt/B01___11_Matthew_____ENGESVN1DA_verse_6.txt  \n",
            " extracting: txt/B01___18_Matthew_____ENGESVN1DA_verse_24.txt  \n",
            " extracting: txt/B01___19_Matthew_____ENGESVN1DA_verse_8.txt  \n",
            " extracting: txt/B01___15_Matthew_____ENGESVN1DA_verse_9.txt  \n",
            " extracting: txt/B01___11_Matthew_____ENGESVN1DA_verse_9.txt  \n",
            " extracting: txt/B01___11_Matthew_____ENGESVN1DA_verse_7.txt  \n",
            " extracting: txt/B01___12_Matthew_____ENGESVN1DA_verse_18.txt  \n",
            " extracting: txt/B01___12_Matthew_____ENGESVN1DA_verse_17.txt  \n",
            " extracting: txt/B01___24_Matthew_____ENGESVN1DA_verse_3.txt  \n",
            " extracting: txt/B01___01_Matthew_____ENGESVN1DA_verse_17.txt  \n",
            " extracting: txt/B01___12_Matthew_____ENGESVN1DA_verse_23.txt  \n",
            " extracting: txt/B01___21_Matthew_____ENGESVN1DA_verse_18.txt  \n",
            " extracting: txt/B01___12_Matthew_____ENGESVN1DA_verse_19.txt  \n",
            " extracting: txt/B01___12_Matthew_____ENGESVN1DA_verse_21.txt  \n",
            " extracting: txt/B01___12_Matthew_____ENGESVN1DA_verse_2.txt  \n",
            " extracting: txt/B01___12_Matthew_____ENGESVN1DA_verse_36.txt  \n",
            " extracting: txt/B01___12_Matthew_____ENGESVN1DA_verse_29.txt  \n",
            " extracting: txt/B01___12_Matthew_____ENGESVN1DA_verse_31.txt  \n",
            " extracting: txt/B01___12_Matthew_____ENGESVN1DA_verse_30.txt  \n",
            " extracting: txt/B01___12_Matthew_____ENGESVN1DA_verse_28.txt  \n",
            " extracting: txt/B01___12_Matthew_____ENGESVN1DA_verse_27.txt  \n",
            " extracting: txt/B01___13_Matthew_____ENGESVN1DA_verse_16.txt  \n",
            " extracting: txt/B01___13_Matthew_____ENGESVN1DA_verse_1.txt  \n",
            " extracting: txt/B01___23_Matthew_____ENGESVN1DA_verse_23.txt  \n",
            " extracting: txt/B01___20_Matthew_____ENGESVN1DA_verse_7.txt  \n",
            " extracting: txt/B01___13_Matthew_____ENGESVN1DA_verse_32.txt  \n",
            " extracting: txt/B01___13_Matthew_____ENGESVN1DA_verse_51.txt  \n",
            " extracting: txt/B01___13_Matthew_____ENGESVN1DA_verse_52.txt  \n",
            " extracting: txt/B01___13_Matthew_____ENGESVN1DA_verse_35.txt  \n",
            " extracting: txt/B01___13_Matthew_____ENGESVN1DA_verse_2.txt  \n",
            " extracting: txt/B01___17_Matthew_____ENGESVN1DA_verse_24.txt  \n",
            " extracting: txt/B01___01_Matthew_____ENGESVN1DA_verse_20.txt  \n",
            " extracting: txt/B01___16_Matthew_____ENGESVN1DA_verse_9.txt  \n",
            " extracting: txt/B01___18_Matthew_____ENGESVN1DA_verse_10.txt  \n",
            " extracting: txt/B01___18_Matthew_____ENGESVN1DA_verse_1.txt  \n",
            " extracting: txt/B01___01_Matthew_____ENGESVN1DA_verse_18.txt  \n",
            " extracting: txt/B01___21_Matthew_____ENGESVN1DA_verse_36.txt  \n",
            " extracting: txt/B01___22_Matthew_____ENGESVN1DA_verse_17.txt  \n",
            " extracting: txt/B01___24_Matthew_____ENGESVN1DA_verse_28.txt  \n",
            " extracting: txt/B01___01_Matthew_____ENGESVN1DA_verse_2.txt  \n",
            " extracting: txt/B01___17_Matthew_____ENGESVN1DA_verse_10.txt  \n",
            " extracting: txt/B01___17_Matthew_____ENGESVN1DA_verse_3.txt  \n",
            " extracting: txt/B01___16_Matthew_____ENGESVN1DA_verse_28.txt  \n",
            " extracting: txt/B01___22_Matthew_____ENGESVN1DA_verse_37.txt  \n",
            " extracting: txt/B01___17_Matthew_____ENGESVN1DA_verse_1.txt  \n",
            " extracting: txt/B01___16_Matthew_____ENGESVN1DA_verse_21.txt  \n",
            " extracting: txt/B01___26_Matthew_____ENGESVN1DA_verse_5.txt  \n",
            " extracting: txt/B01___16_Matthew_____ENGESVN1DA_verse_2.txt  \n",
            " extracting: txt/B01___02_Matthew_____ENGESVN1DA_verse_11.txt  \n",
            " extracting: txt/B01___18_Matthew_____ENGESVN1DA_verse_12.txt  \n",
            " extracting: txt/B01___16_Matthew_____ENGESVN1DA_verse_11.txt  \n",
            " extracting: txt/B01___16_Matthew_____ENGESVN1DA_verse_4.txt  \n",
            " extracting: txt/B01___16_Matthew_____ENGESVN1DA_verse_12.txt  \n",
            " extracting: txt/B01___16_Matthew_____ENGESVN1DA_verse_14.txt  \n",
            " extracting: txt/B01___20_Matthew_____ENGESVN1DA_verse_5.txt  \n",
            " extracting: txt/B01___16_Matthew_____ENGESVN1DA_verse_25.txt  \n",
            " extracting: txt/B01___21_Matthew_____ENGESVN1DA_verse_7.txt  \n",
            " extracting: txt/B01___19_Matthew_____ENGESVN1DA_verse_24.txt  \n",
            " extracting: txt/B01___22_Matthew_____ENGESVN1DA_verse_1.txt  \n",
            " extracting: txt/B01___19_Matthew_____ENGESVN1DA_verse_25.txt  \n",
            " extracting: txt/B01___02_Matthew_____ENGESVN1DA_verse_1.txt  \n",
            " extracting: txt/B01___17_Matthew_____ENGESVN1DA_verse_6.txt  \n",
            " extracting: txt/B01___20_Matthew_____ENGESVN1DA_verse_31.txt  \n",
            " extracting: txt/B01___17_Matthew_____ENGESVN1DA_verse_8.txt  \n",
            " extracting: txt/B01___02_Matthew_____ENGESVN1DA_verse_16.txt  \n",
            " extracting: txt/B01___20_Matthew_____ENGESVN1DA_verse_4.txt  \n",
            " extracting: txt/B01___16_Matthew_____ENGESVN1DA_verse_5.txt  \n",
            " extracting: txt/B01___22_Matthew_____ENGESVN1DA_verse_0.txt  \n",
            " extracting: txt/B01___21_Matthew_____ENGESVN1DA_verse_6.txt  \n",
            " extracting: txt/B01___21_Matthew_____ENGESVN1DA_verse_9.txt  \n",
            " extracting: txt/B01___21_Matthew_____ENGESVN1DA_verse_8.txt  \n",
            " extracting: txt/B01___17_Matthew_____ENGESVN1DA_verse_5.txt  \n",
            " extracting: txt/B01___21_Matthew_____ENGESVN1DA_verse_44.txt  \n",
            " extracting: txt/B01___23_Matthew_____ENGESVN1DA_verse_20.txt  \n",
            " extracting: txt/B01___17_Matthew_____ENGESVN1DA_verse_25.txt  \n",
            " extracting: txt/B01___21_Matthew_____ENGESVN1DA_verse_12.txt  \n",
            " extracting: txt/B01___23_Matthew_____ENGESVN1DA_verse_16.txt  \n",
            " extracting: txt/B01___15_Matthew_____ENGESVN1DA_verse_0.txt  \n",
            " extracting: txt/B01___21_Matthew_____ENGESVN1DA_verse_43.txt  \n",
            " extracting: txt/B01___18_Matthew_____ENGESVN1DA_verse_0.txt  \n",
            " extracting: txt/B01___01_Matthew_____ENGESVN1DA_verse_10.txt  \n",
            " extracting: txt/B01___01_Matthew_____ENGESVN1DA_verse_14.txt  \n",
            " extracting: txt/B01___06_Matthew_____ENGESVN1DA_verse_34.txt  \n",
            " extracting: txt/B01___19_Matthew_____ENGESVN1DA_verse_15.txt  \n",
            " extracting: txt/B01___18_Matthew_____ENGESVN1DA_verse_9.txt  \n",
            " extracting: txt/B01___19_Matthew_____ENGESVN1DA_verse_0.txt  \n",
            " extracting: txt/B01___07_Matthew_____ENGESVN1DA_verse_17.txt  \n",
            " extracting: txt/B01___02_Matthew_____ENGESVN1DA_verse_2.txt  \n",
            " extracting: txt/B01___04_Matthew_____ENGESVN1DA_verse_8.txt  \n",
            " extracting: txt/B01___20_Matthew_____ENGESVN1DA_verse_15.txt  \n",
            " extracting: txt/B01___03_Matthew_____ENGESVN1DA_verse_4.txt  \n",
            " extracting: txt/B01___20_Matthew_____ENGESVN1DA_verse_16.txt  \n",
            " extracting: txt/B01___04_Matthew_____ENGESVN1DA_verse_23.txt  \n",
            " extracting: txt/B01___04_Matthew_____ENGESVN1DA_verse_10.txt  \n",
            " extracting: txt/B01___04_Matthew_____ENGESVN1DA_verse_7.txt  \n",
            " extracting: txt/B01___03_Matthew_____ENGESVN1DA_verse_5.txt  \n",
            " extracting: txt/B01___04_Matthew_____ENGESVN1DA_verse_3.txt  \n",
            " extracting: txt/B01___03_Matthew_____ENGESVN1DA_verse_9.txt  \n",
            " extracting: txt/B01___03_Matthew_____ENGESVN1DA_verse_17.txt  \n",
            " extracting: txt/B01___04_Matthew_____ENGESVN1DA_verse_13.txt  \n",
            " extracting: txt/B01___04_Matthew_____ENGESVN1DA_verse_0.txt  \n",
            " extracting: txt/B01___05_Matthew_____ENGESVN1DA_verse_35.txt  \n",
            " extracting: txt/B01___09_Matthew_____ENGESVN1DA_verse_15.txt  \n",
            " extracting: txt/B01___10_Matthew_____ENGESVN1DA_verse_42.txt  \n",
            " extracting: txt/B01___07_Matthew_____ENGESVN1DA_verse_2.txt  \n",
            " extracting: txt/B01___05_Matthew_____ENGESVN1DA_verse_0.txt  \n",
            " extracting: txt/B01___06_Matthew_____ENGESVN1DA_verse_29.txt  \n",
            " extracting: txt/B01___05_Matthew_____ENGESVN1DA_verse_18.txt  \n",
            " extracting: txt/B01___05_Matthew_____ENGESVN1DA_verse_16.txt  \n",
            " extracting: txt/B01___05_Matthew_____ENGESVN1DA_verse_2.txt  \n",
            " extracting: txt/B01___11_Matthew_____ENGESVN1DA_verse_25.txt  \n",
            " extracting: txt/B01___11_Matthew_____ENGESVN1DA_verse_13.txt  \n",
            " extracting: txt/B01___10_Matthew_____ENGESVN1DA_verse_7.txt  \n",
            " extracting: txt/B01___05_Matthew_____ENGESVN1DA_verse_27.txt  \n",
            " extracting: txt/B01___07_Matthew_____ENGESVN1DA_verse_23.txt  \n",
            " extracting: txt/B01___05_Matthew_____ENGESVN1DA_verse_20.txt  \n",
            " extracting: txt/B01___03_Matthew_____ENGESVN1DA_verse_14.txt  \n",
            " extracting: txt/B01___05_Matthew_____ENGESVN1DA_verse_30.txt  \n",
            " extracting: txt/B01___05_Matthew_____ENGESVN1DA_verse_29.txt  \n",
            " extracting: txt/B01___02_Matthew_____ENGESVN1DA_verse_7.txt  \n",
            " extracting: txt/B01___11_Matthew_____ENGESVN1DA_verse_26.txt  \n",
            " extracting: txt/B01___02_Matthew_____ENGESVN1DA_verse_5.txt  \n",
            " extracting: txt/B01___04_Matthew_____ENGESVN1DA_verse_14.txt  \n",
            " extracting: txt/B01___02_Matthew_____ENGESVN1DA_verse_19.txt  \n",
            " extracting: txt/B01___17_Matthew_____ENGESVN1DA_verse_2.txt  \n",
            " extracting: txt/B01___04_Matthew_____ENGESVN1DA_verse_15.txt  \n",
            " extracting: txt/B01___18_Matthew_____ENGESVN1DA_verse_33.txt  \n",
            " extracting: txt/B01___18_Matthew_____ENGESVN1DA_verse_18.txt  \n",
            " extracting: txt/B01___17_Matthew_____ENGESVN1DA_verse_7.txt  \n",
            " extracting: txt/B01___16_Matthew_____ENGESVN1DA_verse_20.txt  \n",
            " extracting: txt/B01___16_Matthew_____ENGESVN1DA_verse_22.txt  \n",
            " extracting: txt/B01___17_Matthew_____ENGESVN1DA_verse_23.txt  \n",
            " extracting: txt/B01___19_Matthew_____ENGESVN1DA_verse_26.txt  \n",
            " extracting: txt/B01___04_Matthew_____ENGESVN1DA_verse_12.txt  \n",
            " extracting: txt/B01___20_Matthew_____ENGESVN1DA_verse_23.txt  \n",
            " extracting: txt/B01___19_Matthew_____ENGESVN1DA_verse_22.txt  \n",
            " extracting: txt/B01___19_Matthew_____ENGESVN1DA_verse_29.txt  \n",
            " extracting: txt/B01___16_Matthew_____ENGESVN1DA_verse_18.txt  \n",
            " extracting: txt/B01___15_Matthew_____ENGESVN1DA_verse_39.txt  \n",
            " extracting: txt/B01___18_Matthew_____ENGESVN1DA_verse_3.txt  \n",
            " extracting: txt/B01___17_Matthew_____ENGESVN1DA_verse_18.txt  \n",
            " extracting: txt/B01___18_Matthew_____ENGESVN1DA_verse_29.txt  \n",
            " extracting: txt/B01___20_Matthew_____ENGESVN1DA_verse_11.txt  \n",
            " extracting: txt/B01___20_Matthew_____ENGESVN1DA_verse_28.txt  \n",
            " extracting: txt/B01___17_Matthew_____ENGESVN1DA_verse_26.txt  \n",
            " extracting: txt/B01___18_Matthew_____ENGESVN1DA_verse_17.txt  \n",
            " extracting: txt/B01___18_Matthew_____ENGESVN1DA_verse_26.txt  \n",
            " extracting: txt/B01___09_Matthew_____ENGESVN1DA_verse_24.txt  \n",
            " extracting: txt/B01___13_Matthew_____ENGESVN1DA_verse_49.txt  \n",
            " extracting: txt/B01___11_Matthew_____ENGESVN1DA_verse_22.txt  \n",
            " extracting: txt/B01___17_Matthew_____ENGESVN1DA_verse_22.txt  \n",
            " extracting: txt/B01___17_Matthew_____ENGESVN1DA_verse_17.txt  \n",
            " extracting: txt/B01___11_Matthew_____ENGESVN1DA_verse_14.txt  \n",
            " extracting: txt/B01___11_Matthew_____ENGESVN1DA_verse_16.txt  \n",
            " extracting: txt/B01___11_Matthew_____ENGESVN1DA_verse_2.txt  \n",
            " extracting: txt/B01___22_Matthew_____ENGESVN1DA_verse_18.txt  \n",
            " extracting: txt/B01___22_Matthew_____ENGESVN1DA_verse_19.txt  \n",
            " extracting: txt/B01___22_Matthew_____ENGESVN1DA_verse_29.txt  \n",
            " extracting: txt/B01___22_Matthew_____ENGESVN1DA_verse_23.txt  \n",
            " extracting: txt/B01___11_Matthew_____ENGESVN1DA_verse_27.txt  \n",
            " extracting: txt/B01___20_Matthew_____ENGESVN1DA_verse_8.txt  \n",
            " extracting: txt/B01___21_Matthew_____ENGESVN1DA_verse_42.txt  \n",
            " extracting: txt/B01___21_Matthew_____ENGESVN1DA_verse_23.txt  \n",
            " extracting: txt/B01___26_Matthew_____ENGESVN1DA_verse_50.txt  \n",
            " extracting: txt/B01___01_Matthew_____ENGESVN1DA_verse_24.txt  \n",
            " extracting: txt/B01___26_Matthew_____ENGESVN1DA_verse_28.txt  \n",
            " extracting: txt/B01___01_Matthew_____ENGESVN1DA_verse_23.txt  \n",
            " extracting: txt/B01___02_Matthew_____ENGESVN1DA_verse_13.txt  \n",
            " extracting: txt/B01___01_Matthew_____ENGESVN1DA_verse_19.txt  \n",
            " extracting: txt/B01___02_Matthew_____ENGESVN1DA_verse_20.txt  \n",
            " extracting: txt/B01___01_Matthew_____ENGESVN1DA_verse_1.txt  \n",
            " extracting: txt/B01___02_Matthew_____ENGESVN1DA_verse_21.txt  \n",
            " extracting: txt/B01___01_Matthew_____ENGESVN1DA_verse_15.txt  \n",
            " extracting: txt/B01___14_Matthew_____ENGESVN1DA_verse_17.txt  \n",
            " extracting: txt/B01___15_Matthew_____ENGESVN1DA_verse_33.txt  \n",
            " extracting: txt/B01___13_Matthew_____ENGESVN1DA_verse_41.txt  \n",
            " extracting: txt/B01___12_Matthew_____ENGESVN1DA_verse_39.txt  \n",
            " extracting: txt/B01___14_Matthew_____ENGESVN1DA_verse_15.txt  \n",
            " extracting: txt/B01___01_Matthew_____ENGESVN1DA_verse_25.txt  \n",
            " extracting: txt/B01___13_Matthew_____ENGESVN1DA_verse_11.txt  \n",
            " extracting: txt/B01___12_Matthew_____ENGESVN1DA_verse_13.txt  \n",
            " extracting: txt/B01___02_Matthew_____ENGESVN1DA_verse_15.txt  \n",
            " extracting: txt/B01___02_Matthew_____ENGESVN1DA_verse_12.txt  \n",
            " extracting: txt/B01___13_Matthew_____ENGESVN1DA_verse_18.txt  \n",
            " extracting: txt/B01___02_Matthew_____ENGESVN1DA_verse_10.txt  \n",
            " extracting: txt/B01___12_Matthew_____ENGESVN1DA_verse_7.txt  \n",
            " extracting: txt/B01___07_Matthew_____ENGESVN1DA_verse_10.txt  \n",
            " extracting: txt/B01___05_Matthew_____ENGESVN1DA_verse_32.txt  \n",
            " extracting: txt/B01___07_Matthew_____ENGESVN1DA_verse_11.txt  \n",
            " extracting: txt/B01___06_Matthew_____ENGESVN1DA_verse_28.txt  \n",
            " extracting: txt/B01___07_Matthew_____ENGESVN1DA_verse_14.txt  \n",
            " extracting: txt/B01___05_Matthew_____ENGESVN1DA_verse_37.txt  \n",
            " extracting: txt/B01___07_Matthew_____ENGESVN1DA_verse_15.txt  \n",
            " extracting: txt/B01___01_Matthew_____ENGESVN1DA_verse_13.txt  \n",
            " extracting: txt/B01___16_Matthew_____ENGESVN1DA_verse_8.txt  \n",
            " extracting: txt/B01___22_Matthew_____ENGESVN1DA_verse_33.txt  \n",
            " extracting: txt/B01___22_Matthew_____ENGESVN1DA_verse_16.txt  \n",
            " extracting: txt/B01___04_Matthew_____ENGESVN1DA_verse_20.txt  \n",
            " extracting: txt/B01___23_Matthew_____ENGESVN1DA_verse_25.txt  \n",
            " extracting: txt/B01___06_Matthew_____ENGESVN1DA_verse_16.txt  \n",
            " extracting: txt/B01___05_Matthew_____ENGESVN1DA_verse_6.txt  \n",
            " extracting: txt/B01___01_Matthew_____ENGESVN1DA_verse_4.txt  \n",
            " extracting: txt/B01___06_Matthew_____ENGESVN1DA_verse_13.txt  \n",
            " extracting: txt/B01___01_Matthew_____ENGESVN1DA_verse_5.txt  \n",
            " extracting: txt/B01___04_Matthew_____ENGESVN1DA_verse_24.txt  \n",
            " extracting: txt/B01___05_Matthew_____ENGESVN1DA_verse_22.txt  \n",
            " extracting: txt/B01___04_Matthew_____ENGESVN1DA_verse_9.txt  \n",
            " extracting: txt/B01___05_Matthew_____ENGESVN1DA_verse_48.txt  \n",
            " extracting: txt/B01___22_Matthew_____ENGESVN1DA_verse_2.txt  \n",
            " extracting: txt/B01___05_Matthew_____ENGESVN1DA_verse_12.txt  \n",
            " extracting: txt/B01___23_Matthew_____ENGESVN1DA_verse_24.txt  \n",
            " extracting: txt/B01___05_Matthew_____ENGESVN1DA_verse_38.txt  \n",
            " extracting: txt/B01___05_Matthew_____ENGESVN1DA_verse_39.txt  \n",
            " extracting: txt/B01___09_Matthew_____ENGESVN1DA_verse_13.txt  \n",
            " extracting: txt/B01___07_Matthew_____ENGESVN1DA_verse_24.txt  \n",
            " extracting: txt/B01___10_Matthew_____ENGESVN1DA_verse_41.txt  \n",
            " extracting: txt/B01___08_Matthew_____ENGESVN1DA_verse_11.txt  \n",
            " extracting: txt/B01___07_Matthew_____ENGESVN1DA_verse_26.txt  \n",
            " extracting: txt/B01___08_Matthew_____ENGESVN1DA_verse_33.txt  \n",
            " extracting: txt/B01___03_Matthew_____ENGESVN1DA_verse_0.txt  \n",
            " extracting: txt/B01___02_Matthew_____ENGESVN1DA_verse_22.txt  \n",
            " extracting: txt/B01___06_Matthew_____ENGESVN1DA_verse_3.txt  \n",
            " extracting: txt/B01___03_Matthew_____ENGESVN1DA_verse_1.txt  \n",
            " extracting: txt/B01___10_Matthew_____ENGESVN1DA_verse_9.txt  \n",
            " extracting: txt/B01___07_Matthew_____ENGESVN1DA_verse_21.txt  \n",
            " extracting: txt/B01___07_Matthew_____ENGESVN1DA_verse_25.txt  \n",
            " extracting: txt/B01___07_Matthew_____ENGESVN1DA_verse_20.txt  \n",
            " extracting: txt/B01___08_Matthew_____ENGESVN1DA_verse_13.txt  \n",
            " extracting: txt/B01___07_Matthew_____ENGESVN1DA_verse_22.txt  \n",
            " extracting: txt/B01___22_Matthew_____ENGESVN1DA_verse_44.txt  \n",
            " extracting: txt/B01___10_Matthew_____ENGESVN1DA_verse_6.txt  \n",
            " extracting: txt/B01___08_Matthew_____ENGESVN1DA_verse_0.txt  \n",
            " extracting: txt/B01___08_Matthew_____ENGESVN1DA_verse_1.txt  \n",
            " extracting: txt/B01___11_Matthew_____ENGESVN1DA_verse_8.txt  \n",
            " extracting: txt/B01___11_Matthew_____ENGESVN1DA_verse_12.txt  \n",
            " extracting: txt/B01___10_Matthew_____ENGESVN1DA_verse_23.txt  \n",
            " extracting: txt/B01___08_Matthew_____ENGESVN1DA_verse_14.txt  \n",
            " extracting: txt/B01___07_Matthew_____ENGESVN1DA_verse_7.txt  \n",
            " extracting: txt/B01___08_Matthew_____ENGESVN1DA_verse_5.txt  \n",
            " extracting: txt/B01___11_Matthew_____ENGESVN1DA_verse_18.txt  \n",
            " extracting: txt/B01___12_Matthew_____ENGESVN1DA_verse_11.txt  \n",
            " extracting: txt/B01___08_Matthew_____ENGESVN1DA_verse_20.txt  \n",
            " extracting: txt/B01___10_Matthew_____ENGESVN1DA_verse_22.txt  \n",
            " extracting: txt/B01___11_Matthew_____ENGESVN1DA_verse_3.txt  \n",
            " extracting: txt/B01___11_Matthew_____ENGESVN1DA_verse_17.txt  \n",
            " extracting: txt/B01___11_Matthew_____ENGESVN1DA_verse_21.txt  \n",
            " extracting: txt/B01___12_Matthew_____ENGESVN1DA_verse_1.txt  \n",
            " extracting: txt/B01___11_Matthew_____ENGESVN1DA_verse_15.txt  \n",
            " extracting: txt/B01___11_Matthew_____ENGESVN1DA_verse_20.txt  \n",
            " extracting: txt/B01___12_Matthew_____ENGESVN1DA_verse_35.txt  \n",
            " extracting: txt/B01___12_Matthew_____ENGESVN1DA_verse_12.txt  \n",
            " extracting: txt/B01___13_Matthew_____ENGESVN1DA_verse_0.txt  \n",
            " extracting: txt/B01___12_Matthew_____ENGESVN1DA_verse_44.txt  \n",
            " extracting: txt/B01___13_Matthew_____ENGESVN1DA_verse_14.txt  \n",
            " extracting: txt/B01___13_Matthew_____ENGESVN1DA_verse_47.txt  \n",
            " extracting: txt/B01___11_Matthew_____ENGESVN1DA_verse_5.txt  \n",
            " extracting: txt/B01___17_Matthew_____ENGESVN1DA_verse_16.txt  \n",
            " extracting: txt/B01___17_Matthew_____ENGESVN1DA_verse_20.txt  \n",
            " extracting: txt/B01___11_Matthew_____ENGESVN1DA_verse_24.txt  \n",
            " extracting: txt/B01___09_Matthew_____ENGESVN1DA_verse_23.txt  \n",
            " extracting: txt/B01___13_Matthew_____ENGESVN1DA_verse_8.txt  \n",
            " extracting: txt/B01___14_Matthew_____ENGESVN1DA_verse_0.txt  \n",
            " extracting: txt/B01___13_Matthew_____ENGESVN1DA_verse_22.txt  \n",
            " extracting: txt/B01___17_Matthew_____ENGESVN1DA_verse_11.txt  \n",
            " extracting: txt/B01___11_Matthew_____ENGESVN1DA_verse_28.txt  \n",
            " extracting: txt/B01___11_Matthew_____ENGESVN1DA_verse_30.txt  \n",
            " extracting: txt/B01___15_Matthew_____ENGESVN1DA_verse_4.txt  \n",
            " extracting: txt/B01___15_Matthew_____ENGESVN1DA_verse_10.txt  \n",
            " extracting: txt/B01___14_Matthew_____ENGESVN1DA_verse_16.txt  \n",
            " extracting: txt/B01___12_Matthew_____ENGESVN1DA_verse_50.txt  \n",
            " extracting: txt/B01___15_Matthew_____ENGESVN1DA_verse_25.txt  \n",
            " extracting: txt/B01___12_Matthew_____ENGESVN1DA_verse_8.txt  \n",
            " extracting: txt/B01___14_Matthew_____ENGESVN1DA_verse_30.txt  \n",
            " extracting: txt/B01___15_Matthew_____ENGESVN1DA_verse_11.txt  \n",
            " extracting: txt/B01___24_Matthew_____ENGESVN1DA_verse_1.txt  \n",
            " extracting: txt/B01___20_Matthew_____ENGESVN1DA_verse_20.txt  \n",
            " extracting: txt/B01___14_Matthew_____ENGESVN1DA_verse_11.txt  \n",
            " extracting: txt/B01___13_Matthew_____ENGESVN1DA_verse_29.txt  \n",
            " extracting: txt/B01___13_Matthew_____ENGESVN1DA_verse_13.txt  \n",
            " extracting: txt/B01___13_Matthew_____ENGESVN1DA_verse_15.txt  \n",
            " extracting: txt/B01___13_Matthew_____ENGESVN1DA_verse_7.txt  \n",
            " extracting: txt/B01___13_Matthew_____ENGESVN1DA_verse_33.txt  \n",
            " extracting: txt/B01___13_Matthew_____ENGESVN1DA_verse_44.txt  \n",
            " extracting: txt/B01___15_Matthew_____ENGESVN1DA_verse_31.txt  \n",
            " extracting: txt/B01___20_Matthew_____ENGESVN1DA_verse_21.txt  \n",
            " extracting: txt/B01___13_Matthew_____ENGESVN1DA_verse_50.txt  \n",
            " extracting: txt/B01___15_Matthew_____ENGESVN1DA_verse_27.txt  \n",
            " extracting: txt/B01___12_Matthew_____ENGESVN1DA_verse_5.txt  \n",
            " extracting: txt/B01___21_Matthew_____ENGESVN1DA_verse_39.txt  \n",
            " extracting: txt/B01___14_Matthew_____ENGESVN1DA_verse_31.txt  \n",
            " extracting: txt/B01___12_Matthew_____ENGESVN1DA_verse_26.txt  \n",
            " extracting: txt/B01___13_Matthew_____ENGESVN1DA_verse_42.txt  \n",
            " extracting: txt/B01___15_Matthew_____ENGESVN1DA_verse_34.txt  \n",
            " extracting: txt/B01___13_Matthew_____ENGESVN1DA_verse_43.txt  \n",
            " extracting: txt/B01___15_Matthew_____ENGESVN1DA_verse_23.txt  \n",
            " extracting: txt/B01___13_Matthew_____ENGESVN1DA_verse_17.txt  \n",
            " extracting: txt/B01___14_Matthew_____ENGESVN1DA_verse_14.txt  \n",
            " extracting: txt/B01___14_Matthew_____ENGESVN1DA_verse_4.txt  \n",
            " extracting: txt/B01___14_Matthew_____ENGESVN1DA_verse_36.txt  \n",
            " extracting: txt/B01___13_Matthew_____ENGESVN1DA_verse_37.txt  \n",
            " extracting: txt/B01___13_Matthew_____ENGESVN1DA_verse_27.txt  \n",
            " extracting: txt/B01___15_Matthew_____ENGESVN1DA_verse_8.txt  \n",
            " extracting: txt/B01___15_Matthew_____ENGESVN1DA_verse_26.txt  \n",
            " extracting: txt/B01___12_Matthew_____ENGESVN1DA_verse_42.txt  \n",
            " extracting: txt/B01___22_Matthew_____ENGESVN1DA_verse_46.txt  \n",
            " extracting: txt/B01___22_Matthew_____ENGESVN1DA_verse_12.txt  \n",
            " extracting: txt/B01___23_Matthew_____ENGESVN1DA_verse_13.txt  \n",
            " extracting: txt/B01___23_Matthew_____ENGESVN1DA_verse_2.txt  \n",
            " extracting: txt/B01___20_Matthew_____ENGESVN1DA_verse_19.txt  \n",
            " extracting: txt/B01___13_Matthew_____ENGESVN1DA_verse_20.txt  \n",
            " extracting: txt/B01___21_Matthew_____ENGESVN1DA_verse_45.txt  \n",
            " extracting: txt/B01___20_Matthew_____ENGESVN1DA_verse_3.txt  \n",
            " extracting: txt/B01___21_Matthew_____ENGESVN1DA_verse_30.txt  \n",
            " extracting: txt/B01___23_Matthew_____ENGESVN1DA_verse_22.txt  \n",
            " extracting: txt/B01___24_Matthew_____ENGESVN1DA_verse_42.txt  \n",
            " extracting: txt/B01___22_Matthew_____ENGESVN1DA_verse_6.txt  \n",
            " extracting: txt/B01___22_Matthew_____ENGESVN1DA_verse_24.txt  \n",
            " extracting: txt/B01___24_Matthew_____ENGESVN1DA_verse_23.txt  \n",
            " extracting: txt/B01___24_Matthew_____ENGESVN1DA_verse_40.txt  \n",
            " extracting: txt/B01___23_Matthew_____ENGESVN1DA_verse_7.txt  \n",
            " extracting: txt/B01___21_Matthew_____ENGESVN1DA_verse_17.txt  \n",
            " extracting: txt/B01___23_Matthew_____ENGESVN1DA_verse_6.txt  \n",
            " extracting: txt/B01___22_Matthew_____ENGESVN1DA_verse_39.txt  \n",
            " extracting: txt/B01___23_Matthew_____ENGESVN1DA_verse_10.txt  \n",
            " extracting: txt/B01___21_Matthew_____ENGESVN1DA_verse_40.txt  \n",
            " extracting: txt/B01___22_Matthew_____ENGESVN1DA_verse_30.txt  \n",
            " extracting: txt/B01___26_Matthew_____ENGESVN1DA_verse_59.txt  \n",
            " extracting: txt/B01___24_Matthew_____ENGESVN1DA_verse_24.txt  \n",
            " extracting: txt/B01___22_Matthew_____ENGESVN1DA_verse_36.txt  \n",
            " extracting: txt/B01___21_Matthew_____ENGESVN1DA_verse_34.txt  \n",
            " extracting: txt/B01___23_Matthew_____ENGESVN1DA_verse_26.txt  \n",
            " extracting: txt/B01___22_Matthew_____ENGESVN1DA_verse_32.txt  \n",
            " extracting: txt/B01___17_Matthew_____ENGESVN1DA_verse_19.txt  \n",
            " extracting: txt/B01___22_Matthew_____ENGESVN1DA_verse_3.txt  \n",
            " extracting: txt/B01___22_Matthew_____ENGESVN1DA_verse_21.txt  \n",
            " extracting: txt/B01___24_Matthew_____ENGESVN1DA_verse_29.txt  \n",
            " extracting: txt/B01___22_Matthew_____ENGESVN1DA_verse_26.txt  \n",
            " extracting: txt/B01___21_Matthew_____ENGESVN1DA_verse_35.txt  \n",
            " extracting: txt/B01___21_Matthew_____ENGESVN1DA_verse_46.txt  \n",
            " extracting: txt/B01___17_Matthew_____ENGESVN1DA_verse_12.txt  \n",
            " extracting: txt/B01___17_Matthew_____ENGESVN1DA_verse_15.txt  \n",
            " extracting: txt/B01___16_Matthew_____ENGESVN1DA_verse_23.txt  \n",
            " extracting: txt/B01___22_Matthew_____ENGESVN1DA_verse_15.txt  \n",
            " extracting: txt/B01___23_Matthew_____ENGESVN1DA_verse_15.txt  \n",
            " extracting: txt/B01___22_Matthew_____ENGESVN1DA_verse_13.txt  \n",
            " extracting: txt/B01___22_Matthew_____ENGESVN1DA_verse_28.txt  \n",
            " extracting: txt/B01___22_Matthew_____ENGESVN1DA_verse_22.txt  \n",
            " extracting: txt/B01___22_Matthew_____ENGESVN1DA_verse_42.txt  \n",
            " extracting: txt/B01___22_Matthew_____ENGESVN1DA_verse_25.txt  \n",
            " extracting: txt/B01___22_Matthew_____ENGESVN1DA_verse_31.txt  \n",
            " extracting: txt/B01___22_Matthew_____ENGESVN1DA_verse_11.txt  \n",
            " extracting: txt/B01___23_Matthew_____ENGESVN1DA_verse_1.txt  \n",
            " extracting: txt/B01___22_Matthew_____ENGESVN1DA_verse_8.txt  \n",
            " extracting: txt/B01___21_Matthew_____ENGESVN1DA_verse_27.txt  \n",
            " extracting: txt/B01___19_Matthew_____ENGESVN1DA_verse_12.txt  \n",
            " extracting: txt/B01___20_Matthew_____ENGESVN1DA_verse_2.txt  \n",
            " extracting: txt/B01___21_Matthew_____ENGESVN1DA_verse_5.txt  \n",
            " extracting: txt/B01___21_Matthew_____ENGESVN1DA_verse_28.txt  \n",
            " extracting: txt/B01___22_Matthew_____ENGESVN1DA_verse_7.txt  \n",
            " extracting: txt/B01___24_Matthew_____ENGESVN1DA_verse_25.txt  \n",
            " extracting: txt/B01___20_Matthew_____ENGESVN1DA_verse_22.txt  \n",
            " extracting: txt/B01___22_Matthew_____ENGESVN1DA_verse_35.txt  \n",
            " extracting: txt/B01___19_Matthew_____ENGESVN1DA_verse_20.txt  \n",
            " extracting: txt/B01___20_Matthew_____ENGESVN1DA_verse_18.txt  \n",
            " extracting: txt/B01___20_Matthew_____ENGESVN1DA_verse_12.txt  \n",
            " extracting: txt/B01___21_Matthew_____ENGESVN1DA_verse_38.txt  \n",
            " extracting: txt/B01___19_Matthew_____ENGESVN1DA_verse_13.txt  \n",
            " extracting: txt/B01___21_Matthew_____ENGESVN1DA_verse_3.txt  \n",
            " extracting: txt/B01___19_Matthew_____ENGESVN1DA_verse_4.txt  \n",
            " extracting: txt/B01___20_Matthew_____ENGESVN1DA_verse_34.txt  \n",
            " extracting: txt/B01___22_Matthew_____ENGESVN1DA_verse_20.txt  \n",
            " extracting: txt/B01___22_Matthew_____ENGESVN1DA_verse_34.txt  \n",
            " extracting: txt/B01___21_Matthew_____ENGESVN1DA_verse_14.txt  \n",
            " extracting: txt/B01___24_Matthew_____ENGESVN1DA_verse_27.txt  \n",
            " extracting: txt/B01___18_Matthew_____ENGESVN1DA_verse_22.txt  \n",
            " extracting: txt/B01___19_Matthew_____ENGESVN1DA_verse_30.txt  \n",
            " extracting: txt/B01___23_Matthew_____ENGESVN1DA_verse_18.txt  \n",
            " extracting: txt/B01___26_Matthew_____ENGESVN1DA_verse_70.txt  \n",
            " extracting: txt/B01___22_Matthew_____ENGESVN1DA_verse_10.txt  \n",
            " extracting: txt/B01___24_Matthew_____ENGESVN1DA_verse_19.txt  \n",
            " extracting: txt/B01___22_Matthew_____ENGESVN1DA_verse_41.txt  \n",
            " extracting: txt/B01___20_Matthew_____ENGESVN1DA_verse_10.txt  \n",
            " extracting: txt/B01___20_Matthew_____ENGESVN1DA_verse_33.txt  \n",
            " extracting: txt/B01___22_Matthew_____ENGESVN1DA_verse_14.txt  \n",
            " extracting: txt/B01___19_Matthew_____ENGESVN1DA_verse_2.txt  \n",
            " extracting: txt/B01___24_Matthew_____ENGESVN1DA_verse_13.txt  \n",
            " extracting: txt/B01___23_Matthew_____ENGESVN1DA_verse_12.txt  \n",
            " extracting: txt/B01___24_Matthew_____ENGESVN1DA_verse_18.txt  \n",
            " extracting: txt/B01___23_Matthew_____ENGESVN1DA_verse_0.txt  \n",
            " extracting: txt/B01___20_Matthew_____ENGESVN1DA_verse_13.txt  \n",
            " extracting: txt/B01___21_Matthew_____ENGESVN1DA_verse_29.txt  \n",
            " extracting: txt/B01___21_Matthew_____ENGESVN1DA_verse_20.txt  \n",
            " extracting: txt/B01___18_Matthew_____ENGESVN1DA_verse_5.txt  \n",
            " extracting: txt/B01___20_Matthew_____ENGESVN1DA_verse_30.txt  \n",
            " extracting: txt/B01___19_Matthew_____ENGESVN1DA_verse_16.txt  \n",
            " extracting: txt/B01___21_Matthew_____ENGESVN1DA_verse_13.txt  \n",
            " extracting: txt/B01___22_Matthew_____ENGESVN1DA_verse_45.txt  \n",
            " extracting: txt/B01___21_Matthew_____ENGESVN1DA_verse_10.txt  \n",
            " extracting: txt/B01___26_Matthew_____ENGESVN1DA_verse_57.txt  \n",
            " extracting: txt/B01___22_Matthew_____ENGESVN1DA_verse_5.txt  \n",
            " extracting: txt/B01___24_Matthew_____ENGESVN1DA_verse_12.txt  \n",
            " extracting: txt/B01___21_Matthew_____ENGESVN1DA_verse_16.txt  \n",
            " extracting: txt/B01___20_Matthew_____ENGESVN1DA_verse_25.txt  \n",
            " extracting: txt/B01___20_Matthew_____ENGESVN1DA_verse_6.txt  \n",
            " extracting: txt/B01___21_Matthew_____ENGESVN1DA_verse_41.txt  \n",
            " extracting: txt/B01___23_Matthew_____ENGESVN1DA_verse_19.txt  \n",
            " extracting: txt/B01___24_Matthew_____ENGESVN1DA_verse_20.txt  \n",
            " extracting: txt/B01___21_Matthew_____ENGESVN1DA_verse_37.txt  \n",
            " extracting: txt/B01___23_Matthew_____ENGESVN1DA_verse_9.txt  \n",
            " extracting: txt/B01___21_Matthew_____ENGESVN1DA_verse_25.txt  \n",
            " extracting: txt/B01___21_Matthew_____ENGESVN1DA_verse_4.txt  \n",
            " extracting: txt/B01___20_Matthew_____ENGESVN1DA_verse_32.txt  \n",
            " extracting: txt/B01___24_Matthew_____ENGESVN1DA_verse_41.txt  \n",
            " extracting: txt/B01___23_Matthew_____ENGESVN1DA_verse_11.txt  \n",
            " extracting: txt/B01___26_Matthew_____ENGESVN1DA_verse_54.txt  \n",
            " extracting: txt/B01___22_Matthew_____ENGESVN1DA_verse_27.txt  \n",
            " extracting: txt/B01___21_Matthew_____ENGESVN1DA_verse_11.txt  \n",
            " extracting: txt/B01___22_Matthew_____ENGESVN1DA_verse_9.txt  \n",
            " extracting: txt/B01___23_Matthew_____ENGESVN1DA_verse_21.txt  \n",
            " extracting: txt/B01___21_Matthew_____ENGESVN1DA_verse_22.txt  \n",
            " extracting: txt/B01___24_Matthew_____ENGESVN1DA_verse_14.txt  \n",
            " extracting: txt/B01___23_Matthew_____ENGESVN1DA_verse_17.txt  \n",
            " extracting: txt/B01___21_Matthew_____ENGESVN1DA_verse_32.txt  \n"
          ]
        }
      ]
    },
    {
      "cell_type": "code",
      "source": [
        "import os\n",
        "import string\n",
        "\n",
        "import nltk\n",
        "nltk.download(\"stopwords\")\n",
        "from nltk.corpus import stopwords\n",
        "\n",
        "def remove_stopwords(text):\n",
        "  return \" \".join([w for w in text.split() if w not in list(stopwords.words(\"english\"))])\n",
        "\n",
        "def remove_punctuation(text):\n",
        "  return text.translate(text.maketrans(\"\", \"\", string.punctuation))"
      ],
      "metadata": {
        "id": "ChyylROeaftZ",
        "colab": {
          "base_uri": "https://localhost:8080/"
        },
        "outputId": "d472a8bd-d2db-4c3c-d37e-3afd833c2b57"
      },
      "execution_count": null,
      "outputs": [
        {
          "output_type": "stream",
          "name": "stderr",
          "text": [
            "[nltk_data] Downloading package stopwords to /root/nltk_data...\n",
            "[nltk_data]   Package stopwords is already up-to-date!\n"
          ]
        }
      ]
    },
    {
      "cell_type": "code",
      "source": [
        "def create_dictionary(corpus_path='./txt'):\n",
        "  dictionary = []\n",
        "  for filename in os.listdir(corpus_path):\n",
        "    file_path = os.path.join(corpus_path, filename)\n",
        "    f = open(file_path)\n",
        "    text = f.read()\n",
        "    text = text.strip()\n",
        "    text = remove_punctuation(text)\n",
        "    text = remove_stopwords(text)\n",
        "\n",
        "    words = text.split()\n",
        "\n",
        "    for word in words:\n",
        "      if word not in dictionary:\n",
        "        dictionary.append(word)\n",
        "\n",
        "  return dictionary\n",
        "      \n",
        "print(\"dictionary size: \", len(create_dictionary()))\n",
        "print(create_dictionary())"
      ],
      "metadata": {
        "id": "23BCK0HkaiJI",
        "colab": {
          "base_uri": "https://localhost:8080/"
        },
        "outputId": "aea892e1-99d7-42e6-b996-d90561e3a882"
      },
      "execution_count": null,
      "outputs": [
        {
          "output_type": "stream",
          "name": "stdout",
          "text": [
            "dictionary size:  2159\n",
            "['Then', 'high', 'priest', 'tore', 'robes', 'said', 'He', 'uttered', 'blasphemy', 'What', 'witnesses', 'need', 'You', 'heard', 'And', 'Capernaum', 'exalted', 'heaven', 'brought', 'Hades', 'For', 'mighty', 'works', 'done', 'Sodom', 'would', 'remained', 'day', 'deportation', 'Babylon', 'Jechoniah', 'father', 'Shealtiel', 'Zerubbabel', 'The', 'one', 'receives', 'prophet', 'receive', 'reward', 'righteous', 'person', 'It', 'also', '‘Whoever', 'divorces', 'wife', 'let', 'give', 'certificate', 'divorce', 'Jesus', 'I', 'say', 'seven', 'times', 'seventy', 'Matthew', '26', 'answered', 'Every', 'plant', 'heavenly', 'Father', 'planted', 'rooted', 'But', 'tenants', 'saw', 'son', '‘This', 'heir', 'Come', 'us', 'kill', 'inheritance', 'When', 'entered', 'house', 'blind', 'men', 'came', 'Do', 'believe', 'able', 'They', 'Yes', 'Lord', 'Now', 'John', 'prison', 'deeds', 'Christ', 'sent', 'word', 'disciples', 'Thus', 'witness', 'sons', 'murdered', 'prophets', 'seized', 'led', 'Caiaphas', 'scribes', 'elders', 'gathered', 'answer', 'anyone', 'dare', 'ask', 'questions', 'good', 'treasure', 'brings', 'forth', 'evil', 'Why', 'see', 'speck', 'brother', 'eye', 'notice', 'log', 'like', 'knows', 'departed', 'behold', 'angel', 'appeared', 'Joseph', 'dream', 'Rise', 'take', 'child', 'mother', 'flee', 'Egypt', 'remain', 'tell', 'Herod', 'search', 'destroy', 'As', 'sown', 'soil', 'hears', 'understands', 'indeed', 'bears', 'fruit', 'yields', 'case', 'hundredfold', 'another', 'sixty', 'thirty', 'Of', 'much', 'value', 'man', 'sheep', 'So', 'lawful', 'Sabbath', 'deliver', 'paid', 'pieces', 'silver', 'tree', 'bear', 'cut', 'thrown', 'fire', 'begged', 'saying', 'Send', 'away', 'crying', 'These', 'defile', 'eat', 'unwashed', 'hands', 'Brother', 'death', 'children', 'rise', 'parents', 'put', 'Whoever', 'humbles', 'greatest', 'kingdom', 'sows', 'seed', 'Son', 'Man', 'Again', 'second', 'time', 'went', 'prayed', 'My', 'cannot', 'pass', 'unless', 'drink', 'coming', 'hometown', 'taught', 'synagogue', 'astonished', 'Where', 'get', 'wisdom', 'finding', 'pearl', 'great', 'sold', 'bought', 'gospel', 'proclaimed', 'throughout', 'whole', 'world', 'testimony', 'nations', 'end', 'come', 'Immediately', 'left', 'boat', 'followed', 'lawlessness', 'increased', 'love', 'many', 'grow', 'cold', 'every', 'forgive', 'heart', 'outer', 'darkness', 'In', 'place', 'weeping', 'gnashing', 'teeth', 'At', 'declared', 'thank', 'earth', 'hidden', 'things', 'wise', 'understanding', 'revealed', 'little', 'everyone', 'given', 'abundance', 'even', 'taken', 'spread', 'fame', 'district', 'called', 'people', 'Hear', 'understand', 'anxious', 'speak', 'hour', 'oath', 'either', 'throne', 'God', 'Jerusalem', 'city', 'stirred', 'Who', 'immediately', 'spoke', 'Take', 'afraid', 'Two', 'women', 'grinding', 'mill', 'Truly', 'whatever', 'bind', 'shall', 'bound', 'loose', 'loosed', 'reached', 'hand', 'took', 'hold', 'O', 'faith', 'doubt', 'After', 'woman', 'died', 'Solomon', 'Rehoboam', 'Abijah', 'Asaph', 'From', 'others', 'free', 'first', 'last', 'hid', 'talent', 'ground', 'Here', 'Prompted', 'Give', 'head', 'Baptist', 'platter', 'servants', 'beat', 'killed', 'stoned', '‘We', 'played', 'flute', 'dance', 'sang', 'dirge', 'mourn', 'bridegroom', 'delayed', 'became', 'drowsy', 'slept', 'think', 'bring', 'peace', 'sword', 'Peter', 'motherinlaw', 'lying', 'sick', 'fever', 'whoever', 'Scriptures', 'fulfilled', 'must', 'false', 'arise', 'lead', 'astray', 'soul', 'sorrowful', 'watch', 'Can', 'wedding', 'guests', 'long', 'days', 'fast', 'Nineveh', 'judgment', 'generation', 'condemn', 'repented', 'preaching', 'Jonah', 'something', 'greater', 'drew', 'near', 'Bethphage', 'Mount', 'Olives', 'two', 'along', 'Herodians', 'Teacher', 'know', 'true', 'teach', 'way', 'truthfully', 'care', 'opinion', 'swayed', 'appearances', 'Put', 'back', 'perish', 'told', 'parables', 'A', 'sower', 'sow', 'third', 'seventh', 'withdrew', 'desolate', 'crowds', 'foot', 'towns', 'swears', 'temple', 'dwells', 'Go', 'girl', 'dead', 'sleeping', 'laughed', 'Spirit', 'wilderness', 'tempted', 'devil', 'Explain', 'parable', 'weeds', 'field', 'go', 'finished', 'prevented', 'baptized', 'betrayer', 'sign', 'kiss', 'seize', 'tetrarch', 'mountain', 'commanded', 'Tell', 'vision', 'raised', 'lord', 'enemies', 'household', 'cast', 'demons', 'upon', 'Prophets', 'Law', 'prophesied', 'might', 'lay', 'pray', 'rebuked', 'To', 'gave', 'five', 'talents', 'according', 'ability', 'disciple', 'teacher', 'servant', 'master', 'We', 'loaves', 'fish', 'teaching', 'authority', 'send', 'angels', 'loud', 'trumpet', 'call', 'gather', 'elect', 'four', 'winds', 'king', 'sorry', 'oaths', 'honor', 'feasts', 'best', 'seats', 'synagogues', 'rose', 'getting', 'crossed', 'seek', 'righteousness', 'added', 'ruler', 'players', 'crowd', 'making', 'commotion', 'Acquire', 'gold', 'copper', 'belts', 'Galilee', 'Decapolis', 'Judea', 'beyond', 'Jordan', 'aware', 'discussing', 'among', 'fact', 'bread', 'Blessed', 'hunger', 'thirst', 'satisfied', 'ministering', 'Pharisees', 'sit', 'Moses', 'seat', '‘Master', 'How', 'tribulation', 'beginning', 'never', 'persecuted', 'sake', 'listening', 'star', 'seen', 'rest', 'flood', 'eating', 'drinking', 'marrying', 'giving', 'marriage', 'Noah', 'ark', 'directed', 'Gethsemane', 'Sit', 'may', 'sins', 'paralytic', 'pick', 'bed', 'home', 'standing', 'taste', 'words', 'justified', 'condemned', 'Bear', 'keeping', 'repentance', 'ten', 'indignant', 'brothers', '‘Honor', 'reviles', 'surely', 'die', '8', 'large', 'healed', 'going', 'idle', 'marketplace', 'set', 'possessions', 'His', '‘Well', 'faithful', 'Enter', 'joy', 'No', 'puts', 'piece', 'unshrunk', 'cloth', 'old', 'garment', 'patch', 'tears', 'worse', 'tear', 'made', 'Friend', 'laid', 'certain', '‘The', 'says', 'keep', 'Passover', 'voice', 'Ramah', 'lamentation', 'Rachel', 'refused', 'comforted', 'gives', 'ones', 'cup', 'water', 'truly', 'means', 'lose', 'denies', 'deny', 'Therefore', 'tomorrow', 'Sufficient', 'trouble', 'stretching', 'toward', 'morning', '‘It', 'stormy', 'today', 'sky', 'red', 'threatening', 'interpret', 'appearance', 'signs', 'See', 'nothing', 'show', 'offer', 'gift', 'proof', 'Wherever', 'corpse', 'vultures', 'angry', 'troops', 'destroyed', 'murderers', 'burned', 'shine', 'sun', 'ears', 'hear', 'Nor', 'light', 'lamp', 'basket', 'stand', 'Pray', 'Our', 'hallowed', 'name', 'marveled', 'eternal', 'punishment', 'life', 'Be', 'desire', 'daughter', 'instantly', 'Salmon', 'Boaz', 'Rahab', 'Obed', 'Ruth', 'Jesse', 'Hezekiah', 'Manasseh', 'Amos', 'Josiah', 'began', 'suffer', 'chief', 'priests', 'replied', '‘Friend', 'wrong', 'Did', 'agree', 'denarius', 'Fill', 'measure', 'fathers', 'Let', 'thus', 'fitting', 'fulfill', 'consented', 'silenced', 'Sadducees', 'together', 'arrested', 'Most', 'cloaks', 'road', 'branches', 'trees', 'assembling', 'inquired', 'born', 'stretched', 'touched', 'clean', 'leprosy', 'cleansed', 'Elijah', 'restore', 'walked', 'beside', 'Sea', 'sat', 'evening', 'owner', 'vineyard', 'foreman', '‘Call', 'laborers', 'pay', 'wages', 'practice', 'observe', 'preach', 'seated', 'right', 'Power', 'clouds', 'This', 'villages', 'buy', 'food', 'serpents', 'brood', 'vipers', 'escape', 'sentenced', 'hell', 'serve', 'served', 'ransom', 'If', 'touch', 'well', 'walking', 'sea', 'terrified', 'ghost', 'cried', 'fear', 'All', 'handed', 'except', 'chooses', 'reveal', 'salt', 'lost', 'saltiness', 'restored', 'longer', 'anything', 'trampled', 'feet', 'rather', 'Israel', 'though', 'wanted', 'feared', 'held', 'implored', 'fringe', 'arisen', 'Yet', 'least', '‘Look', 'glutton', 'drunkard', 'friend', 'tax', 'collectors', 'sinners', 'fair', 'weather', 'speaks', 'forgiven', 'Holy', 'age', 'Sleep', 'later', 'betrayed', 'knew', 'birth', 'plotted', 'order', 'arrest', 'stealth', 'Zebedee', 'kneeling', 'asked', 'causes', 'sin', 'better', 'millstone', 'fastened', 'around', 'neck', 'drowned', 'depth', 'calm', 'hinder', 'belongs', 'Bethlehem', 'diligently', 'found', 'worship', 'profit', 'gains', 'forfeits', 'Or', 'return', 'enemy', 'sowed', 'harvest', 'close', 'reapers', 'husband', 'unwilling', 'shame', 'resolved', 'quietly', '‘You', 'commit', 'adultery', 'dismissed', 'alone', 'While', 'knelt', 'live', 'save', 'loses', 'find', 'Azor', 'Zadok', 'Achim', 'Eliud', 'drove', 'overturned', 'tables', 'moneychangers', 'pigeons', 'look', 'gloomy', 'hypocrites', 'disfigure', 'faces', 'fasting', 'received', 'Those', 'ate', 'thousand', 'besides', 'winnowing', 'fork', 'clear', 'threshing', 'floor', 'wheat', 'barn', 'chaff', 'burn', 'unquenchable', 'stood', 'Have', 'make', 'testify', 'Gentiles', 'mocked', 'flogged', 'crucified', 'mercy', 'epileptic', 'suffers', 'terribly', 'often', 'falls', 'needy', 'orders', 'side', 'altar', 'makes', 'sacred', 'prepared', 'Another', 'bury', 'Bring', 'grain', 'mustard', 'hundred', 'gone', 'leave', 'ninetynine', 'mountains', 'prostitutes', 'believed', 'afterward', 'change', 'minds', 'asks', 'stone', '‘No', 'lest', 'gathering', 'root', 'Syria', 'afflicted', 'various', 'diseases', 'pains', 'oppressed', 'epileptics', 'paralytics', 'known', '‘I', 'sacrifice', 'guiltless', 'rabbi', 'leads', 'Repent', 'delivered', 'listen', 'shake', 'dust', 'town', 'resurrection', 'therefore', 'whose', 'still', 'speaking', 'outside', 'asking', 'Neither', 'vain', 'doctrines', 'commandments', 'pity', 'eyes', 'recovered', 'sight', 'fell', 'understood', 'hired', 'thought', 'sits', 'young', 'kept', 'lack', 'healthy', 'bad', 'diseased', 'sayings', 'region', '‘Son', 'work', 'forward', 'hard', 'reaping', 'scattered', 'village', 'front', 'donkey', 'tied', 'colt', 'Untie', 'rain', 'floods', 'blew', 'fall', 'founded', 'rock', 'She', 'faithless', 'twisted', 'everything', 'opened', 'generations', 'Abraham', 'David', 'fourteen', 'Gather', 'bundles', '‘Depart', 'cursed', 'betray', 'hate', 'strictly', 'charged', 'Some', 'Jeremiah', 'warned', 'country', 'changed', 'mind', 'exalts', 'humbled', 'settle', 'owed', 'summoned', 'secretly', 'ascertained', '9', 'beware', 'leaven', 'Beware', 'clothing', 'inwardly', 'ravenous', 'wolves', '‘Let', 'finds', 'reply', 'goes', 'written', 'woe', 'anoint', 'wash', 'face', 'land', '19', 'endures', 'saved', 'cities', 'proclaiming', 'healing', 'disease', 'affliction', 'miraculous', 'powers', 'glorified', 'earnestly', 'merchant', 'fine', 'pearls', 'room', 'shut', 'door', 'secret', 'sees', 'visit', 'Council', 'seeking', 'leaving', 'Nazareth', 'lived', 'territory', 'Zebulun', 'Naphtali', 'quarrel', 'cry', 'aloud', 'streets', 'help', 'turned', 'seeing', 'got', 'beach', 'On', 'depend', 'Other', 'seeds', 'thorns', 'grew', 'choked', '‘Tell', 'invited', 'dinner', 'oxen', 'fat', 'calves', 'slaughtered', 'ready', 'feast', 'Get', 'behind', 'Satan', 'hindrance', 'setting', 'Knowing', 'thoughts', 'divided', 'waste', 'hill', 'neither', '‘He', 'demon', 'flesh', 'joined', 'separate', 'yet', 'perceive', 'remember', 'baskets', 'There', 'enter', 'twelve', 'Judas', 'Iscariot', 'season', 'charge', 'established', 'evidence', 'three', 'wish', 'persecute', 'next', 'comes', 'Finally', '‘They', 'respect', 'Gennesaret', 'read', 'hungry', 'baptize', 'mightier', 'sandals', 'worthy', 'carry', '‘These', 'worked', 'equal', 'borne', 'burden', 'scorching', 'heat', 'malice', 'test', 'mouth', 'Gadarenes', 'demonpossessed', 'met', 'tombs', 'fierce', 'could', 'blood', 'covenant', 'poured', 'forgiveness', 'fig', 'wayside', 'leaves', 'May', 'ever', 'withered', 'crucify', 'flog', '‘Behold', 'messenger', 'prepare', 'phylacteries', 'broad', 'fringes', 'amazed', 'christs', 'perform', 'wonders', 'possible', 'thirsty', 'stranger', 'welcomed', 'threw', 'unbelief', 'sister', 'turn', 'cloak', 'anger', 'jailers', 'debt', 'spoken', 'Isaiah', 'tolerable', '11', 'merciful', 'covered', 'trespasses', 'loves', 'labor', 'heavy', 'laden', 'difficulty', 'rich', 'Woe', 'guides', '‘If', 'passed', 'sitting', 'booth', 'Follow', 'profane', 'aside', 'rebuke', 'Far', 'happen', 'throw', 'members', 'body', 'worshiped', 'become', 'fault', 'listens', 'gained', 'Out', 'shed', 'innocent', 'Abel', 'Zechariah', 'Barachiah', 'sanctuary', 'straining', 'gnat', 'swallowing', 'camel', '‘What', 'wear', 'naked', 'clothed', 'visited', '‘Lord', 'minister', 'add', 'single', 'span', 'buried', 'farther', 'nevertheless', 'Even', 'axe', 'Just', 'wore', 'hair', 'leather', 'belt', 'waist', 'locusts', 'wild', 'honey', 'physician', 'declare', 'depart', 'workers', 'James', 'mending', 'nets', 'bearable', 'Tyre', 'Sidon', 'neighbor', 'reclined', 'table', 'reclining', 'swear', 'falsely', 'sworn', 'compared', 'wished', 'accounts', 'rejoiced', 'exceedingly', 'sending', 'Magadan', 'night', 'strike', 'shepherd', 'flock', 'woke', 'Save', 'perishing', 'instructing', 'nowhere', 'Samaritans', 'practicing', 'gate', 'narrow', 'courtyard', 'Galilean', 'Because', '‘Move', 'move', 'impossible', 'Either', 'keys', '5', '‘Since', 'enough', 'dealers', 'scatters', 'resist', 'slaps', 'cheek', 'serpent', 'traded', 'break', 'tradition', 'learn', 'lesson', 'soon', 'branch', 'becomes', 'tender', 'summer', 'Heaven', 'mine', 'grant', 'paralyzed', 'suffering', '12', 'glory', 'repay', 'without', 'speechless', '‘Truly', 'blessed', 'offended', 'moment', 'sought', 'opportunity', 'ashore', 'compassion', 'command', 'Seven', 'small', 'entangle', 'question', 'fail', 'struck', 'ear', 'full', 'palace', 'Herodias', 'Philip', 'goats', '15', 'tricked', 'furious', 'male', 'years', 'privately', 'looked', 'With', 'herd', 'pigs', 'builders', 'rejected', 'cornerstone', 'marvelous', 'Seeing', '‘An', '‘Then', 'want', 'recognize', 'fruits', 'demonoppressed', 'mute', 'Say', 'Zion', 'humble', 'mounted', 'foal', 'beast', 'tells', 'Unleavened', 'Bread', 'Show', 'coin', 'dwelling', 'shadow', 'dawned', 'offense', '‘There', 'returning', 'telling', 'silent', 'outwardly', 'appear', 'within', 'hypocrisy', 'Mary', 'betrothed', 'sung', 'hymn', 'Behold', 'virgin', 'conceive', 'Immanuel', 'concerning', '‘On', 'wonderful', 'Hosanna', 'faint', 'crippled', 'lame', 'Gomorrah', 'rejoices', 'Heal', 'raise', 'cleanse', 'lepers', 'paying', 'terms', 'quickly', 'accuser', 'court', 'judge', 'guard', 'heap', 'empty', 'phrases', 'yoke', 'easy', 'simply', '‘Yes', 'Rather', '6', 'commandment', 'Five', 'foolish', 'Ram', 'Amminadab', 'Nahshon', 'sends', 'unjust', 'centurion', 'Consider', 'lilies', 'toil', 'spin', 'exceeds', 'east', 'part', 'thief', 'stayed', 'awake', 'broken', 'thanks', 'broke', 'alabaster', 'flask', 'expensive', 'ointment', 'Simon', 'Andrew', 'casting', 'net', 'fishermen', 'soldiers', '‘Go', '‘Come', '‘Do', 'grainfields', 'pluck', 'heads', 'rebuild', 'calls', 'allow', 'path', 'birds', 'devoured', 'Jews', 'troubled', 'hardness', 'allowed', 'wives', 'bright', 'cloud', 'overshadowed', 'beloved', 'pleased', '‘Therefore', 'compare', 'marketplaces', 'calling', 'playmates', 'Love', 'housetop', 'build', 'decorate', 'monuments', 'tempter', 'stones', 'none', 'queen', 'South', 'ends', 'Look', 'air', 'reap', 'barns', 'feeds', 'Are', 'Which', 'Is', '24', 'released', 'forgave', 'lifted', 'cares', 'deceitfulness', 'riches', 'choke', 'proves', 'unfruitful', 'herdsmen', 'fled', 'especially', 'happened', 'report', 'grown', 'dull', 'barely', 'closed', 'heal', 'eleventh', 'church', 'gates', 'prevail', 'Foxes', 'holes', 'nests', 'Bethany', 'lodged', 'living', 'virgins', 'trimmed', 'lamps', 'pit', 'cross', 'follow', 'stay', 'Fear', 'sparrows', '13', 'flight', 'winter', 'treasures', 'moth', 'rust', 'destroys', 'thieves', 'steal', 'plants', 'bore', 'abolish', 'wind', 'ceased', 'prophesy', 'oil', 'married', 'Uriah', 'marry', 'leper', 'That', 'sink', '22', 'Ask', 'knock', '‘Because', 'slave', 'dogs', 'crumbs', 'masters', 'new', 'glorious', 'thrones', 'judging', 'tribes', 'midnight', '‘Here', 'meet', 'midst', 'doves', 'Watch', 'conspired', 'An', 'adulterous', 'seeks', 'rulers', 'exercise', 'greatly', 'distressed', '‘From', 'fence', 'dug', 'winepress', 'built', 'tower', 'leased', 'perfect', 'proclaim', 'knowing', 'hearts', 'wide', 'destruction', 'passes', 'stomach', 'expelled', 'appealing', 'fools', 'fourth', 'sell', 'possess', 'poor', 'wars', 'rumors', 'alarmed', 'always', '23', 'Jacob', 'short', 'human', 'bringing', 'honors', 'lips', 'far', 'beautiful', 'thing', 'Well', 'attendants', '‘Bind', 'spirits', 'pure', 'arrayed', 'promised', 'blaspheming', 'hypocrite', 'clearly', '7', 'settled', 'murder', 'darkened', 'moon', 'stars', 'heavens', 'shaken', 'directing', '20', 'sexual', 'immorality', 'theft', 'slander', 'Drink', 'looks', 'lustful', 'intent', 'already', 'committed', 'wicked', 'slothful', 'forty', 'nights', 'beaten', 'waves', 'Going', 'sixth', 'ninth', 'penny', 'abomination', 'desolation', 'Daniel', 'holy', 'reader', 'alas', 'pregnant', 'nursing', 'infants', '‘Give', 'Abiud', 'Eliakim', 'roads', 'hall', 'filled', 'receiving', 'grumbled', 'marries', 'divorced', 'commits', 'accuse', 'reed', 'presume', 'twodrachma', 'Does', 'spirit', 'adjure', 'inner', 'rooms', 'King', 'eunuchs', '4', 'tie', 'burdens', 'shoulders', 'willing', 'finger', 'trample', 'underfoot', 'attack', 'kind', 'prayer', 'descending', 'dove', '18', 'easier', 'needle', '‘Man', 'Archelaus', 'reigning', 'ought', 'invested', 'money', 'bankers', 'interest', 'Jehoshaphat', 'Joram', 'Uzziah', 'Isaac', 'kings', 'toll', 'Beelzebul', 'judges', 'liable', 'insults', 'council', 'fool', 'Though', 'ordered', 'grass', 'taking', 'blessing', 'Caesar', 'render', 'whitewashed', 'bones', 'uncleanness', 'However', 'hook', 'open', 'shekel', 'Canaanite', 'severely', 'suffered', 'discharge', 'unclean', 'someone', 'strong', 'plunder', 'goods', 'binds', 'welcome', 'clothe', 'created', 'female', 'rocky', 'sprang', 'since', 'showed', 'kingdoms', 'Judge', 'judged', 'clothes', 'alive', 'oven', 'knees', 'imploring', '‘Have', 'patience', 'Chorazin', 'Bethsaida', 'ago', 'sackcloth', 'ashes', 'Presence', 'plate', 'inside', 'greed', 'selfindulgence', 'stopping', 'fellow', 'reported', 'lightning', 'shines', 'west', 'plentiful', 'arose', 'storm', 'swamped', 'asleep', 'main', 'invite', 'casts', 'prince', 'power', 'persecution', 'arises', 'account', '‘My', 'den', 'robbers', 'hated', 'producing', 'dark', 'whispered', 'housetops', '10', 'feed', 'By', 'hope', 'courts', 'walk', 'deaf', 'news', 'preached', 'sound', 'praised', 'devoted', 'despise', 'void', 'pleaded', 'Bartholomew', 'Thomas', 'collector', 'Alphaeus', 'Thaddaeus', 'travel', 'across', 'proselyte', 'twice', 'choose', 'worker', 'certainly', 'sorted', 'containers', 'birthday', 'danced', 'company', 'bag', 'journey', 'tunics', 'staff', 'laborer', 'deserves', 'defiles', 'meek', 'inherit', 'Whose', 'nation', 'famines', 'earthquakes', 'places', 'shouting', 'highest', 'yes', 'gracious', 'peacemakers', 'temptation', 'forgotten', 'houses', 'sisters', 'lands', 'greet', 'refuses', 'Gentile', 'acknowledges', 'acknowledge', 'debts', 'debtors', 'tooth', 'opening', 'offered', 'gifts', 'frankincense', 'myrrh', 'sort', 'obey', '2', 'spit', 'slapped', 'worthless', 'bruised', 'smoldering', 'wick', 'quench', 'justice', 'victory', 'swept', 'street', 'corners', 'revile', 'utter', 'kinds', 'lawyer', 'chosen', 'secrets', 'begins', 'eats', 'drinks', 'drunkards', 'pinnacle', 'Am', 'begrudge', 'generosity', 'sleep', 'produced', 'iota', 'dot', 'accomplished', 'beheaded', 'Nazarene', 'knocks', 'dwell', 'state', 'sue', 'tunic', 'carpenter', 'dipped', 'dish', 'forces', 'mile', 'miles', 'expect', 'denarii', 'seizing', '‘Pay', 'owe', 'scribe', 'trained', '25', 'pronounce', 'use', 'measured', 'swords', 'clubs', 'dies', 'widow', 'waterless', '‘Your', '‘Rise', 'According', 'Not', 'fishers', 'transfigured', 'shone', 'white', 'tested', 'cause', 'rooster', 'crows', 'roadside', 'passing', 'black', 'boy', 'appeal', 'legions', 'following', 'distance', 'guards', 'vine', 'crush', 'flasks', 'Before', 'separates', '14', 'fiery', 'furnace', 'agreeing', 'Never', 'denied', 'mean', 'book', 'genealogy', 'shedding', 'longed', 'Your', 'treated', 'shamefully', 'wine', 'wineskins', 'skins', 'burst', 'spilled', 'fresh', 'preserved', '‘Prepare', 'paths', 'straight', 'Stretch', 'tithe', 'mint', 'dill', 'cumin', 'neglected', 'weightier', 'matters', 'law', 'faithfulness', 'neglecting', 'scorched', 'lift', 'Everyone', 'Judah', 'sir', 'offering', 'snatches', 'kills', 'hen', 'gathers', 'wings', 'names', 'apostles', 'Rabbi', 'baptism', 'discussed', '‘Why', 'hearing', 'smallest', 'larger', 'garden', '17', 'instructors', 'instructor', '3', 'taxes', 'entrusted', 'property', 'foundation', 'harassed', 'helpless', '21', '1', 'beforehand', 'point', 'buildings', 'Perez', 'Zerah', 'Tamar', 'Hezron', 'Caesarea', 'Philippi', '‘Blessed', '‘Out', 'babies', 'praise', 'wherever', 'recognized', 'begs', 'refuse', 'borrow', 'river', 'confessing', 'careless', 'relaxes', 'teaches', 'lawbreakers', 'roof', 'Prophesy', 'early', 'hire', 'Rejoice', 'glad', 'six', 'murders', 'violence', 'violent', 'force', 'wretches', 'miserable', 'seasons', 'accept', 'proper', 'unaware', 'deed', 'likeness', 'inscription', 'wither', 'BarJonah', 'grapes', 'thornbushes', 'figs', 'thistles', 'malign', 'temptations', 'necessary', 'perceived', '16', 'considered', 'conceived', 'greetings', 'tents', 'sells', 'buys', 'Greetings', 'kissed', 'wrath', 'talking', 'First', 'reconciled', 'gentle', 'lowly', 'souls', 'Afterward', 'Jotham', 'Ahaz', 'needs', 'sand', 'hairs', 'numbered', 'robber', 'capture', 'Day', 'footstool', '‘And', 'Indeed', 'prophecy', 'apart', 'torment', 'belly', 'dragged', 'governors', 'sternly', 'Honor', 'weak', 'payment', 'attention', 'farm', 'business', 'Cananaean', 'Eleazar', 'Matthan', 'Pharisee', 'denounce', 'repent', '‘Be', 'memory', 'daily', 'wondered', 'proceeds', 'Jericho', 'recline', 'dressed', 'soft', 'rushed', 'steep', 'bank', 'waters', 'although', 'daughterinlaw', 'illnesses', 'feeding', 'measures', 'flour', 'till', 'leavened', 'pouring', 'burial', 'uproar']\n"
          ]
        }
      ]
    },
    {
      "cell_type": "code",
      "source": [
        "def problem03(text):\n",
        "  dictionary = create_dictionary()\n",
        "  i = 0\n",
        "  print(\"Suggest words:\")\n",
        "  for w in dictionary:\n",
        "    if w.lower().startswith(text.lower()):\n",
        "      print(f\"{i + 1}. {w}\")\n",
        "      i += 1"
      ],
      "metadata": {
        "id": "ytWsitCa839H"
      },
      "execution_count": null,
      "outputs": []
    },
    {
      "cell_type": "code",
      "source": [
        "text = \"hel\"\n",
        "problem03(text)"
      ],
      "metadata": {
        "colab": {
          "base_uri": "https://localhost:8080/"
        },
        "id": "3l84K9RX9GTl",
        "outputId": "d785ea13-33ce-4bdc-be57-d279d5ec1f55"
      },
      "execution_count": null,
      "outputs": [
        {
          "output_type": "stream",
          "name": "stdout",
          "text": [
            "Suggest words:\n",
            "1. held\n",
            "2. helpless\n",
            "3. hell\n",
            "4. help\n"
          ]
        }
      ]
    }
  ]
}